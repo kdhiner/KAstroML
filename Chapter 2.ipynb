{
 "metadata": {
  "name": "Chapter 2"
 },
 "nbformat": 3,
 "nbformat_minor": 0,
 "worksheets": [
  {
   "cells": [
    {
     "cell_type": "markdown",
     "metadata": {},
     "source": [
      "# AstroML\n",
      "\n",
      "# Chapter 2 Fast Computation on Massive Data Sets"
     ]
    },
    {
     "cell_type": "markdown",
     "metadata": {},
     "source": [
      "#2.1 Data types and data management systems\n",
      "\n",
      "2.1.1 Data Types\n",
      "\n",
      "3 types - continuous, ordinal, nominal.\n",
      "\n",
      "Continuous - real numbers (e.g., temp, length, time)\n",
      "\n",
      "Ordinal - ranked variables - discrete values which can be ordered (e.g., spectral class)\n",
      "\n",
      "Nominal - categorical data are descriptive and unordered (e.g., galaxy morphology), often non-numeric"
     ]
    },
    {
     "cell_type": "markdown",
     "metadata": {},
     "source": [
      "2.1.2 Data management systems\n",
      "\n",
      "Relational databses - serve SQL queries quickly - good for unidimensional constraints, not multidimensional \n",
      "\n",
      "NoSQL and Hadoop - key-value pairs, plus parallel computing engine (e.g., MapReduce)\n",
      "\n",
      "SciDB - database management system optimized for array-based data such as astro images. "
     ]
    },
    {
     "cell_type": "markdown",
     "metadata": {},
     "source": [
      "#2.2 Analysis of algorithmic efficiency\n",
      "\n",
      "\"Big O\" notation - compare algorithms execution time as a function of data records.\n",
      "\n",
      "For example, an algorithm which has execution time linearly proportional to number of records is written O(N). Whereas one that has time proportional to log N is written O(logN).\n",
      "\n",
      "O notation considers on the order of growth, ignoring proportionality constants that may come from program language or speed of computer. \n",
      "\n",
      "Many algorithms are O(N^2) or O(N^3), but some are O(N) or O(N logN)"
     ]
    },
    {
     "cell_type": "markdown",
     "metadata": {},
     "source": [
      "#2.3 Seven types of computational problem\n",
      "\n",
      "1. Basic problems: simple stats (e.g., mean, variance/co-variance), one-d sorts, range search. O(N) or O(N logN)\n",
      "\n",
      "2. Generalized N-body problems: distances between pairs or higher order tuples (e.g., nearest neighbor search, correlation functions, kernel density estimates). --O(N^2) or O(N^3)\n",
      "\n",
      "3. Linear algebraic problems: eigenvalue problems, inverses. \n",
      "\n",
      "4. Optimization problems: Finding the minimum or maximum of a function. Unconstrained optimizations can be O(N). Constrained opt required by nonlinear support vector machines are O(N^3).\n",
      "\n",
      "5. Integration problems: Arise in estimation of Bayesian models. Markov chain Monte Carlo can be used for efficient high-dimensional integration and related computations\n",
      "\n",
      "6. Graph-theoretic problems: Traversals of graphs - probablilistic graphical models or nearest-neighbor graphs for manifold learning. Exponential computations are by far the most time consuming and generally must be avoided. Manifold learning and Clustering. \n",
      "\n",
      "7. Alignment problems: Matchings between two or more data objects or data sets. Worst-case cost is exponential in N. "
     ]
    },
    {
     "cell_type": "markdown",
     "metadata": {},
     "source": [
      "#2.4 Seven strategies for speeding things up\n",
      "\n",
      "1. Trees - pointwise comparisons require O(N^2). Trees chop up the space then prove that some parts can be ignored or approximated. \n",
      "\n",
      "2. Subproblem reuse - \"dyanamic programming\" and \"memoization\" avoid repeating work on subproblems by storing solutions and recalling them. Memory can be a bottleneck.\n",
      "\n",
      "3. Locality - Take into account the differences in latencies at various levels of the memory hierarchy of the network. \n",
      "\n",
      "4. Streaming - When data set is extremely large: Rearrange computation so that it is decomposed into operations that can be done one data point at a time. E.g. when new observations are obtained daily, or computation of the mean of a sample, where each value may be discarded before accessing the next. \n",
      "\n",
      "5. Function transformations - use simpler functions to achieve a more tractable representation. e.g., Taylor series approximations and fourier transforms. \n",
      "\n",
      "6. Sampling - reduces the number of data points for the computation\n",
      "\n",
      "7. Parallelism - multicore processors and cloud computing. MapReduce is a framework for parallelized computing. disadvantage is dificulty of programming and debugging parallel codes. Speedups are linear in the number of machines, while a better serial algorithm can yield several orders of magnitude in speedup on a single core. \n",
      "\n",
      "8. Problem transformation - Change the problem itself. Reformat so a faster algorithm can approach the problem. or reformulate a math program to create one which is easier to solve, e.g., the Lagrangian dual in the optimization of support vector machines. Create a new ML method. "
     ]
    },
    {
     "cell_type": "markdown",
     "metadata": {},
     "source": [
      "#2.5 Case Studies: Speedup Strategies in Practice"
     ]
    },
    {
     "cell_type": "markdown",
     "metadata": {},
     "source": [
      "2.5.1 Unidimensional searches and other problems\n",
      "\n",
      "Searching - \n",
      "\n",
      "SQL language of relational databases is good at expressing queries which are composed of unidimensional searches. Each of the unidimensional searches is often called a range search.\n",
      "\n",
      "Typical approach - one-dimensional tree data structure called a B-tree. Binary searches on an ordered list mean you make far fewer pair comparisons. \n",
      "\n",
      "Hash table data structure is an array, with input data mapped to array indices using a hash function. e.g., sorting of a data set in a pixelized grid. \n",
      "\n",
      "NumPy implememnts array-based searching and hashing. \n",
      "numpy.searchsorted scales as O(N logN)\n",
      "\n",
      "Sorting -\n",
      "\n",
      "built-in function sorted and the more efficient array sorting function numpysort are useful tools. \n",
      "\n",
      "numpy.sort uses quicksort algorithm which scales as O(N logN)"
     ]
    },
    {
     "cell_type": "code",
     "collapsed": false,
     "input": [
      "import numpy as np\n",
      "np.random.seed(0)\n",
      "x = np.random.rand(1E7)\n",
      "%time x.sort()  # time a single run\n",
      "\n",
      "print x"
     ],
     "language": "python",
     "metadata": {},
     "outputs": [
      {
       "output_type": "stream",
       "stream": "stdout",
       "text": [
        "CPU times: user 1.05 s, sys: 0.00 s, total: 1.05 s\n",
        "Wall time: 1.05 s\n",
        "[  2.51678389e-08   1.63714365e-07   1.89048978e-07 ...,   9.99999814e-01\n",
        "   9.99999837e-01   9.99999863e-01]\n"
       ]
      }
     ],
     "prompt_number": 1
    },
    {
     "cell_type": "code",
     "collapsed": false,
     "input": [
      "np.searchsorted(x, 0.5)"
     ],
     "language": "python",
     "metadata": {},
     "outputs": [
      {
       "output_type": "pyout",
       "prompt_number": 2,
       "text": [
        "4998210"
       ]
      }
     ],
     "prompt_number": 2
    },
    {
     "cell_type": "code",
     "collapsed": false,
     "input": [
      "%timeit np.searchsorted(x, 0.3)"
     ],
     "language": "python",
     "metadata": {},
     "outputs": [
      {
       "output_type": "stream",
       "stream": "stdout",
       "text": [
        "1000000 loops, best of 3: 1.07 us per loop\n"
       ]
      }
     ],
     "prompt_number": 4
    },
    {
     "cell_type": "code",
     "collapsed": false,
     "input": [
      "# Create an array of random numbers\n",
      "X = np.random.random((5,3))\n",
      "np.set_printoptions(precision=2)\n",
      "print X\n",
      "\n",
      "# sort the array\n",
      "i_sort = np.argsort(X[:, 0])\n",
      "print X[i_sort]"
     ],
     "language": "python",
     "metadata": {},
     "outputs": [
      {
       "output_type": "stream",
       "stream": "stdout",
       "text": [
        "[[ 0.96  0.92  1.  ]\n",
        " [ 0.71  0.22  0.63]\n",
        " [ 0.34  0.82  0.97]\n",
        " [ 0.33  0.98  0.44]\n",
        " [ 0.95  0.33  0.73]]\n",
        "[[ 0.33  0.98  0.44]\n",
        " [ 0.34  0.82  0.97]\n",
        " [ 0.71  0.22  0.63]\n",
        " [ 0.95  0.33  0.73]\n",
        " [ 0.96  0.92  1.  ]]\n"
       ]
      }
     ],
     "prompt_number": 5
    },
    {
     "cell_type": "code",
     "collapsed": false,
     "input": [
      "# sort array rows independently\n",
      "X.sort(0)\n",
      "print X"
     ],
     "language": "python",
     "metadata": {},
     "outputs": [
      {
       "output_type": "stream",
       "stream": "stdout",
       "text": [
        "[[ 0.33  0.22  0.44]\n",
        " [ 0.34  0.33  0.63]\n",
        " [ 0.71  0.82  0.73]\n",
        " [ 0.95  0.92  0.97]\n",
        " [ 0.96  0.98  1.  ]]\n"
       ]
      }
     ],
     "prompt_number": 6
    },
    {
     "cell_type": "markdown",
     "metadata": {},
     "source": [
      "# Figure 2.1"
     ]
    },
    {
     "cell_type": "code",
     "collapsed": false,
     "input": [
      "# Author: Jake VanderPlas\n",
      "# License: BSD\n",
      "#   The figure produced by this code is published in the textbook\n",
      "#   \"Statistics, Data Mining, and Machine Learning in Astronomy\" (2013)\n",
      "#   For more information, see http://astroML.github.com\n",
      "#   To report a bug or issue, use the following forum:\n",
      "#    https://groups.google.com/forum/#!forum/astroml-general\n",
      "from time import time\n",
      "import numpy as np\n",
      "from matplotlib import pyplot as plt\n",
      "\n",
      "\n",
      "#----------------------------------------------------------------------\n",
      "# This function adjusts matplotlib settings for a uniform feel in the textbook.\n",
      "# Note that with usetex=True, fonts are rendered with LaTeX.  This may\n",
      "# result in an error if LaTeX is not installed on your system.  In that case,\n",
      "# you can set usetex to False.\n",
      "from astroML.plotting import setup_text_plots\n",
      "setup_text_plots(fontsize=8, usetex=True)\n",
      "\n",
      "#------------------------------------------------------------\n",
      "# Compute the execution times as a function of array size\n",
      "Nsamples = 10 ** np.linspace(6.0, 7.8, 17)\n",
      "time_linear = np.zeros_like(Nsamples)\n",
      "time_binary = np.zeros_like(Nsamples)\n",
      "\n",
      "for i in range(len(Nsamples)):\n",
      "    # create a sorted array\n",
      "    x = np.arange(Nsamples[i], dtype=int)\n",
      "\n",
      "    # Linear search: choose a single item in the array\n",
      "    item = int(0.4 * Nsamples[i])\n",
      "\n",
      "    t0 = time()\n",
      "    j = np.where(x == item)\n",
      "    t1 = time()\n",
      "\n",
      "    time_linear[i] = t1 - t0\n",
      "\n",
      "    # Binary search: this is much faster, so choose 1000 items to search for\n",
      "    items = np.linspace(0, Nsamples[i], 1000).astype(int)\n",
      "\n",
      "    t0 = time()\n",
      "    j = np.searchsorted(x, items)\n",
      "    t1 = time()\n",
      "\n",
      "    time_binary[i] = (t1 - t0)\n",
      "\n",
      "#------------------------------------------------------------\n",
      "# Plot the results\n",
      "fig = plt.figure(figsize=(5, 3.75))\n",
      "fig.subplots_adjust(bottom=0.15)\n",
      "ax = plt.axes(xscale='log', yscale='log')\n",
      "ax.grid()\n",
      "\n",
      "# plot the observed times\n",
      "ax.plot(Nsamples, time_linear, 'ok', color='gray', markersize=5,\n",
      "        label=r'linear search $(\\mathcal{O}[N])$')\n",
      "ax.plot(Nsamples, time_binary, 'sk', color='gray', markersize=5,\n",
      "        label=r'efficient search $(\\mathcal{O}[\\log N])$')\n",
      "\n",
      "# plot the expected scaling\n",
      "scale = 10 ** np.linspace(5, 8, 100)\n",
      "scaling_N = scale * time_linear[7] / Nsamples[7]\n",
      "scaling_logN = np.log(scale) * time_binary[7] / np.log(Nsamples[7])\n",
      "ax.plot(scale, scaling_N, '--k')\n",
      "ax.plot(scale, scaling_logN, '--k')\n",
      "\n",
      "ax.set_xlim(9E5, 1E8)\n",
      "\n",
      "# add text and labels\n",
      "ax.set_title(\"Scaling of Search Algorithms\")\n",
      "ax.set_xlabel('Length of Array')\n",
      "ax.set_ylabel('Relative search time')\n",
      "ax.legend(loc='upper left')\n",
      "\n",
      "plt.show()"
     ],
     "language": "python",
     "metadata": {},
     "outputs": [
      {
       "ename": "ImportError",
       "evalue": "cannot import name setup_text_plots",
       "output_type": "pyerr",
       "traceback": [
        "\u001b[0;31m---------------------------------------------------------------------------\u001b[0m\n\u001b[0;31mImportError\u001b[0m                               Traceback (most recent call last)",
        "\u001b[0;32m<ipython-input-13-35ff8f0b0075>\u001b[0m in \u001b[0;36m<module>\u001b[0;34m()\u001b[0m\n\u001b[1;32m     16\u001b[0m \u001b[0;31m# result in an error if LaTeX is not installed on your system.  In that case,\u001b[0m\u001b[0;34m\u001b[0m\u001b[0;34m\u001b[0m\u001b[0m\n\u001b[1;32m     17\u001b[0m \u001b[0;31m# you can set usetex to False.\u001b[0m\u001b[0;34m\u001b[0m\u001b[0;34m\u001b[0m\u001b[0m\n\u001b[0;32m---> 18\u001b[0;31m \u001b[0;32mfrom\u001b[0m \u001b[0mastroML\u001b[0m\u001b[0;34m.\u001b[0m\u001b[0mplotting\u001b[0m \u001b[0;32mimport\u001b[0m \u001b[0msetup_text_plots\u001b[0m\u001b[0;34m\u001b[0m\u001b[0m\n\u001b[0m\u001b[1;32m     19\u001b[0m \u001b[0msetup_text_plots\u001b[0m\u001b[0;34m(\u001b[0m\u001b[0mfontsize\u001b[0m\u001b[0;34m=\u001b[0m\u001b[0;36m8\u001b[0m\u001b[0;34m,\u001b[0m \u001b[0musetex\u001b[0m\u001b[0;34m=\u001b[0m\u001b[0mTrue\u001b[0m\u001b[0;34m)\u001b[0m\u001b[0;34m\u001b[0m\u001b[0m\n\u001b[1;32m     20\u001b[0m \u001b[0;34m\u001b[0m\u001b[0m\n",
        "\u001b[0;31mImportError\u001b[0m: cannot import name setup_text_plots"
       ]
      }
     ],
     "prompt_number": 13
    },
    {
     "cell_type": "markdown",
     "metadata": {},
     "source": [
      "#Figure 2.2"
     ]
    },
    {
     "cell_type": "code",
     "collapsed": false,
     "input": [
      "# Author: Jake VanderPlas\n",
      "# License: BSD\n",
      "#   The figure produced by this code is published in the textbook\n",
      "#   \"Statistics, Data Mining, and Machine Learning in Astronomy\" (2013)\n",
      "#   For more information, see http://astroML.github.com\n",
      "#   To report a bug or issue, use the following forum:\n",
      "#    https://groups.google.com/forum/#!forum/astroml-general\n",
      "from time import time\n",
      "import numpy as np\n",
      "from matplotlib import pyplot as plt\n",
      "\n",
      "#----------------------------------------------------------------------\n",
      "# This function adjusts matplotlib settings for a uniform feel in the textbook.\n",
      "# Note that with usetex=True, fonts are rendered with LaTeX.  This may\n",
      "# result in an error if LaTeX is not installed on your system.  In that case,\n",
      "# you can set usetex to False.\n",
      "#from astroML.plotting import setup_text_plots\n",
      "#setup_text_plots(fontsize=8, usetex=True)\n",
      "\n",
      "#------------------------------------------------------------\n",
      "# Compute the execution times as a function of array size\n",
      "\n",
      "# time quick-sort of a numpy array\n",
      "N_npy = 10 ** np.linspace(5, 7, 10)\n",
      "time_npy = np.zeros_like(N_npy)\n",
      "\n",
      "for i in range(len(N_npy)):\n",
      "    x = np.random.random(int(N_npy[i]))\n",
      "    t0 = time()\n",
      "    x.sort(kind='quicksort')\n",
      "    t1 = time()\n",
      "    time_npy[i] = t1 - t0\n",
      "\n",
      "# time built-in sort of python list\n",
      "N_list = N_npy[:-3]\n",
      "time_list = np.zeros_like(N_list)\n",
      "\n",
      "for i in range(len(N_list)):\n",
      "    x = list(np.random.random(int(N_list[i])))\n",
      "    t0 = time()\n",
      "    x.sort()\n",
      "    t1 = time()\n",
      "    time_list[i] = t1 - t0\n",
      "\n",
      "#------------------------------------------------------------\n",
      "# Plot the results\n",
      "fig = plt.figure(figsize=(5, 3.75))\n",
      "fig.subplots_adjust(bottom=0.15)\n",
      "ax = plt.axes(xscale='log', yscale='log')\n",
      "ax.grid()\n",
      "\n",
      "# plot the observed times\n",
      "ax.plot(N_list, time_list, 'sk', color='gray', ms=5, label='list sort')\n",
      "ax.plot(N_npy, time_npy, 'ok', color='gray', ms=5, label='NumPy sort')\n",
      "\n",
      "# plot the expected scalings\n",
      "scale = np.linspace(N_npy[0] / 2, N_npy[-1] * 2, 100)\n",
      "scaling_N = scale * time_npy[0] / N_npy[0]\n",
      "scaling_NlogN = (scale * np.log2(scale) * time_npy[0]\n",
      "                 / N_npy[0] / np.log2(N_npy[0]))\n",
      "\n",
      "ax.plot(scale, scaling_NlogN, '--k', label=r'$\\mathcal{O}[N \\log N]$')\n",
      "ax.plot(scale, scaling_N, ':k', label=r'$\\mathcal{O}[N]$')\n",
      "\n",
      "scaling_N = scale * time_list[0] / N_list[0]\n",
      "scaling_NlogN = (scale * np.log2(scale) * time_list[0]\n",
      "                 / N_list[0] / np.log2(N_list[0]))\n",
      "\n",
      "ax.plot(scale, scaling_NlogN, '--k')\n",
      "ax.plot(scale, scaling_N, ':k')\n",
      "\n",
      "# Create titles and labels\n",
      "ax.set_title(\"Scaling of Sort Algorithms\")\n",
      "ax.set_xlabel('Length of Array')\n",
      "ax.set_ylabel('Relative sort time')\n",
      "plt.legend(loc='upper left')\n",
      "\n",
      "ax.set_xlim(scale[0], scale[-1])\n",
      "\n",
      "plt.show()"
     ],
     "language": "python",
     "metadata": {},
     "outputs": [
      {
       "ename": "ImportError",
       "evalue": "cannot import name setup_text_plots",
       "output_type": "pyerr",
       "traceback": [
        "\u001b[0;31m---------------------------------------------------------------------------\u001b[0m\n\u001b[0;31mImportError\u001b[0m                               Traceback (most recent call last)",
        "\u001b[0;32m<ipython-input-16-3089c17a2de0>\u001b[0m in \u001b[0;36m<module>\u001b[0;34m()\u001b[0m\n\u001b[1;32m     15\u001b[0m \u001b[0;31m# result in an error if LaTeX is not installed on your system.  In that case,\u001b[0m\u001b[0;34m\u001b[0m\u001b[0;34m\u001b[0m\u001b[0m\n\u001b[1;32m     16\u001b[0m \u001b[0;31m# you can set usetex to False.\u001b[0m\u001b[0;34m\u001b[0m\u001b[0;34m\u001b[0m\u001b[0m\n\u001b[0;32m---> 17\u001b[0;31m \u001b[0;32mfrom\u001b[0m \u001b[0mastroML\u001b[0m\u001b[0;34m.\u001b[0m\u001b[0mplotting\u001b[0m \u001b[0;32mimport\u001b[0m \u001b[0msetup_text_plots\u001b[0m\u001b[0;34m\u001b[0m\u001b[0m\n\u001b[0m\u001b[1;32m     18\u001b[0m \u001b[0msetup_text_plots\u001b[0m\u001b[0;34m(\u001b[0m\u001b[0mfontsize\u001b[0m\u001b[0;34m=\u001b[0m\u001b[0;36m8\u001b[0m\u001b[0;34m,\u001b[0m \u001b[0musetex\u001b[0m\u001b[0;34m=\u001b[0m\u001b[0mTrue\u001b[0m\u001b[0;34m)\u001b[0m\u001b[0;34m\u001b[0m\u001b[0m\n\u001b[1;32m     19\u001b[0m \u001b[0;34m\u001b[0m\u001b[0m\n",
        "\u001b[0;31mImportError\u001b[0m: cannot import name setup_text_plots"
       ]
      }
     ],
     "prompt_number": 16
    },
    {
     "cell_type": "code",
     "collapsed": false,
     "input": [],
     "language": "python",
     "metadata": {},
     "outputs": [],
     "prompt_number": 15
    },
    {
     "cell_type": "code",
     "collapsed": false,
     "input": [],
     "language": "python",
     "metadata": {},
     "outputs": []
    }
   ],
   "metadata": {}
  }
 ]
}