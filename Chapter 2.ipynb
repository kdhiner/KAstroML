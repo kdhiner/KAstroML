{
 "metadata": {
  "name": "Chapter 2"
 },
 "nbformat": 3,
 "nbformat_minor": 0,
 "worksheets": [
  {
   "cells": [
    {
     "cell_type": "markdown",
     "metadata": {},
     "source": [
      "# AstroML\n",
      "\n",
      "# Chapter 2 Fast Computation on Massive Data Sets"
     ]
    },
    {
     "cell_type": "markdown",
     "metadata": {},
     "source": [
      "#2.1 Data types and data management systems\n",
      "\n",
      "2.1.1 Data Types\n",
      "\n",
      "3 types - continuous, ordinal, nominal.\n",
      "\n",
      "Continuous - real numbers (e.g., temp, length, time)\n",
      "\n",
      "Ordinal - ranked variables - discrete values which can be ordered (e.g., spectral class)\n",
      "\n",
      "Nominal - categorical data are descriptive and unordered (e.g., galaxy morphology), often non-numeric"
     ]
    },
    {
     "cell_type": "markdown",
     "metadata": {},
     "source": [
      "2.1.2 Data management systems\n",
      "\n",
      "Relational databses - serve SQL queries quickly - good for unidimensional constraints, not multidimensional \n",
      "\n",
      "NoSQL and Hadoop - key-value pairs, plus parallel computing engine (e.g., MapReduce)\n",
      "\n",
      "SciDB - database management system optimized for array-based data such as astro images. "
     ]
    },
    {
     "cell_type": "markdown",
     "metadata": {},
     "source": [
      "#2.2 Analysis of algorithmic efficiency\n",
      "\n",
      "\"Big O\" notation - compare algorithms execution time as a function of data records.\n",
      "\n",
      "For example, an algorithm which has execution time linearly proportional to number of records is written O(N). Whereas one that has time proportional to log N is written O(logN).\n",
      "\n",
      "O notation considers on the order of growth, ignoring proportionality constants that may come from program language or speed of computer. \n",
      "\n",
      "Many algorithms are O(N^2) or O(N^3), but some are O(N) or O(N logN)"
     ]
    },
    {
     "cell_type": "markdown",
     "metadata": {},
     "source": [
      "#2.3 Seven types of computational problem\n",
      "\n",
      "1. Basic problems: simple stats (e.g., mean, variance/co-variance), one-d sorts, range search. O(N) or O(N logN)\n",
      "\n",
      "2. Generalized N-body problems: distances between pairs or higher order tuples (e.g., nearest neighbor search, correlation functions, kernel density estimates). --O(N^2) or O(N^3)\n",
      "\n",
      "3. Linear algebraic problems: eigenvalue problems, inverses. \n",
      "\n",
      "4. Optimization problems: Finding the minimum or maximum of a function. Unconstrained optimizations can be O(N). Constrained opt required by nonlinear support vector machines are O(N^3).\n",
      "\n",
      "5. Integration problems: Arise in estimation of Bayesian models. Markov chain Monte Carlo can be used for efficient high-dimensional integration and related computations\n",
      "\n",
      "6. Graph-theoretic problems: Traversals of graphs - probablilistic graphical models or nearest-neighbor graphs for manifold learning. Exponential computations are by far the most time consuming and generally must be avoided. Manifold learning and Clustering. \n",
      "\n",
      "7. Alignment problems: Matchings between two or more data objects or data sets. Worst-case cost is exponential in N. "
     ]
    },
    {
     "cell_type": "code",
     "collapsed": false,
     "input": [],
     "language": "python",
     "metadata": {},
     "outputs": []
    }
   ],
   "metadata": {}
  }
 ]
}