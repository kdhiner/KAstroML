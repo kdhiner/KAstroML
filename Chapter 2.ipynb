{
 "metadata": {
  "name": "Chapter 2"
 },
 "nbformat": 3,
 "nbformat_minor": 0,
 "worksheets": [
  {
   "cells": [
    {
     "cell_type": "markdown",
     "metadata": {},
     "source": [
      "# AstroML\n",
      "\n",
      "# Chapter 2 Fast Computation on Massive Data Sets"
     ]
    },
    {
     "cell_type": "markdown",
     "metadata": {},
     "source": [
      "#2.1 Data types and data management systems\n",
      "\n",
      "2.1.1 Data Types\n",
      "\n",
      "3 types - continuous, ordinal, nominal.\n",
      "\n",
      "Continuous - real numbers (e.g., temp, length, time)\n",
      "\n",
      "Ordinal - ranked variables - discrete values which can be ordered (e.g., spectral class)\n",
      "\n",
      "Nominal - categorical data are descriptive and unordered (e.g., galaxy morphology), often non-numeric"
     ]
    },
    {
     "cell_type": "markdown",
     "metadata": {},
     "source": [
      "2.1.2 Data management systems\n",
      "\n",
      "Relational databses - serve SQL queries quickly - good for unidimensional constraints, not multidimensional \n",
      "\n",
      "NoSQL and Hadoop - key-value pairs, plus parallel computing engine (e.g., MapReduce)\n",
      "\n",
      "SciDB - database management system optimized for array-based data such as astro images. "
     ]
    },
    {
     "cell_type": "markdown",
     "metadata": {},
     "source": [
      "#2.2 Analysis of algorithmic efficiency\n",
      "\n",
      "\"Big O\" notation - compare algorithms execution time as a function of data records.\n",
      "\n",
      "For example, an algorithm which has execution time linearly proportional to number of records is written O(N). Whereas one that has time proportional to log N is written O(logN).\n",
      "\n",
      "O notation considers on the order of growth, ignoring proportionality constants that may come from program language or speed of computer. \n",
      "\n",
      "Many algorithms are O(N^2) or O(N^3), but some are O(N) or O(N logN)"
     ]
    },
    {
     "cell_type": "markdown",
     "metadata": {},
     "source": [
      "#2.3 Seven types of computational problem\n",
      "\n",
      "1. Basic problems: simple stats (e.g., mean, variance/co-variance), one-d sorts, range search. O(N) or O(N logN)\n",
      "\n",
      "2. Generalized N-body problems: distances between pairs or higher order tuples (e.g., nearest neighbor search, correlation functions, kernel density estimates). --O(N^2) or O(N^3)\n",
      "\n",
      "3. Linear algebraic problems: eigenvalue problems, inverses. \n",
      "\n",
      "4. Optimization problems: Finding the minimum or maximum of a function. Unconstrained optimizations can be O(N). Constrained opt required by nonlinear support vector machines are O(N^3).\n",
      "\n",
      "5. Integration problems: Arise in estimation of Bayesian models. Markov chain Monte Carlo can be used for efficient high-dimensional integration and related computations\n",
      "\n",
      "6. Graph-theoretic problems: Traversals of graphs - probablilistic graphical models or nearest-neighbor graphs for manifold learning. Exponential computations are by far the most time consuming and generally must be avoided. Manifold learning and Clustering. \n",
      "\n",
      "7. Alignment problems: Matchings between two or more data objects or data sets. Worst-case cost is exponential in N. "
     ]
    },
    {
     "cell_type": "markdown",
     "metadata": {},
     "source": [
      "#2.4 Seven strategies for speeding things up\n",
      "\n",
      "1. Trees - pointwise comparisons require O(N^2). Trees chop up the space then prove that some parts can be ignored or approximated. \n",
      "\n",
      "2. Subproblem reuse - \"dyanamic programming\" and \"memoization\" avoid repeating work on subproblems by storing solutions and recalling them. Memory can be a bottleneck.\n",
      "\n",
      "3. Locality - Take into account the differences in latencies at various levels of the memory hierarchy of the network. \n",
      "\n",
      "4. Streaming - When data set is extremely large: Rearrange computation so that it is decomposed into operations that can be done one data point at a time. E.g. when new observations are obtained daily, or computation of the mean of a sample, where each value may be discarded before accessing the next. \n",
      "\n",
      "5. Function transformations - use simpler functions to achieve a more tractable representation. e.g., Taylor series approximations and fourier transforms. \n",
      "\n",
      "6. Sampling - reduces the number of data points for the computation\n",
      "\n",
      "7. Parallelism - multicore processors and cloud computing. MapReduce is a framework for parallelized computing. disadvantage is dificulty of programming and debugging parallel codes. Speedups are linear in the number of machines, while a better serial algorithm can yield several orders of magnitude in speedup on a single core. \n",
      "\n",
      "8. Problem transformation - Change the problem itself. Reformat so a faster algorithm can approach the problem. or reformulate a math program to create one which is easier to solve, e.g., the Lagrangian dual in the optimization of support vector machines. Create a new ML method. "
     ]
    },
    {
     "cell_type": "markdown",
     "metadata": {},
     "source": [
      "#2.5 Case Studies: Speedup Strategies in Practice"
     ]
    },
    {
     "cell_type": "markdown",
     "metadata": {},
     "source": [
      "2.5.1 Unidimensional searches and other problems\n",
      "\n",
      "Searching - \n",
      "\n",
      "SQL language of relational databases is good at expressing queries which are composed of unidimensional searches. Each of the unidimensional searches is often called a range search.\n",
      "\n",
      "Typical approach - one-dimensional tree data structure called a B-tree. Binary searches on an ordered list mean you make far fewer pair comparisons. \n",
      "\n",
      "Hash table data structure is an array, with input data mapped to array indices using a hash function. e.g., sorting of a data set in a pixelized grid. \n",
      "\n",
      "NumPy implememnts array-based searching and hashing. \n",
      "numpy.searchsorted scales as O(N logN)\n",
      "\n",
      "Sorting -\n",
      "\n",
      "built-in function sorted and the more efficient array sorting function numpysort are useful tools. \n",
      "\n",
      "numpy.sort uses quicksort algorithm which scales as O(N logN)"
     ]
    },
    {
     "cell_type": "code",
     "collapsed": false,
     "input": [
      "import numpy as np\n",
      "np.random.seed(0)\n",
      "x = np.random.rand(1E7)\n",
      "%time x.sort()  # time a single run\n",
      "\n",
      "print x"
     ],
     "language": "python",
     "metadata": {},
     "outputs": [
      {
       "output_type": "stream",
       "stream": "stdout",
       "text": [
        "CPU times: user 1.04 s, sys: 0.00 s, total: 1.04 s\n",
        "Wall time: 1.04 s\n",
        "[  2.51678389e-08   1.63714365e-07   1.89048978e-07 ...,   9.99999814e-01\n",
        "   9.99999837e-01   9.99999863e-01]\n"
       ]
      }
     ],
     "prompt_number": 1
    },
    {
     "cell_type": "code",
     "collapsed": false,
     "input": [
      "np.searchsorted(x, 0.5)"
     ],
     "language": "python",
     "metadata": {},
     "outputs": [
      {
       "output_type": "pyout",
       "prompt_number": 2,
       "text": [
        "4998210"
       ]
      }
     ],
     "prompt_number": 2
    },
    {
     "cell_type": "code",
     "collapsed": false,
     "input": [
      "%timeit np.searchsorted(x, 0.3)"
     ],
     "language": "python",
     "metadata": {},
     "outputs": [
      {
       "output_type": "stream",
       "stream": "stdout",
       "text": [
        "1000000 loops, best of 3: 1.1 us per loop\n"
       ]
      }
     ],
     "prompt_number": 3
    },
    {
     "cell_type": "code",
     "collapsed": false,
     "input": [
      "# Create an array of random numbers\n",
      "X = np.random.random((5,3))\n",
      "np.set_printoptions(precision=2)\n",
      "print X\n",
      "\n",
      "# sort the array\n",
      "i_sort = np.argsort(X[:, 0])\n",
      "print X[i_sort]"
     ],
     "language": "python",
     "metadata": {},
     "outputs": [
      {
       "output_type": "stream",
       "stream": "stdout",
       "text": [
        "[[ 0.96  0.92  1.  ]\n",
        " [ 0.71  0.22  0.63]\n",
        " [ 0.34  0.82  0.97]\n",
        " [ 0.33  0.98  0.44]\n",
        " [ 0.95  0.33  0.73]]\n",
        "[[ 0.33  0.98  0.44]\n",
        " [ 0.34  0.82  0.97]\n",
        " [ 0.71  0.22  0.63]\n",
        " [ 0.95  0.33  0.73]\n",
        " [ 0.96  0.92  1.  ]]\n"
       ]
      }
     ],
     "prompt_number": 4
    },
    {
     "cell_type": "code",
     "collapsed": false,
     "input": [
      "# sort array rows independently\n",
      "X.sort(0)\n",
      "print X"
     ],
     "language": "python",
     "metadata": {},
     "outputs": [
      {
       "output_type": "stream",
       "stream": "stdout",
       "text": [
        "[[ 0.33  0.22  0.44]\n",
        " [ 0.34  0.33  0.63]\n",
        " [ 0.71  0.82  0.73]\n",
        " [ 0.95  0.92  0.97]\n",
        " [ 0.96  0.98  1.  ]]\n"
       ]
      }
     ],
     "prompt_number": 5
    },
    {
     "cell_type": "markdown",
     "metadata": {},
     "source": [
      "# Figure 2.1"
     ]
    },
    {
     "cell_type": "code",
     "collapsed": false,
     "input": [
      "# Author: Jake VanderPlas\n",
      "# License: BSD\n",
      "#   The figure produced by this code is published in the textbook\n",
      "#   \"Statistics, Data Mining, and Machine Learning in Astronomy\" (2013)\n",
      "#   For more information, see http://astroML.github.com\n",
      "#   To report a bug or issue, use the following forum:\n",
      "#    https://groups.google.com/forum/#!forum/astroml-general\n",
      "from time import time\n",
      "import numpy as np\n",
      "from matplotlib import pyplot as plt\n",
      "\n",
      "\n",
      "#----------------------------------------------------------------------\n",
      "# This function adjusts matplotlib settings for a uniform feel in the textbook.\n",
      "# Note that with usetex=True, fonts are rendered with LaTeX.  This may\n",
      "# result in an error if LaTeX is not installed on your system.  In that case,\n",
      "# you can set usetex to False.\n",
      "from astroML.plotting import setup_text_plots\n",
      "setup_text_plots(fontsize=12, usetex=True)\n",
      "\n",
      "#------------------------------------------------------------\n",
      "# Compute the execution times as a function of array size\n",
      "Nsamples = 10 ** np.linspace(6.0, 7.8, 17)\n",
      "time_linear = np.zeros_like(Nsamples)\n",
      "time_binary = np.zeros_like(Nsamples)\n",
      "\n",
      "for i in range(len(Nsamples)):\n",
      "    # create a sorted array\n",
      "    x = np.arange(Nsamples[i], dtype=int)\n",
      "\n",
      "    # Linear search: choose a single item in the array\n",
      "    item = int(0.4 * Nsamples[i])\n",
      "\n",
      "    t0 = time()\n",
      "    j = np.where(x == item)\n",
      "    t1 = time()\n",
      "\n",
      "    time_linear[i] = t1 - t0\n",
      "\n",
      "    # Binary search: this is much faster, so choose 1000 items to search for\n",
      "    items = np.linspace(0, Nsamples[i], 1000).astype(int)\n",
      "\n",
      "    t0 = time()\n",
      "    j = np.searchsorted(x, items)\n",
      "    t1 = time()\n",
      "\n",
      "    time_binary[i] = (t1 - t0)\n",
      "\n",
      "#------------------------------------------------------------\n",
      "# Plot the results\n",
      "fig = plt.figure(figsize=(5, 3.75))\n",
      "fig.subplots_adjust(bottom=0.15)\n",
      "ax = plt.axes(xscale='log', yscale='log')\n",
      "ax.grid()\n",
      "\n",
      "# plot the observed times\n",
      "ax.plot(Nsamples, time_linear, 'ok', color='gray', markersize=5,\n",
      "        label=r'linear search $(\\mathcal{O}[N])$')\n",
      "ax.plot(Nsamples, time_binary, 'sk', color='gray', markersize=5,\n",
      "        label=r'efficient search $(\\mathcal{O}[\\log N])$')\n",
      "\n",
      "# plot the expected scaling\n",
      "scale = 10 ** np.linspace(5, 8, 100)\n",
      "scaling_N = scale * time_linear[7] / Nsamples[7]\n",
      "scaling_logN = np.log(scale) * time_binary[7] / np.log(Nsamples[7])\n",
      "ax.plot(scale, scaling_N, '--k')\n",
      "ax.plot(scale, scaling_logN, '--k')\n",
      "\n",
      "ax.set_xlim(9E5, 1E8)\n",
      "\n",
      "# add text and labels\n",
      "ax.set_title(\"Scaling of Search Algorithms\")\n",
      "ax.set_xlabel('Length of Array')\n",
      "ax.set_ylabel('Relative search time')\n",
      "ax.legend(loc='upper left')\n",
      "\n",
      "plt.show()"
     ],
     "language": "python",
     "metadata": {},
     "outputs": [
      {
       "output_type": "display_data",
       "png": "[encoded data removed]"
      }
     ],
     "prompt_number": 1
    },
    {
     "cell_type": "markdown",
     "metadata": {},
     "source": [
      "#Figure 2.2"
     ]
    },
    {
     "cell_type": "code",
     "collapsed": false,
     "input": [
      "# Author: Jake VanderPlas\n",
      "# License: BSD\n",
      "#   The figure produced by this code is published in the textbook\n",
      "#   \"Statistics, Data Mining, and Machine Learning in Astronomy\" (2013)\n",
      "#   For more information, see http://astroML.github.com\n",
      "#   To report a bug or issue, use the following forum:\n",
      "#    https://groups.google.com/forum/#!forum/astroml-general\n",
      "from time import time\n",
      "import numpy as np\n",
      "from matplotlib import pyplot as plt\n",
      "\n",
      "#----------------------------------------------------------------------\n",
      "# This function adjusts matplotlib settings for a uniform feel in the textbook.\n",
      "# Note that with usetex=True, fonts are rendered with LaTeX.  This may\n",
      "# result in an error if LaTeX is not installed on your system.  In that case,\n",
      "# you can set usetex to False.\n",
      "from astroML.plotting import setup_text_plots\n",
      "setup_text_plots(fontsize=12, usetex=True)\n",
      "\n",
      "#------------------------------------------------------------\n",
      "# Compute the execution times as a function of array size\n",
      "\n",
      "# time quick-sort of a numpy array\n",
      "N_npy = 10 ** np.linspace(5, 7, 10)\n",
      "time_npy = np.zeros_like(N_npy)\n",
      "\n",
      "for i in range(len(N_npy)):\n",
      "    x = np.random.random(int(N_npy[i]))\n",
      "    t0 = time()\n",
      "    x.sort(kind='quicksort')\n",
      "    t1 = time()\n",
      "    time_npy[i] = t1 - t0\n",
      "\n",
      "# time built-in sort of python list\n",
      "N_list = N_npy[:-3]\n",
      "time_list = np.zeros_like(N_list)\n",
      "\n",
      "for i in range(len(N_list)):\n",
      "    x = list(np.random.random(int(N_list[i])))\n",
      "    t0 = time()\n",
      "    x.sort()\n",
      "    t1 = time()\n",
      "    time_list[i] = t1 - t0\n",
      "\n",
      "#------------------------------------------------------------\n",
      "# Plot the results\n",
      "fig = plt.figure(figsize=(5, 3.75))\n",
      "fig.subplots_adjust(bottom=0.15)\n",
      "ax = plt.axes(xscale='log', yscale='log')\n",
      "ax.grid()\n",
      "\n",
      "# plot the observed times\n",
      "ax.plot(N_list, time_list, 'sk', color='gray', ms=5, label='list sort')\n",
      "ax.plot(N_npy, time_npy, 'ok', color='gray', ms=5, label='NumPy sort')\n",
      "\n",
      "# plot the expected scalings\n",
      "scale = np.linspace(N_npy[0] / 2, N_npy[-1] * 2, 100)\n",
      "scaling_N = scale * time_npy[0] / N_npy[0]\n",
      "scaling_NlogN = (scale * np.log2(scale) * time_npy[0]\n",
      "                 / N_npy[0] / np.log2(N_npy[0]))\n",
      "\n",
      "ax.plot(scale, scaling_NlogN, '--k', label=r'$\\mathcal{O}[N \\log N]$')\n",
      "ax.plot(scale, scaling_N, ':k', label=r'$\\mathcal{O}[N]$')\n",
      "\n",
      "scaling_N = scale * time_list[0] / N_list[0]\n",
      "scaling_NlogN = (scale * np.log2(scale) * time_list[0]\n",
      "                 / N_list[0] / np.log2(N_list[0]))\n",
      "\n",
      "ax.plot(scale, scaling_NlogN, '--k')\n",
      "ax.plot(scale, scaling_N, ':k')\n",
      "\n",
      "# Create titles and labels\n",
      "ax.set_title(\"Scaling of Sort Algorithms\")\n",
      "ax.set_xlabel('Length of Array')\n",
      "ax.set_ylabel('Relative sort time')\n",
      "plt.legend(loc='upper left')\n",
      "\n",
      "ax.set_xlim(scale[0], scale[-1])\n",
      "\n",
      "plt.show()"
     ],
     "language": "python",
     "metadata": {},
     "outputs": [
      {
       "output_type": "display_data",
       "png": "[encoded data removed]"
      }
     ],
     "prompt_number": 2
    },
    {
     "cell_type": "markdown",
     "metadata": {},
     "source": [
      "2.5.2 Multidimensional Searches and Other Operations\n",
      "\n",
      "Generalized N-body problems - most efficient way to accurately perform such computations is via multidimensional trees. Begin by building an indexing structure analogous to the B-trees which accelerate SQL queries. \n",
      "\n",
      "A single tree for a data set can be used to increase the efficiency of many ML methods. \n",
      "\n",
      "Nearest-neighbor searches\n",
      "\n",
      "Given an N x D matrix X representing N points (vectors) in D dimensions, i = 1, ..., N and d = 1, ..., D, so x_i,d describes the ith point in X. \n",
      "\n",
      "Given a query point x, we want to find the closest point in X under a given distance metric. For simplicity, we will use Euclidean \n",
      "\n",
      "D(x,x_i) = sqrt( sum(x_d - x_i,d)**2 )\n",
      "\n",
      "Goal of the computation is to find \n",
      "\n",
      "x* = arg min_i D(x, x_i)\n",
      "\n",
      "In principle can compute the distance to every point and then take the minimum. "
     ]
    },
    {
     "cell_type": "code",
     "collapsed": false,
     "input": [
      "# file: easy_nearest_neighbor.py\n",
      "import numpy as np\n",
      "\n",
      "def easy_nn(X):\n",
      "    '''Returns array of length N with values equal to the point nearest to the point in X'''\n",
      "    N, D = X.shape\n",
      "    neighbors = np.zeros(N, dtype=int)\n",
      "    \n",
      "    for i in range(N):\n",
      "        # initialize closest distance to infinity\n",
      "        j_closest = i\n",
      "        d_closest = np.inf\n",
      "        \n",
      "        for j in range(N):\n",
      "            # skip distance between a point and itself\n",
      "            if i == j:\n",
      "                continue\n",
      "            d = np.sqrt(np.sum((X[i] - X[j]) ** 2)) # note np.sum will sum across dimensions\n",
      "            if d < d_closest:\n",
      "                j_closest = j\n",
      "                d_closest = d\n",
      "        \n",
      "        neighbors[i] = j_closest\n",
      "    \n",
      "    return neighbors"
     ],
     "language": "python",
     "metadata": {},
     "outputs": [],
     "prompt_number": 7
    },
    {
     "cell_type": "code",
     "collapsed": false,
     "input": [
      "import numpy as np\n",
      "\n",
      "np.random.seed(0)\n",
      "\n",
      "#from easy_nearest_neighbor import easy_nn\n",
      "\n",
      "X = np.random.random((10, 3)) # 10 points in 3 dimensions\n",
      "\n",
      "easy_nn(X)"
     ],
     "language": "python",
     "metadata": {},
     "outputs": [
      {
       "output_type": "pyout",
       "prompt_number": 8,
       "text": [
        "array([3, 7, 6, 0, 3, 1, 2, 1, 3, 7])"
       ]
      }
     ],
     "prompt_number": 8
    },
    {
     "cell_type": "code",
     "collapsed": false,
     "input": [
      "X = np.random.random((1000, 3)) # 1000 points in 3 dimensions\n",
      "%timeit easy_nn(X)"
     ],
     "language": "python",
     "metadata": {},
     "outputs": [
      {
       "output_type": "stream",
       "stream": "stdout",
       "text": [
        "1 loops, best of 3: 5.18 s per loop\n"
       ]
      }
     ],
     "prompt_number": 9
    },
    {
     "cell_type": "code",
     "collapsed": false,
     "input": [
      "X = np.random.random((10, 3)) # 10 points in 3 dimensions\n",
      "X.shape"
     ],
     "language": "python",
     "metadata": {},
     "outputs": [
      {
       "output_type": "pyout",
       "prompt_number": 2,
       "text": [
        "(10, 3)"
       ]
      }
     ],
     "prompt_number": 2
    },
    {
     "cell_type": "code",
     "collapsed": false,
     "input": [
      "print X[3]\n",
      "print X[4]\n",
      "print sqrt(np.sum((X[3] - X[4])**2))"
     ],
     "language": "python",
     "metadata": {},
     "outputs": [
      {
       "output_type": "stream",
       "stream": "stdout",
       "text": [
        "[ 0.95080212  0.03487401  0.0397178 ]\n",
        "[ 0.06069308  0.98908452  0.83014177]\n",
        "1.52564146229\n"
       ]
      }
     ],
     "prompt_number": 3
    },
    {
     "cell_type": "markdown",
     "metadata": {},
     "source": [
      "This computation goes as O(N^2) for N points - if the sample size increases by 10, the computation time increases by 100. \n",
      "\n",
      "The above solution uses loops instead of a vectorized implementation to compute the distances. \n",
      "\n",
      "To get the vectorized notation expand the (X_ik - X_jk)**2 term and convert to matrix notation."
     ]
    },
    {
     "cell_type": "code",
     "collapsed": false,
     "input": [
      "import numpy as np\n",
      "\n",
      "def vectorized_nn(X):\n",
      "    '''Use a vectorized matrix method to calculate the nearest neighbor'''\n",
      "    XXT = np.dot(X, X.T)\n",
      "    Xii = XXT.diagonal()\n",
      "    \n",
      "    D = Xii - 2 * XXT + Xii[:, np.newaxis]\n",
      "    \n",
      "    # numpy.argsort returns sorted indices along a given axis\n",
      "    # we'll take the second column (index 1) because the first\n",
      "    # column corresponds to the distance between each point and itself\n",
      "    \n",
      "    return np.argsort(D, axis=1)[:, 1]\n"
     ],
     "language": "python",
     "metadata": {},
     "outputs": [],
     "prompt_number": 4
    },
    {
     "cell_type": "code",
     "collapsed": false,
     "input": [
      "np.random.seed(0)\n",
      "\n",
      "X = np.random.random((10, 3))\n",
      "\n",
      "vectorized_nn(X)"
     ],
     "language": "python",
     "metadata": {},
     "outputs": [
      {
       "output_type": "pyout",
       "prompt_number": 5,
       "text": [
        "array([3, 7, 6, 0, 3, 1, 2, 1, 3, 7])"
       ]
      }
     ],
     "prompt_number": 5
    },
    {
     "cell_type": "code",
     "collapsed": false,
     "input": [
      "X = np.random.random((1000, 3))\n",
      "%timeit vectorized_nn(X)"
     ],
     "language": "python",
     "metadata": {},
     "outputs": [
      {
       "output_type": "stream",
       "stream": "stdout",
       "text": [
        "10 loops, best of 3: 63.7 ms per loop\n"
       ]
      }
     ],
     "prompt_number": 6
    },
    {
     "cell_type": "markdown",
     "metadata": {},
     "source": [
      "Direct method was 5.18 s per loop, whereas the vectorized method was 63.7 ms per loop. That's a factor of 81 faster. \n",
      "\n",
      "The vectorized implementation requires a large amount of memory. For N points, we allocate two N x N matrices, so memory allocation is proportional to N^2. \n",
      "\n",
      "More subtle: because computation is in separate parts, the machine floating-point precision can lead to unexpected results. "
     ]
    },
    {
     "cell_type": "code",
     "collapsed": false,
     "input": [
      "x = 1.0\n",
      "y = 0.0\n",
      "\n",
      "print 'non-vectorized distance'\n",
      "print np.sqrt((x - y) ** 2) # how we computed non vectorized distance\n",
      "\n",
      "print 'vectorized distance'\n",
      "print np.sqrt(x**2 + y**2 - 2*x*y) # how we computed vectorized distance"
     ],
     "language": "python",
     "metadata": {},
     "outputs": [
      {
       "output_type": "stream",
       "stream": "stdout",
       "text": [
        "non-vectorized distance\n",
        "1.0\n",
        "vectorized distance\n",
        "1.0\n"
       ]
      }
     ],
     "prompt_number": 11
    },
    {
     "cell_type": "code",
     "collapsed": false,
     "input": [
      "x += 100000000\n",
      "y += 100000000\n",
      "\n",
      "print 'non-vectorized distance'\n",
      "print np.sqrt((x - y) ** 2) # how we computed non vectorized distance\n",
      "\n",
      "print 'vectorized distance'\n",
      "print np.sqrt(x**2 + y**2 - 2*x*y) # how we computed vectorized distance"
     ],
     "language": "python",
     "metadata": {},
     "outputs": [
      {
       "output_type": "stream",
       "stream": "stdout",
       "text": [
        "non-vectorized distance\n",
        "1.0\n",
        "vectorized distance\n",
        "0.0\n"
       ]
      }
     ],
     "prompt_number": 12
    },
    {
     "cell_type": "markdown",
     "metadata": {},
     "source": [
      "The above shows how the difference of slightly different very large numbers leads to rounding errors. \n",
      "\n",
      "Disatvantages of vectorized method:\n",
      "\n",
      "Computational efficiency still scales as O(N^2) - even though it is faster the scaling is the same\n",
      "\n",
      "Memory also scales as O(N^2)\n",
      "\n",
      "Roundoff error due to vectorization tricks can cause incorrect results\n",
      "\n",
      "This method is called \"brute force\", \"exhaustive\", or \"naive\". "
     ]
    },
    {
     "cell_type": "markdown",
     "metadata": {},
     "source": [
      "Trees for increaseing the efficiency of a search\n",
      "\n",
      "Quad-trees and oct-trees work in two and three dimensions, respectively.\n",
      "\n",
      "Quad-tree - simple data structure used to arrange two-dimensional data. Each tree node has 4 children. Visualize with Fig. 2.3. Oct-tree nodes have 8 children representing the eight quadrants of three-dimensional space. \n",
      "\n",
      "Progressively constrain the distance between a test point adn groups of points in a tree using bounding box of each group. If the lower bound is not better than the best-candidate nearest-neighbor distance the algorithm knows about so far, it can prune the group completely from the search. \n",
      "\n",
      "Under certain conditions the cost of the nearest-neighbor search reduces to O(log N). \n",
      "\n",
      "The tree iteslf is a one-time build operation and takes O(N log N) time to construct. "
     ]
    },
    {
     "cell_type": "code",
     "collapsed": false,
     "input": [
      "# Author: Jake VanderPlas\n",
      "# License: BSD\n",
      "#   The figure produced by this code is published in the textbook\n",
      "#   \"Statistics, Data Mining, and Machine Learning in Astronomy\" (2013)\n",
      "#   For more information, see http://astroML.github.com\n",
      "#   To report a bug or issue, use the following forum:\n",
      "#    https://groups.google.com/forum/#!forum/astroml-general\n",
      "import numpy as np\n",
      "from matplotlib import pyplot as plt\n",
      "\n",
      "#----------------------------------------------------------------------\n",
      "# This function adjusts matplotlib settings for a uniform feel in the textbook.\n",
      "# Note that with usetex=True, fonts are rendered with LaTeX.  This may\n",
      "# result in an error if LaTeX is not installed on your system.  In that case,\n",
      "# you can set usetex to False.\n",
      "from astroML.plotting import setup_text_plots\n",
      "setup_text_plots(fontsize=12, usetex=True)\n",
      "\n",
      "\n",
      "# We'll create a QuadTree class which will recursively subdivide the\n",
      "# space into quadrants\n",
      "class QuadTree:\n",
      "    \"\"\"Simple Quad-tree class\"\"\"\n",
      "\n",
      "    # class initialization function\n",
      "    def __init__(self, data, mins, maxs, depth=3):\n",
      "        self.data = np.asarray(data)\n",
      "\n",
      "        # data should be two-dimensional\n",
      "        assert self.data.shape[1] == 2\n",
      "\n",
      "        if mins is None:\n",
      "            mins = data.min(0)\n",
      "        if maxs is None:\n",
      "            maxs = data.max(0)\n",
      "\n",
      "        self.mins = np.asarray(mins)\n",
      "        self.maxs = np.asarray(maxs)\n",
      "        self.sizes = self.maxs - self.mins\n",
      "\n",
      "        self.children = []\n",
      "\n",
      "        mids = 0.5 * (self.mins + self.maxs)\n",
      "        xmin, ymin = self.mins\n",
      "        xmax, ymax = self.maxs\n",
      "        xmid, ymid = mids\n",
      "\n",
      "        if depth > 0:\n",
      "            # split the data into four quadrants\n",
      "            data_q1 = data[(data[:, 0] < mids[0])\n",
      "                           & (data[:, 1] < mids[1])]\n",
      "            data_q2 = data[(data[:, 0] < mids[0])\n",
      "                           & (data[:, 1] >= mids[1])]\n",
      "            data_q3 = data[(data[:, 0] >= mids[0])\n",
      "                           & (data[:, 1] < mids[1])]\n",
      "            data_q4 = data[(data[:, 0] >= mids[0])\n",
      "                           & (data[:, 1] >= mids[1])]\n",
      "\n",
      "            # recursively build a quad tree on each quadrant which has data\n",
      "            if data_q1.shape[0] > 0:\n",
      "                self.children.append(QuadTree(data_q1,\n",
      "                                              [xmin, ymin], [xmid, ymid],\n",
      "                                              depth - 1))\n",
      "            if data_q2.shape[0] > 0:\n",
      "                self.children.append(QuadTree(data_q2,\n",
      "                                              [xmin, ymid], [xmid, ymax],\n",
      "                                              depth - 1))\n",
      "            if data_q3.shape[0] > 0:\n",
      "                self.children.append(QuadTree(data_q3,\n",
      "                                              [xmid, ymin], [xmax, ymid],\n",
      "                                              depth - 1))\n",
      "            if data_q4.shape[0] > 0:\n",
      "                self.children.append(QuadTree(data_q4,\n",
      "                                              [xmid, ymid], [xmax, ymax],\n",
      "                                              depth - 1))\n",
      "\n",
      "    def draw_rectangle(self, ax, depth):\n",
      "        \"\"\"Recursively plot a visualization of the quad tree region\"\"\"\n",
      "        if depth is None or depth == 0:\n",
      "            rect = plt.Rectangle(self.mins, *self.sizes, zorder=2,\n",
      "                                 ec='#000000', fc='none')\n",
      "            ax.add_patch(rect)\n",
      "        if depth is None or depth > 0:\n",
      "            for child in self.children:\n",
      "                child.draw_rectangle(ax, depth - 1)\n",
      "\n",
      "\n",
      "def draw_grid(ax, xlim, ylim, Nx, Ny, **kwargs):\n",
      "    \"\"\" draw a background grid for the quad tree\"\"\"\n",
      "    for x in np.linspace(xlim[0], xlim[1], Nx):\n",
      "        ax.plot([x, x], ylim, **kwargs)\n",
      "    for y in np.linspace(ylim[0], ylim[1], Ny):\n",
      "        ax.plot(xlim, [y, y], **kwargs)\n",
      "\n",
      "\n",
      "#------------------------------------------------------------\n",
      "# Create a set of structured random points in two dimensions\n",
      "np.random.seed(0)\n",
      "\n",
      "X = np.random.random((30, 2)) * 2 - 1\n",
      "X[:, 1] *= 0.1\n",
      "X[:, 1] += X[:, 0] ** 2\n",
      "\n",
      "#------------------------------------------------------------\n",
      "# Use our Quad Tree class to recursively divide the space\n",
      "mins = (-1.1, -0.1)\n",
      "maxs = (1.1, 1.1)\n",
      "QT = QuadTree(X, mins, maxs, depth=3)\n",
      "\n",
      "#------------------------------------------------------------\n",
      "# Plot four different levels of the quad tree\n",
      "fig = plt.figure(figsize=(5, 5))\n",
      "fig.subplots_adjust(wspace=0.1, hspace=0.15,\n",
      "                    left=0.1, right=0.9,\n",
      "                    bottom=0.05, top=0.9)\n",
      "\n",
      "for level in range(1, 5):\n",
      "    ax = fig.add_subplot(2, 2, level, xticks=[], yticks=[])\n",
      "    ax.scatter(X[:, 0], X[:, 1])\n",
      "    QT.draw_rectangle(ax, depth=level - 1)\n",
      "\n",
      "    Nlines = 1 + 2 ** (level - 1)\n",
      "    draw_grid(ax, (mins[0], maxs[0]), (mins[1], maxs[1]),\n",
      "              Nlines, Nlines, linewidth=1,\n",
      "              color='#CCCCCC', zorder=0)\n",
      "\n",
      "    ax.set_xlim(-1.2, 1.2)\n",
      "    ax.set_ylim(-0.15, 1.15)\n",
      "    ax.set_title('level %i' % level)\n",
      "\n",
      "# suptitle() adds a title to the entire figure\n",
      "fig.suptitle('Quad-tree Example')\n",
      "plt.show()\n"
     ],
     "language": "python",
     "metadata": {},
     "outputs": [
      {
       "output_type": "display_data",
       "png": "[encoded data removed]"
      }
     ],
     "prompt_number": 42
    },
    {
     "cell_type": "markdown",
     "metadata": {},
     "source": [
      "Can quad-tree and oct-tree be extended to higher-dimensions? With 2D - use four children per node. With 3D - use eight children per node. With D - use 2^D? --- actually infeasible, e.g., with 10D, each node requires 2^10 = 1024 children. \n",
      "\n",
      "kd-trees - k-dimensional generalization of quad-tree and oct-tree.\n",
      "\n",
      "Each node has two children. Top node is a D-dimensional hyperrectangle containing the entire data set. Recursively split until lowest nodes contain specified number of points. "
     ]
    },
    {
     "cell_type": "markdown",
     "metadata": {},
     "source": [
      "#Figure 2.4"
     ]
    },
    {
     "cell_type": "code",
     "collapsed": false,
     "input": [
      "# Author: Jake VanderPlas\n",
      "# License: BSD\n",
      "#   The figure produced by this code is published in the textbook\n",
      "#   \"Statistics, Data Mining, and Machine Learning in Astronomy\" (2013)\n",
      "#   For more information, see http://astroML.github.com\n",
      "#   To report a bug or issue, use the following forum:\n",
      "#    https://groups.google.com/forum/#!forum/astroml-general\n",
      "import numpy as np\n",
      "from matplotlib import pyplot as plt\n",
      "\n",
      "#----------------------------------------------------------------------\n",
      "# This function adjusts matplotlib settings for a uniform feel in the textbook.\n",
      "# Note that with usetex=True, fonts are rendered with LaTeX.  This may\n",
      "# result in an error if LaTeX is not installed on your system.  In that case,\n",
      "# you can set usetex to False.\n",
      "from astroML.plotting import setup_text_plots\n",
      "setup_text_plots(fontsize=12, usetex=True)\n",
      "\n",
      "\n",
      "# We'll create a KDTree class which will recursively subdivide the\n",
      "# space into rectangular regions.  Note that this is just an example\n",
      "# and shouldn't be used for real computation; instead use the optimized\n",
      "# code in scipy.spatial.cKDTree or sklearn.neighbors.BallTree\n",
      "class KDTree:\n",
      "    \"\"\"Simple KD tree class\"\"\"\n",
      "\n",
      "    # class initialization function\n",
      "    def __init__(self, data, mins, maxs):\n",
      "        self.data = np.asarray(data)\n",
      "\n",
      "        # data should be two-dimensional\n",
      "        assert self.data.shape[1] == 2\n",
      "\n",
      "        if mins is None:\n",
      "            mins = data.min(0)\n",
      "        if maxs is None:\n",
      "            maxs = data.max(0)\n",
      "\n",
      "        self.mins = np.asarray(mins)\n",
      "        self.maxs = np.asarray(maxs)\n",
      "        self.sizes = self.maxs - self.mins\n",
      "\n",
      "        self.child1 = None\n",
      "        self.child2 = None\n",
      "\n",
      "        if len(data) > 1:\n",
      "            # sort on the dimension with the largest spread\n",
      "            largest_dim = np.argmax(self.sizes)\n",
      "            i_sort = np.argsort(self.data[:, largest_dim])\n",
      "            self.data[:] = self.data[i_sort, :]\n",
      "\n",
      "            # find split point\n",
      "            N = self.data.shape[0]\n",
      "            split_point = 0.5 * (self.data[N / 2, largest_dim]\n",
      "                                 + self.data[N / 2 - 1, largest_dim])\n",
      "\n",
      "            # create subnodes\n",
      "            mins1 = self.mins.copy()\n",
      "            mins1[largest_dim] = split_point\n",
      "            maxs2 = self.maxs.copy()\n",
      "            maxs2[largest_dim] = split_point\n",
      "\n",
      "            # Recursively build a KD-tree on each sub-node\n",
      "            self.child1 = KDTree(self.data[N / 2:], mins1, self.maxs)\n",
      "            self.child2 = KDTree(self.data[:N / 2], self.mins, maxs2)\n",
      "\n",
      "    def draw_rectangle(self, ax, depth=None):\n",
      "        \"\"\"Recursively plot a visualization of the KD tree region\"\"\"\n",
      "        if depth == 0:\n",
      "            rect = plt.Rectangle(self.mins, *self.sizes, ec='k', fc='none')\n",
      "            ax.add_patch(rect)\n",
      "\n",
      "        if self.child1 is not None:\n",
      "            if depth is None:\n",
      "                self.child1.draw_rectangle(ax)\n",
      "                self.child2.draw_rectangle(ax)\n",
      "            elif depth > 0:\n",
      "                self.child1.draw_rectangle(ax, depth - 1)\n",
      "                self.child2.draw_rectangle(ax, depth - 1)\n",
      "\n",
      "\n",
      "#------------------------------------------------------------\n",
      "# Create a set of structured random points in two dimensions\n",
      "np.random.seed(0)\n",
      "\n",
      "X = np.random.random((30, 2)) * 2 - 1\n",
      "X[:, 1] *= 0.1\n",
      "X[:, 1] += X[:, 0] ** 2 \n",
      "\n",
      "#------------------------------------------------------------\n",
      "# Use our KD Tree class to recursively divide the space\n",
      "KDT = KDTree(X, [-1.1, -0.1], [1.1, 1.1])\n",
      "\n",
      "#------------------------------------------------------------\n",
      "# Plot four different levels of the KD tree\n",
      "fig = plt.figure(figsize=(5, 5))\n",
      "fig.subplots_adjust(wspace=0.1, hspace=0.15,\n",
      "                    left=0.1, right=0.9,\n",
      "                    bottom=0.05, top=0.9)\n",
      "\n",
      "for level in range(1, 5):\n",
      "    ax = fig.add_subplot(2, 2, level, xticks=[], yticks=[])\n",
      "    ax.scatter(X[:, 0], X[:, 1], s=9)\n",
      "    KDT.draw_rectangle(ax, depth=level - 1)\n",
      "\n",
      "    ax.set_xlim(-1.2, 1.2)\n",
      "    ax.set_ylim(-0.15, 1.15)\n",
      "    ax.set_title('level %i' % level)\n",
      "\n",
      "# suptitle() adds a title to the entire figure\n",
      "fig.suptitle('$k$d-tree Example')\n",
      "plt.show()"
     ],
     "language": "python",
     "metadata": {},
     "outputs": [
      {
       "output_type": "display_data",
       "png": "[encoded data removed]"
      }
     ],
     "prompt_number": 5
    },
    {
     "cell_type": "code",
     "collapsed": false,
     "input": [
      "from scipy.spatial import cKDTree\n",
      "\n",
      "np.random.seed(0)\n",
      "\n",
      "X = np.random.random((1000, 3))\n",
      "\n",
      "kdt = cKDTree(X)  # build the KDTree\n",
      "\n",
      "%timeit kdt.query(X, k=2)  # query for two neighbors"
     ],
     "language": "python",
     "metadata": {},
     "outputs": [
      {
       "output_type": "stream",
       "stream": "stdout",
       "text": [
        "100 loops, best of 3: 4.19 ms per loop\n"
       ]
      }
     ],
     "prompt_number": 6
    },
    {
     "cell_type": "markdown",
     "metadata": {},
     "source": [
      "The nearest point in a set of 1000 is found in just a few milliseconds, which is more than 10 times faster than the vectorized brute-force method. "
     ]
    },
    {
     "cell_type": "code",
     "collapsed": false,
     "input": [
      "X = np.random.random((100000, 3))\n",
      "\n",
      "kdt = cKDTree(X)\n",
      "\n",
      "%timeit kdt.query(X, k=2) # query for two neighbors"
     ],
     "language": "python",
     "metadata": {},
     "outputs": [
      {
       "output_type": "stream",
       "stream": "stdout",
       "text": [
        "1 loops, best of 3: 668 ms per loop\n"
       ]
      }
     ],
     "prompt_number": 7
    },
    {
     "cell_type": "markdown",
     "metadata": {},
     "source": [
      "A factor of 100 more points leads to a factor of 167 increase in computational cost. O(N log N)?\n",
      "\n",
      "kd-trees solve the scaling and dimensionality issues discussed above, but rely on rectilinear splitting of the data space. Imagine building a kd-tree on points in a D-dimensional space. One must go D levels before each dimension is split. \n",
      "\n",
      "Ball-trees\n",
      "\n",
      "If x1 is far from x2 and x2 is near x3, then x1 is also far from x3. Triangle inequality. Ball-trees represent a way to address the flaw of kd-trees applied to high-dimensional structured data. Ball-trees construct hyperspherical nodes defined by a centroid and radius that contain points. All points outside the hypersphere obey a relation defined byt the triangle inequality. A neighbor search can proceed quickly by eliminating large parts of the data set through a single distance computation. "
     ]
    },
    {
     "cell_type": "markdown",
     "metadata": {},
     "source": [
      "#Figure 2.5"
     ]
    },
    {
     "cell_type": "code",
     "collapsed": false,
     "input": [
      "# Author: Jake VanderPlas\n",
      "# License: BSD\n",
      "#   The figure produced by this code is published in the textbook\n",
      "#   \"Statistics, Data Mining, and Machine Learning in Astronomy\" (2013)\n",
      "#   For more information, see http://astroML.github.com\n",
      "#   To report a bug or issue, use the following forum:\n",
      "#    https://groups.google.com/forum/#!forum/astroml-general\n",
      "import numpy as np\n",
      "from matplotlib import pyplot as plt\n",
      "from matplotlib.patches import Circle\n",
      "\n",
      "#----------------------------------------------------------------------\n",
      "# This function adjusts matplotlib settings for a uniform feel in the textbook.\n",
      "# Note that with usetex=True, fonts are rendered with LaTeX.  This may\n",
      "# result in an error if LaTeX is not installed on your system.  In that case,\n",
      "# you can set usetex to False.\n",
      "from astroML.plotting import setup_text_plots\n",
      "setup_text_plots(fontsize=8, usetex=True)\n",
      "\n",
      "\n",
      "# We'll create a BallTree class which will recursively subdivide the\n",
      "# space into circular regions.  Note that this is just an example and\n",
      "# shouldn't be used for real computation; instead use the optimized\n",
      "# code in scipy.spatial.cKDTree or sklearn.neighbors.BallTree\n",
      "class BallTree:\n",
      "    \"\"\"Simple Ball tree class\"\"\"\n",
      "\n",
      "    # class initialization function\n",
      "    def __init__(self, data):\n",
      "        self.data = np.asarray(data)\n",
      "\n",
      "        # data should be two-dimensional\n",
      "        assert self.data.shape[1] == 2\n",
      "\n",
      "        self.loc = data.mean(0)\n",
      "        self.radius = np.sqrt(np.max(np.sum((self.data - self.loc) ** 2, 1)))\n",
      "\n",
      "        self.child1 = None\n",
      "        self.child2 = None\n",
      "\n",
      "        if len(self.data) > 1:\n",
      "            # sort on the dimension with the largest spread\n",
      "            largest_dim = np.argmax(self.data.max(0) - self.data.min(0))\n",
      "            i_sort = np.argsort(self.data[:, largest_dim])\n",
      "            self.data[:] = self.data[i_sort, :]\n",
      "\n",
      "            # find split point\n",
      "            N = self.data.shape[0]\n",
      "            split_point = 0.5 * (self.data[N / 2, largest_dim]\n",
      "                                 + self.data[N / 2 - 1, largest_dim])\n",
      "\n",
      "            # recursively create subnodes\n",
      "            self.child1 = BallTree(self.data[N / 2:])\n",
      "            self.child2 = BallTree(self.data[:N / 2])\n",
      "\n",
      "    def draw_circle(self, ax, depth=None):\n",
      "        \"\"\"Recursively plot a visualization of the Ball tree region\"\"\"\n",
      "        if depth is None or depth == 0:\n",
      "            circ = Circle(self.loc, self.radius, ec='k', fc='none')\n",
      "            ax.add_patch(circ)\n",
      "\n",
      "        if self.child1 is not None:\n",
      "            if depth is None:\n",
      "                self.child1.draw_circle(ax)\n",
      "                self.child2.draw_circle(ax)\n",
      "            elif depth > 0:\n",
      "                self.child1.draw_circle(ax, depth - 1)\n",
      "                self.child2.draw_circle(ax, depth - 1)\n",
      "\n",
      "\n",
      "#------------------------------------------------------------\n",
      "# Create a set of structured random points in two dimensions\n",
      "np.random.seed(0)\n",
      "X = np.random.random((30, 2)) * 2 - 1\n",
      "X[:, 1] *= 0.1\n",
      "X[:, 1] += X[:, 0] ** 2\n",
      "\n",
      "#------------------------------------------------------------\n",
      "# Use our Ball Tree class to recursively divide the space\n",
      "BT = BallTree(X)\n",
      "\n",
      "#------------------------------------------------------------\n",
      "# Plot four different levels of the Ball tree\n",
      "fig = plt.figure(figsize=(5, 5))\n",
      "fig.subplots_adjust(wspace=0.1, hspace=0.15,\n",
      "                    left=0.1, right=0.9,\n",
      "                    bottom=0.05, top=0.9)\n",
      "\n",
      "for level in range(1, 5):\n",
      "    ax = fig.add_subplot(2, 2, level, xticks=[], yticks=[])\n",
      "    ax.scatter(X[:, 0], X[:, 1], s=9)\n",
      "    BT.draw_circle(ax, depth=level - 1)\n",
      "\n",
      "    ax.set_xlim(-1.35, 1.35)\n",
      "    ax.set_ylim(-1.0, 1.7)\n",
      "    ax.set_title('level %i' % level)\n",
      "\n",
      "# suptitle() adds a title to the entire figure\n",
      "fig.suptitle('Ball-tree Example')\n",
      "plt.show()"
     ],
     "language": "python",
     "metadata": {},
     "outputs": [
      {
       "output_type": "display_data",
       "png": "[encoded data removed]"
      }
     ],
     "prompt_number": 9
    },
    {
     "cell_type": "code",
     "collapsed": false,
     "input": [
      "from sklearn.neighbors import BallTree\n",
      "np.random.seed(0)\n",
      "\n",
      "X = np.random.random((1000, 3))\n",
      "\n",
      "bt = BallTree(X)   # build the Ball Tree\n",
      "\n",
      "%timeit bt.query(X, k=2)   # query for two neighbors"
     ],
     "language": "python",
     "metadata": {},
     "outputs": [
      {
       "output_type": "stream",
       "stream": "stdout",
       "text": [
        "100 loops, best of 3: 2.27 ms per loop\n"
       ]
      }
     ],
     "prompt_number": 10
    },
    {
     "cell_type": "code",
     "collapsed": false,
     "input": [
      "X = np.random.random((100000, 3))\n",
      "\n",
      "bt = BallTree(X)\n",
      "\n",
      "%timeit bt.query(X, k=2)"
     ],
     "language": "python",
     "metadata": {},
     "outputs": [
      {
       "output_type": "stream",
       "stream": "stdout",
       "text": [
        "1 loops, best of 3: 772 ms per loop\n"
       ]
      }
     ],
     "prompt_number": 11
    },
    {
     "cell_type": "markdown",
     "metadata": {},
     "source": [
      "In low dimensions, the ball-tree and kd-tree have comparable computational complexity. But at higher dimensions the ball tree can out perform the kd-tree depending on the internal structure of the data. \n",
      "\n",
      "\n",
      "Other trees\n",
      "\n",
      "Cover trees - nonbinary kind of ball-tree\n",
      "\n",
      "Maximum margin trees - for returning the best nearest-neighbor answer within a bounded time budget\n",
      "\n",
      "Cosine trees and cone trees for dot products. \n",
      "\n",
      "\n",
      "Intrinsic dimensionality - \n",
      "\n",
      "In reality the dimensions are correlated, meaning the intrinsic dimensionality is often much smaller than the simple number of columns (\"extrinsic dimensions\"). Real performance is subject to intrinsic dimensionality, which can be estimated. As a result, kd-trees can be quite good even in higher dimensions compared to other trees. \n",
      "\n",
      "\n",
      "Approximate neighbor methods -\n",
      "\n",
      "Sampling methods in conjunction with trees. Return likely nearest neighbors. \n",
      "\n",
      "Recomend bounding the relative error rather than the absolute error. --What does that mean?"
     ]
    },
    {
     "cell_type": "code",
     "collapsed": false,
     "input": [],
     "language": "python",
     "metadata": {},
     "outputs": []
    }
   ],
   "metadata": {}
  }
 ]
}