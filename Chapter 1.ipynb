{
 "metadata": {
  "name": "Chapter 1"
 },
 "nbformat": 3,
 "nbformat_minor": 0,
 "worksheets": [
  {
   "cells": [
    {
     "cell_type": "markdown",
     "metadata": {},
     "source": [
      "# Chapter 1: About the Book and Supporting Meterial \n",
      "\n",
      "This notebook covers chapter 1 of the AstroML book"
     ]
    },
    {
     "cell_type": "markdown",
     "metadata": {},
     "source": [
      "# 1.1 What do Data Mining, Machine Learning, and Knowledge Discovery mean?"
     ]
    },
    {
     "cell_type": "markdown",
     "metadata": {},
     "source": [
      "Data Mining - analysizing and describing structured data, e.g., finding patterns in large data sets. \"Knowledge discovery\" is often used interchangeably with \"data mining\".\n",
      "\n",
      "Machine Learning - umbrella term for a set of techniques for interpreting data by comparing them to models for data behavior. \n"
     ]
    },
    {
     "cell_type": "markdown",
     "metadata": {},
     "source": [
      "#1.2 What is this book about?"
     ]
    },
    {
     "cell_type": "markdown",
     "metadata": {},
     "source": [
      "Extracting knowledge from data.\n",
      "\n",
      "Random variables, x, can be real numbers (e.g., stellar brightness), discrete values (e.g., stellar spectral type), or NaNs.\n",
      "\n",
      "How to estimate the distribution h(x) from which values x are drawn. h(x) -- the probability that a value lies between x and x+dx, and is called the probabilty density function (pdf). \n",
      "\n",
      "parametric models e.g., Gaussian. Non-parametric models e.g., superposition of many small Gaussians, histogram\n",
      "\n",
      "Integral H(x) = int[h(x')dx'] is called the cumulative distribution function. (inverse = quantile function)\n",
      "\n",
      "h(x) -- true/intrinsic (\"population pdf\")\n",
      "\n",
      "f(x) -- data-derived estimate (\"emperical pdf\")\n",
      "\n",
      "e(x) -- uncertainty on measurement/error distribution\n",
      "\n",
      "mu -- true value of x\n",
      "\n",
      "heteroscedastic - error distribution is different for each measurement, x\n",
      "\n",
      "homoscedastic - error distribution is the same for each measurement, x\n",
      "\n",
      "f(x) may be borad or have defined dispersion because of measurement errors on x while sampling a true value of mu. However, f(x) may also be broad even if e(x) is small, because intrinsic h(x) is broad.\n",
      "\n",
      "This book is about how to estimate the empirical pdf f(x) from data, how to statistically describe the estimate and its uncertainty, how to compare it to models specified via h(x), and how to use this knowledge to interpret additional measurements.\n"
     ]
    },
    {
     "cell_type": "markdown",
     "metadata": {},
     "source": [
      "#1.3 An incomplete survey of the relevant literature"
     ]
    },
    {
     "cell_type": "markdown",
     "metadata": {},
     "source": [
      "Numerical Recipes by Press, Teukolsky, Veterling, and Flannery\n",
      "\n",
      "The Elements of Statistical Learning: Data Mining, Inference, and Prediction by Hastie, Tibshirani, and Friedman\n",
      "\n",
      "All of Nonparametric Statistics and All of Statistics: A Concise Course in Statistical Inference by Wasserman\n",
      "\n",
      "Statistics in Theory and Practice by Lupton\n",
      "\n",
      "Practical Statistics for Astronomers by Wall and Jenkins \n",
      "\n",
      "Statistics: A Guide to the Use of Statistical Methods in the Physical Sciences by Barlow (good for beginners)\n",
      "\n",
      "Data Analysis: A Bayesian Tutorial by Sivia (highly recommended)\n",
      "\n",
      "Bayesian Logical Data Analysis for the Physical Sciences by Gregory\n",
      "\n",
      "Probability Theory: The Logic of Science by Jaynes\n",
      "\n",
      "Bayesian Methods in Cosmology ed by Hobson, Jaffe, Mukherjee, and Parkinson\n",
      "\n",
      "etc. "
     ]
    },
    {
     "cell_type": "markdown",
     "metadata": {},
     "source": [
      "#1.4 Introduction to the python language and the git code management tool"
     ]
    },
    {
     "cell_type": "markdown",
     "metadata": {},
     "source": [
      "Material in this book is supported by code available from http://www.astroML.org\n",
      "\n",
      "1.4.1 Python\n",
      "\n",
      "Open-source, object-oriented interpreted language. Dependencies - Numpy, SciPy, Matplotlib, AstroML, Scikit-learn, PyMC, HealPy.\n",
      "\n",
      "See AstroPython site for community knowledge base. AstroPy is similar and focuses on developing a core Python package for astronomers. \n",
      "\n",
      "1.4.2 Code Management with Git\n",
      "\n",
      "Freely avalable management tools: CVS, SVN, Bazaar, Mercurial, and Git."
     ]
    },
    {
     "cell_type": "markdown",
     "metadata": {},
     "source": [
      "#1.5 Description of surveys and data sets used in examples"
     ]
    },
    {
     "cell_type": "markdown",
     "metadata": {},
     "source": [
      "AstroML contains data loaders - may need space on computer to download data.\n",
      "\n",
      "1.5.1 AstroML Data Set Tools\n",
      "\n",
      "astroML.datasets - access data via http\n",
      "\n",
      "fetch_imaging_sample will return local sample if already downloaded, or download it."
     ]
    },
    {
     "cell_type": "code",
     "collapsed": false,
     "input": [
      "import astroML.datasets\n",
      "astroML.datasets.<TAB>"
     ],
     "language": "python",
     "metadata": {},
     "outputs": [],
     "prompt_number": 2
    },
    {
     "cell_type": "markdown",
     "metadata": {},
     "source": [
      "1.5.2 Overview of Available Data Sets\n",
      "\n",
      "SDSS DR7 - 357 million unique sources detected in 12,000 sq. deg of sky. Faint limit is r ~ 22.5 mag. \n",
      "\n",
      "Spectra - R ~ 2000, 3800-9200 A, 1.6 million spectra, 900,000 galaxies, 120,000 quasars, 460,000 stars. \n",
      "\n",
      "Stripe 82 - provides time domain for one patch of sky\n",
      "\n",
      "CAS - SQL search engine\n",
      "\n",
      "2MASS 1.2 - 2.2 micron\n",
      "\n",
      "LINEAR - time-domain for variable stars\n",
      "\n",
      "LIGO - simulated data of gravitational waves\n",
      "\n",
      "1.5.3 SDSS Imaging Data\n",
      "\n",
      "Submit CASJob to download photometry of a sample of objects within 20 deg^2, or 0.05% of the sky\n",
      "\n",
      "SDSS processing flags are used in the query to filter objects\n",
      "\n"
     ]
    },
    {
     "cell_type": "code",
     "collapsed": false,
     "input": [
      "# Fetch the SDSS imaging sample data\n",
      "# From my CAS Job, this should be about 67 MB\n",
      "\n",
      "from astroML.datasets import\\\n",
      "fetch_imaging_sample\n",
      "\n",
      "data = fetch_imaging_sample()   # 1st run - download data, after load from disk\n",
      "\n",
      "# Where is the file stored that I just downloaded? \n",
      "# ~/astroML_data/sgSDSSimagingSample.fit"
     ],
     "language": "python",
     "metadata": {},
     "outputs": [
      {
       "output_type": "stream",
       "stream": "stdout",
       "text": [
        "Downloading http://www.astro.washington.edu/users/ivezic/DMbook/data/sgSDSSimagingSample.fit\n",
        "[=                                      ]  1.51Mb / 60.58Mb   \r"
       ]
      },
      {
       "output_type": "stream",
       "stream": "stdout",
       "text": [
        "[==                                     ]  3.03Mb / 60.58Mb   \r"
       ]
      },
      {
       "output_type": "stream",
       "stream": "stdout",
       "text": [
        "[===                                    ]  4.54Mb / 60.58Mb   \r"
       ]
      },
      {
       "output_type": "stream",
       "stream": "stdout",
       "text": [
        "[====                                   ]  6.06Mb / 60.58Mb   \r"
       ]
      },
      {
       "output_type": "stream",
       "stream": "stdout",
       "text": [
        "[=====                                  ]  7.57Mb / 60.58Mb   \r"
       ]
      },
      {
       "output_type": "stream",
       "stream": "stdout",
       "text": [
        "[======                                 ]  9.09Mb / 60.58Mb   \r"
       ]
      },
      {
       "output_type": "stream",
       "stream": "stdout",
       "text": [
        "[=======                                ]  10.60Mb / 60.58Mb   \r"
       ]
      },
      {
       "output_type": "stream",
       "stream": "stdout",
       "text": [
        "[========                               ]  12.12Mb / 60.58Mb   \r"
       ]
      },
      {
       "output_type": "stream",
       "stream": "stdout",
       "text": [
        "[=========                              ]  13.63Mb / 60.58Mb   \r"
       ]
      },
      {
       "output_type": "stream",
       "stream": "stdout",
       "text": [
        "[==========                             ]  15.14Mb / 60.58Mb   \r"
       ]
      },
      {
       "output_type": "stream",
       "stream": "stdout",
       "text": [
        "[===========                            ]  16.66Mb / 60.58Mb   \r"
       ]
      },
      {
       "output_type": "stream",
       "stream": "stdout",
       "text": [
        "[============                           ]  18.17Mb / 60.58Mb   \r"
       ]
      },
      {
       "output_type": "stream",
       "stream": "stdout",
       "text": [
        "[=============                          ]  19.69Mb / 60.58Mb   \r"
       ]
      },
      {
       "output_type": "stream",
       "stream": "stdout",
       "text": [
        "[==============                         ]  21.20Mb / 60.58Mb   \r"
       ]
      },
      {
       "output_type": "stream",
       "stream": "stdout",
       "text": [
        "[===============                        ]  22.72Mb / 60.58Mb   \r"
       ]
      },
      {
       "output_type": "stream",
       "stream": "stdout",
       "text": [
        "[================                       ]  24.23Mb / 60.58Mb   \r"
       ]
      },
      {
       "output_type": "stream",
       "stream": "stdout",
       "text": [
        "[=================                      ]  25.74Mb / 60.58Mb   \r"
       ]
      },
      {
       "output_type": "stream",
       "stream": "stdout",
       "text": [
        "[==================                     ]  27.26Mb / 60.58Mb   \r"
       ]
      },
      {
       "output_type": "stream",
       "stream": "stdout",
       "text": [
        "[===================                    ]  28.77Mb / 60.58Mb   \r"
       ]
      },
      {
       "output_type": "stream",
       "stream": "stdout",
       "text": [
        "[====================                   ]  30.29Mb / 60.58Mb   \r"
       ]
      },
      {
       "output_type": "stream",
       "stream": "stdout",
       "text": [
        "[=====================                  ]  31.80Mb / 60.58Mb   \r"
       ]
      },
      {
       "output_type": "stream",
       "stream": "stdout",
       "text": [
        "[======================                 ]  33.32Mb / 60.58Mb   \r"
       ]
      },
      {
       "output_type": "stream",
       "stream": "stdout",
       "text": [
        "[=======================                ]  34.83Mb / 60.58Mb   \r"
       ]
      },
      {
       "output_type": "stream",
       "stream": "stdout",
       "text": [
        "[========================               ]  36.35Mb / 60.58Mb   \r"
       ]
      },
      {
       "output_type": "stream",
       "stream": "stdout",
       "text": [
        "[=========================              ]  37.86Mb / 60.58Mb   \r"
       ]
      },
      {
       "output_type": "stream",
       "stream": "stdout",
       "text": [
        "[==========================             ]  39.37Mb / 60.58Mb   \r"
       ]
      },
      {
       "output_type": "stream",
       "stream": "stdout",
       "text": [
        "[===========================            ]  40.89Mb / 60.58Mb   \r"
       ]
      },
      {
       "output_type": "stream",
       "stream": "stdout",
       "text": [
        "[============================           ]  42.40Mb / 60.58Mb   \r"
       ]
      },
      {
       "output_type": "stream",
       "stream": "stdout",
       "text": [
        "[=============================          ]  43.92Mb / 60.58Mb   \r"
       ]
      },
      {
       "output_type": "stream",
       "stream": "stdout",
       "text": [
        "[==============================         ]  45.43Mb / 60.58Mb   \r"
       ]
      },
      {
       "output_type": "stream",
       "stream": "stdout",
       "text": [
        "[===============================        ]  46.95Mb / 60.58Mb   \r"
       ]
      },
      {
       "output_type": "stream",
       "stream": "stdout",
       "text": [
        "[================================       ]  48.46Mb / 60.58Mb   \r"
       ]
      },
      {
       "output_type": "stream",
       "stream": "stdout",
       "text": [
        "[=================================      ]  49.98Mb / 60.58Mb   \r"
       ]
      },
      {
       "output_type": "stream",
       "stream": "stdout",
       "text": [
        "[==================================     ]  51.49Mb / 60.58Mb   \r"
       ]
      },
      {
       "output_type": "stream",
       "stream": "stdout",
       "text": [
        "[===================================    ]  53.00Mb / 60.58Mb   \r"
       ]
      },
      {
       "output_type": "stream",
       "stream": "stdout",
       "text": [
        "[====================================   ]  54.52Mb / 60.58Mb   \r"
       ]
      },
      {
       "output_type": "stream",
       "stream": "stdout",
       "text": [
        "[=====================================  ]  56.03Mb / 60.58Mb   \r"
       ]
      },
      {
       "output_type": "stream",
       "stream": "stdout",
       "text": [
        "[====================================== ]  57.55Mb / 60.58Mb   \r"
       ]
      },
      {
       "output_type": "stream",
       "stream": "stdout",
       "text": [
        "[=======================================]  59.06Mb / 60.58Mb   \r"
       ]
      },
      {
       "output_type": "stream",
       "stream": "stdout",
       "text": [
        "[========================================]  60.58Mb / 60.58Mb   \r"
       ]
      },
      {
       "output_type": "stream",
       "stream": "stdout",
       "text": [
        "\n"
       ]
      }
     ],
     "prompt_number": 1
    },
    {
     "cell_type": "code",
     "collapsed": false,
     "input": [
      "data.shape"
     ],
     "language": "python",
     "metadata": {},
     "outputs": [
      {
       "output_type": "pyout",
       "prompt_number": 2,
       "text": [
        "(330753,)"
       ]
      }
     ],
     "prompt_number": 2
    },
    {
     "cell_type": "code",
     "collapsed": false,
     "input": [
      "data.dtype.names[:5]"
     ],
     "language": "python",
     "metadata": {},
     "outputs": [
      {
       "output_type": "pyout",
       "prompt_number": 3,
       "text": [
        "('ra', 'dec', 'run', 'rExtSFD', 'uRaw')"
       ]
      }
     ],
     "prompt_number": 3
    },
    {
     "cell_type": "code",
     "collapsed": false,
     "input": [
      "data['ra'][:5]"
     ],
     "language": "python",
     "metadata": {},
     "outputs": [
      {
       "output_type": "pyout",
       "prompt_number": 4,
       "text": [
        "array([ 0.358174,  0.358382,  0.357898,  0.35791 ,  0.358881])"
       ]
      }
     ],
     "prompt_number": 4
    },
    {
     "cell_type": "code",
     "collapsed": false,
     "input": [
      "data['dec'][:5]"
     ],
     "language": "python",
     "metadata": {},
     "outputs": [
      {
       "output_type": "pyout",
       "prompt_number": 5,
       "text": [
        "array([-0.508718, -0.551157, -0.570892, -0.426526, -0.505625])"
       ]
      }
     ],
     "prompt_number": 5
    },
    {
     "cell_type": "markdown",
     "metadata": {},
     "source": [
      "Code for Figure 1.1 is available at http://www.astroML.org"
     ]
    },
    {
     "cell_type": "markdown",
     "metadata": {},
     "source": [
      "Section 1.5.4 Fetchin and Displaying SDSS Spectra\n",
      "\n",
      "The function astroML.datasets.fetch_sdss_spectrum provides an interface to the FITS files located on the SDSS spectral server - done in background using Python module urllib2.\n",
      "\n",
      "Must specify the unique identity of spectrum: plate number, fiber numer, mjd date of observation. "
     ]
    },
    {
     "cell_type": "code",
     "collapsed": false,
     "input": [
      "from astroML.datasets import\\\n",
      "fetch_sdss_spectrum\n",
      "\n",
      "plate = 1615    # plate number\n",
      "mjd = 53166     # modified Julian date\n",
      "fiber = 513     # fiber ID number on a given plate\n",
      "\n",
      "data = fetch_sdss_spectrum(plate, mjd, fiber)\n",
      "\n",
      "ax = plt.axes()\n",
      "ax.plot(data.wavelength(), data.spectrum, '-k')\n",
      "ax.set_xlabel(r'$\\lambda (\\AA)$')\n",
      "ax.set_ylabel('Flux')"
     ],
     "language": "python",
     "metadata": {},
     "outputs": [
      {
       "output_type": "stream",
       "stream": "stdout",
       "text": [
        "Downloading http://das.sdss.org/spectro/1d_26/1615/1d/spSpec-53166-1615-513.fit\n",
        "[=                                      ]  4.6kb / 182.8kb   \r"
       ]
      },
      {
       "output_type": "stream",
       "stream": "stdout",
       "text": [
        "[==                                     ]  9.1kb / 182.8kb   \r"
       ]
      },
      {
       "output_type": "stream",
       "stream": "stdout",
       "text": [
        "[===                                    ]  13.7kb / 182.8kb   \r"
       ]
      },
      {
       "output_type": "stream",
       "stream": "stdout",
       "text": [
        "[====                                   ]  18.3kb / 182.8kb   \r"
       ]
      },
      {
       "output_type": "stream",
       "stream": "stdout",
       "text": [
        "[=====                                  ]  22.9kb / 182.8kb   \r"
       ]
      },
      {
       "output_type": "stream",
       "stream": "stdout",
       "text": [
        "[======                                 ]  27.4kb / 182.8kb   \r"
       ]
      },
      {
       "output_type": "stream",
       "stream": "stdout",
       "text": [
        "[=======                                ]  32.0kb / 182.8kb   \r"
       ]
      },
      {
       "output_type": "stream",
       "stream": "stdout",
       "text": [
        "[========                               ]  36.6kb / 182.8kb   \r"
       ]
      },
      {
       "output_type": "stream",
       "stream": "stdout",
       "text": [
        "[=========                              ]  41.1kb / 182.8kb   \r"
       ]
      },
      {
       "output_type": "stream",
       "stream": "stdout",
       "text": [
        "[==========                             ]  45.7kb / 182.8kb   \r"
       ]
      },
      {
       "output_type": "stream",
       "stream": "stdout",
       "text": [
        "[===========                            ]  50.3kb / 182.8kb   \r"
       ]
      },
      {
       "output_type": "stream",
       "stream": "stdout",
       "text": [
        "[============                           ]  54.8kb / 182.8kb   \r"
       ]
      },
      {
       "output_type": "stream",
       "stream": "stdout",
       "text": [
        "[=============                          ]  59.4kb / 182.8kb   \r"
       ]
      },
      {
       "output_type": "stream",
       "stream": "stdout",
       "text": [
        "[==============                         ]  64.0kb / 182.8kb   \r"
       ]
      },
      {
       "output_type": "stream",
       "stream": "stdout",
       "text": [
        "[===============                        ]  68.6kb / 182.8kb   \r"
       ]
      },
      {
       "output_type": "stream",
       "stream": "stdout",
       "text": [
        "[================                       ]  73.1kb / 182.8kb   \r"
       ]
      },
      {
       "output_type": "stream",
       "stream": "stdout",
       "text": [
        "[=================                      ]  77.7kb / 182.8kb   \r"
       ]
      },
      {
       "output_type": "stream",
       "stream": "stdout",
       "text": [
        "[==================                     ]  82.3kb / 182.8kb   \r"
       ]
      },
      {
       "output_type": "stream",
       "stream": "stdout",
       "text": [
        "[===================                    ]  86.8kb / 182.8kb   \r"
       ]
      },
      {
       "output_type": "stream",
       "stream": "stdout",
       "text": [
        "[====================                   ]  91.4kb / 182.8kb   \r"
       ]
      },
      {
       "output_type": "stream",
       "stream": "stdout",
       "text": [
        "[=====================                  ]  96.0kb / 182.8kb   \r"
       ]
      },
      {
       "output_type": "stream",
       "stream": "stdout",
       "text": [
        "[======================                 ]  100.5kb / 182.8kb   \r"
       ]
      },
      {
       "output_type": "stream",
       "stream": "stdout",
       "text": [
        "[=======================                ]  105.1kb / 182.8kb   \r"
       ]
      },
      {
       "output_type": "stream",
       "stream": "stdout",
       "text": [
        "[========================               ]  109.7kb / 182.8kb   \r"
       ]
      },
      {
       "output_type": "stream",
       "stream": "stdout",
       "text": [
        "[=========================              ]  114.3kb / 182.8kb   \r"
       ]
      },
      {
       "output_type": "stream",
       "stream": "stdout",
       "text": [
        "[==========================             ]  118.8kb / 182.8kb   \r"
       ]
      },
      {
       "output_type": "stream",
       "stream": "stdout",
       "text": [
        "[===========================            ]  123.4kb / 182.8kb   \r"
       ]
      },
      {
       "output_type": "stream",
       "stream": "stdout",
       "text": [
        "[============================           ]  128.0kb / 182.8kb   \r"
       ]
      },
      {
       "output_type": "stream",
       "stream": "stdout",
       "text": [
        "[=============================          ]  132.5kb / 182.8kb   \r"
       ]
      },
      {
       "output_type": "stream",
       "stream": "stdout",
       "text": [
        "[==============================         ]  137.1kb / 182.8kb   \r"
       ]
      },
      {
       "output_type": "stream",
       "stream": "stdout",
       "text": [
        "[===============================        ]  141.7kb / 182.8kb   \r"
       ]
      },
      {
       "output_type": "stream",
       "stream": "stdout",
       "text": [
        "[================================       ]  146.2kb / 182.8kb   \r"
       ]
      },
      {
       "output_type": "stream",
       "stream": "stdout",
       "text": [
        "[=================================      ]  150.8kb / 182.8kb   \r"
       ]
      },
      {
       "output_type": "stream",
       "stream": "stdout",
       "text": [
        "[==================================     ]  155.4kb / 182.8kb   \r"
       ]
      },
      {
       "output_type": "stream",
       "stream": "stdout",
       "text": [
        "[===================================    ]  160.0kb / 182.8kb   \r"
       ]
      },
      {
       "output_type": "stream",
       "stream": "stdout",
       "text": [
        "[====================================   ]  164.5kb / 182.8kb   \r"
       ]
      },
      {
       "output_type": "stream",
       "stream": "stdout",
       "text": [
        "[=====================================  ]  169.1kb / 182.8kb   \r"
       ]
      },
      {
       "output_type": "stream",
       "stream": "stdout",
       "text": [
        "[====================================== ]  173.7kb / 182.8kb   \r"
       ]
      },
      {
       "output_type": "stream",
       "stream": "stdout",
       "text": [
        "[=======================================]  178.2kb / 182.8kb   \r"
       ]
      },
      {
       "output_type": "stream",
       "stream": "stdout",
       "text": [
        "[========================================]  182.8kb / 182.8kb   \r"
       ]
      },
      {
       "output_type": "stream",
       "stream": "stdout",
       "text": [
        "\n",
        "caching to /Users/Kyle/astroML_data/SDSSspec/1615/spSpec-53166-1615-513.fit\n"
       ]
      },
      {
       "output_type": "pyout",
       "prompt_number": 6,
       "text": [
        "<matplotlib.text.Text at 0x10df031d0>"
       ]
      },
      {
       "output_type": "display_data",
       "png": "[encoded data removed]"
      }
     ],
     "prompt_number": 6
    },
    {
     "cell_type": "markdown",
     "metadata": {},
     "source": [
      "One can also search for the plate number, mjd, and fiber number for a given target using the tool query_plate_mjd_fiber. This tool works by using a simple SQL query and urllib. Output is a NumPy array. \n",
      "\n",
      "This is supposed to return data for 5 objects, but doesn't appear to connect to the correct SDSS search function."
     ]
    },
    {
     "cell_type": "code",
     "collapsed": false,
     "input": [
      "from astroML.datasets import tools\n",
      "\n",
      "target = tools.TARGET_GALAXY\n",
      "\n",
      "plt, mjd, fib = tools.query_plate_mjd_fiber(5, primtarget=target)"
     ],
     "language": "python",
     "metadata": {},
     "outputs": [
      {
       "ename": "IOError",
       "evalue": "(404, 'Not Found', '//skyserver.sdss.org/dr12/en/tools/search/x_sql.asp?cmd=SELECT+TOP+5++%0A++++plate%2C+mjd%2C+fiberid++%0AFROM+specObj++%0AWHERE+%28%28PrimTarget+%26+64%29+%3E+0%29++%0A+++++++AND+%28z+%3E+0.000000%29+AND+%28z+%3C%3D+0.700000%29+&format=csv')",
       "output_type": "pyerr",
       "traceback": [
        "\u001b[0;31m---------------------------------------------------------------------------\u001b[0m\n\u001b[0;31mIOError\u001b[0m                                   Traceback (most recent call last)",
        "\u001b[0;32m<ipython-input-8-d1cfab1c4116>\u001b[0m in \u001b[0;36m<module>\u001b[0;34m()\u001b[0m\n\u001b[1;32m      3\u001b[0m \u001b[0mtarget\u001b[0m \u001b[0;34m=\u001b[0m \u001b[0mtools\u001b[0m\u001b[0;34m.\u001b[0m\u001b[0mTARGET_GALAXY\u001b[0m\u001b[0;34m\u001b[0m\u001b[0m\n\u001b[1;32m      4\u001b[0m \u001b[0;34m\u001b[0m\u001b[0m\n\u001b[0;32m----> 5\u001b[0;31m \u001b[0mplt\u001b[0m\u001b[0;34m,\u001b[0m \u001b[0mmjd\u001b[0m\u001b[0;34m,\u001b[0m \u001b[0mfib\u001b[0m \u001b[0;34m=\u001b[0m \u001b[0mtools\u001b[0m\u001b[0;34m.\u001b[0m\u001b[0mquery_plate_mjd_fiber\u001b[0m\u001b[0;34m(\u001b[0m\u001b[0;36m5\u001b[0m\u001b[0;34m,\u001b[0m \u001b[0mprimtarget\u001b[0m\u001b[0;34m=\u001b[0m\u001b[0mtarget\u001b[0m\u001b[0;34m)\u001b[0m\u001b[0;34m\u001b[0m\u001b[0m\n\u001b[0m",
        "\u001b[0;32m/usr/local/scisoft/packages/python/lib/python2.7/site-packages/astroML/datasets/tools/cas_query.pyc\u001b[0m in \u001b[0;36mquery_plate_mjd_fiber\u001b[0;34m(n_spectra, primtarget, zmin, zmax)\u001b[0m\n\u001b[1;32m     69\u001b[0m             \"       AND (z > %(zmin)f) AND (z <= %(zmax)f) \")) % locals()\n\u001b[1;32m     70\u001b[0m \u001b[0;34m\u001b[0m\u001b[0m\n\u001b[0;32m---> 71\u001b[0;31m     \u001b[0moutput\u001b[0m \u001b[0;34m=\u001b[0m \u001b[0msql_query\u001b[0m\u001b[0;34m(\u001b[0m\u001b[0mquery_text\u001b[0m\u001b[0;34m)\u001b[0m\u001b[0;34m.\u001b[0m\u001b[0mreadlines\u001b[0m\u001b[0;34m(\u001b[0m\u001b[0;34m)\u001b[0m\u001b[0;34m\u001b[0m\u001b[0m\n\u001b[0m\u001b[1;32m     72\u001b[0m     \u001b[0mkeys\u001b[0m \u001b[0;34m=\u001b[0m \u001b[0moutput\u001b[0m\u001b[0;34m[\u001b[0m\u001b[0;36m0\u001b[0m\u001b[0;34m]\u001b[0m\u001b[0;34m\u001b[0m\u001b[0m\n\u001b[1;32m     73\u001b[0m \u001b[0;34m\u001b[0m\u001b[0m\n",
        "\u001b[0;32m/usr/local/scisoft/packages/python/lib/python2.7/site-packages/astroML/datasets/tools/sql_query.pyc\u001b[0m in \u001b[0;36msql_query\u001b[0;34m(sql_str, url, format)\u001b[0m\n\u001b[1;32m     35\u001b[0m     \u001b[0msql_str\u001b[0m \u001b[0;34m=\u001b[0m \u001b[0mremove_sql_comments\u001b[0m\u001b[0;34m(\u001b[0m\u001b[0msql_str\u001b[0m\u001b[0;34m)\u001b[0m\u001b[0;34m\u001b[0m\u001b[0m\n\u001b[1;32m     36\u001b[0m     \u001b[0mparams\u001b[0m \u001b[0;34m=\u001b[0m \u001b[0murllib\u001b[0m\u001b[0;34m.\u001b[0m\u001b[0murlencode\u001b[0m\u001b[0;34m(\u001b[0m\u001b[0mdict\u001b[0m\u001b[0;34m(\u001b[0m\u001b[0mcmd\u001b[0m\u001b[0;34m=\u001b[0m\u001b[0msql_str\u001b[0m\u001b[0;34m,\u001b[0m \u001b[0mformat\u001b[0m\u001b[0;34m=\u001b[0m\u001b[0mformat\u001b[0m\u001b[0;34m)\u001b[0m\u001b[0;34m)\u001b[0m\u001b[0;34m\u001b[0m\u001b[0m\n\u001b[0;32m---> 37\u001b[0;31m     \u001b[0;32mreturn\u001b[0m \u001b[0murllib\u001b[0m\u001b[0;34m.\u001b[0m\u001b[0murlopen\u001b[0m\u001b[0;34m(\u001b[0m\u001b[0murl\u001b[0m \u001b[0;34m+\u001b[0m \u001b[0;34m'?%s'\u001b[0m \u001b[0;34m%\u001b[0m \u001b[0mparams\u001b[0m\u001b[0;34m)\u001b[0m\u001b[0;34m\u001b[0m\u001b[0m\n\u001b[0m",
        "\u001b[0;32m/System/Library/Frameworks/Python.framework/Versions/2.7/lib/python2.7/urllib.pyc\u001b[0m in \u001b[0;36murlopen\u001b[0;34m(url, data, proxies)\u001b[0m\n\u001b[1;32m     85\u001b[0m         \u001b[0mopener\u001b[0m \u001b[0;34m=\u001b[0m \u001b[0m_urlopener\u001b[0m\u001b[0;34m\u001b[0m\u001b[0m\n\u001b[1;32m     86\u001b[0m     \u001b[0;32mif\u001b[0m \u001b[0mdata\u001b[0m \u001b[0;32mis\u001b[0m \u001b[0mNone\u001b[0m\u001b[0;34m:\u001b[0m\u001b[0;34m\u001b[0m\u001b[0m\n\u001b[0;32m---> 87\u001b[0;31m         \u001b[0;32mreturn\u001b[0m \u001b[0mopener\u001b[0m\u001b[0;34m.\u001b[0m\u001b[0mopen\u001b[0m\u001b[0;34m(\u001b[0m\u001b[0murl\u001b[0m\u001b[0;34m)\u001b[0m\u001b[0;34m\u001b[0m\u001b[0m\n\u001b[0m\u001b[1;32m     88\u001b[0m     \u001b[0;32melse\u001b[0m\u001b[0;34m:\u001b[0m\u001b[0;34m\u001b[0m\u001b[0m\n\u001b[1;32m     89\u001b[0m         \u001b[0;32mreturn\u001b[0m \u001b[0mopener\u001b[0m\u001b[0;34m.\u001b[0m\u001b[0mopen\u001b[0m\u001b[0;34m(\u001b[0m\u001b[0murl\u001b[0m\u001b[0;34m,\u001b[0m \u001b[0mdata\u001b[0m\u001b[0;34m)\u001b[0m\u001b[0;34m\u001b[0m\u001b[0m\n",
        "\u001b[0;32m/System/Library/Frameworks/Python.framework/Versions/2.7/lib/python2.7/urllib.pyc\u001b[0m in \u001b[0;36mopen\u001b[0;34m(self, fullurl, data)\u001b[0m\n\u001b[1;32m    206\u001b[0m         \u001b[0;32mtry\u001b[0m\u001b[0;34m:\u001b[0m\u001b[0;34m\u001b[0m\u001b[0m\n\u001b[1;32m    207\u001b[0m             \u001b[0;32mif\u001b[0m \u001b[0mdata\u001b[0m \u001b[0;32mis\u001b[0m \u001b[0mNone\u001b[0m\u001b[0;34m:\u001b[0m\u001b[0;34m\u001b[0m\u001b[0m\n\u001b[0;32m--> 208\u001b[0;31m                 \u001b[0;32mreturn\u001b[0m \u001b[0mgetattr\u001b[0m\u001b[0;34m(\u001b[0m\u001b[0mself\u001b[0m\u001b[0;34m,\u001b[0m \u001b[0mname\u001b[0m\u001b[0;34m)\u001b[0m\u001b[0;34m(\u001b[0m\u001b[0murl\u001b[0m\u001b[0;34m)\u001b[0m\u001b[0;34m\u001b[0m\u001b[0m\n\u001b[0m\u001b[1;32m    209\u001b[0m             \u001b[0;32melse\u001b[0m\u001b[0;34m:\u001b[0m\u001b[0;34m\u001b[0m\u001b[0m\n\u001b[1;32m    210\u001b[0m                 \u001b[0;32mreturn\u001b[0m \u001b[0mgetattr\u001b[0m\u001b[0;34m(\u001b[0m\u001b[0mself\u001b[0m\u001b[0;34m,\u001b[0m \u001b[0mname\u001b[0m\u001b[0;34m)\u001b[0m\u001b[0;34m(\u001b[0m\u001b[0murl\u001b[0m\u001b[0;34m,\u001b[0m \u001b[0mdata\u001b[0m\u001b[0;34m)\u001b[0m\u001b[0;34m\u001b[0m\u001b[0m\n",
        "\u001b[0;32m/System/Library/Frameworks/Python.framework/Versions/2.7/lib/python2.7/urllib.pyc\u001b[0m in \u001b[0;36mopen_http\u001b[0;34m(self, url, data)\u001b[0m\n\u001b[1;32m    357\u001b[0m         \u001b[0;32melse\u001b[0m\u001b[0;34m:\u001b[0m\u001b[0;34m\u001b[0m\u001b[0m\n\u001b[1;32m    358\u001b[0m             \u001b[0;32mif\u001b[0m \u001b[0mdata\u001b[0m \u001b[0;32mis\u001b[0m \u001b[0mNone\u001b[0m\u001b[0;34m:\u001b[0m\u001b[0;34m\u001b[0m\u001b[0m\n\u001b[0;32m--> 359\u001b[0;31m                 \u001b[0;32mreturn\u001b[0m \u001b[0mself\u001b[0m\u001b[0;34m.\u001b[0m\u001b[0mhttp_error\u001b[0m\u001b[0;34m(\u001b[0m\u001b[0murl\u001b[0m\u001b[0;34m,\u001b[0m \u001b[0mfp\u001b[0m\u001b[0;34m,\u001b[0m \u001b[0merrcode\u001b[0m\u001b[0;34m,\u001b[0m \u001b[0merrmsg\u001b[0m\u001b[0;34m,\u001b[0m \u001b[0mheaders\u001b[0m\u001b[0;34m)\u001b[0m\u001b[0;34m\u001b[0m\u001b[0m\n\u001b[0m\u001b[1;32m    360\u001b[0m             \u001b[0;32melse\u001b[0m\u001b[0;34m:\u001b[0m\u001b[0;34m\u001b[0m\u001b[0m\n\u001b[1;32m    361\u001b[0m                 \u001b[0;32mreturn\u001b[0m \u001b[0mself\u001b[0m\u001b[0;34m.\u001b[0m\u001b[0mhttp_error\u001b[0m\u001b[0;34m(\u001b[0m\u001b[0murl\u001b[0m\u001b[0;34m,\u001b[0m \u001b[0mfp\u001b[0m\u001b[0;34m,\u001b[0m \u001b[0merrcode\u001b[0m\u001b[0;34m,\u001b[0m \u001b[0merrmsg\u001b[0m\u001b[0;34m,\u001b[0m \u001b[0mheaders\u001b[0m\u001b[0;34m,\u001b[0m \u001b[0mdata\u001b[0m\u001b[0;34m)\u001b[0m\u001b[0;34m\u001b[0m\u001b[0m\n",
        "\u001b[0;32m/System/Library/Frameworks/Python.framework/Versions/2.7/lib/python2.7/urllib.pyc\u001b[0m in \u001b[0;36mhttp_error\u001b[0;34m(self, url, fp, errcode, errmsg, headers, data)\u001b[0m\n\u001b[1;32m    370\u001b[0m             \u001b[0mmethod\u001b[0m \u001b[0;34m=\u001b[0m \u001b[0mgetattr\u001b[0m\u001b[0;34m(\u001b[0m\u001b[0mself\u001b[0m\u001b[0;34m,\u001b[0m \u001b[0mname\u001b[0m\u001b[0;34m)\u001b[0m\u001b[0;34m\u001b[0m\u001b[0m\n\u001b[1;32m    371\u001b[0m             \u001b[0;32mif\u001b[0m \u001b[0mdata\u001b[0m \u001b[0;32mis\u001b[0m \u001b[0mNone\u001b[0m\u001b[0;34m:\u001b[0m\u001b[0;34m\u001b[0m\u001b[0m\n\u001b[0;32m--> 372\u001b[0;31m                 \u001b[0mresult\u001b[0m \u001b[0;34m=\u001b[0m \u001b[0mmethod\u001b[0m\u001b[0;34m(\u001b[0m\u001b[0murl\u001b[0m\u001b[0;34m,\u001b[0m \u001b[0mfp\u001b[0m\u001b[0;34m,\u001b[0m \u001b[0merrcode\u001b[0m\u001b[0;34m,\u001b[0m \u001b[0merrmsg\u001b[0m\u001b[0;34m,\u001b[0m \u001b[0mheaders\u001b[0m\u001b[0;34m)\u001b[0m\u001b[0;34m\u001b[0m\u001b[0m\n\u001b[0m\u001b[1;32m    373\u001b[0m             \u001b[0;32melse\u001b[0m\u001b[0;34m:\u001b[0m\u001b[0;34m\u001b[0m\u001b[0m\n\u001b[1;32m    374\u001b[0m                 \u001b[0mresult\u001b[0m \u001b[0;34m=\u001b[0m \u001b[0mmethod\u001b[0m\u001b[0;34m(\u001b[0m\u001b[0murl\u001b[0m\u001b[0;34m,\u001b[0m \u001b[0mfp\u001b[0m\u001b[0;34m,\u001b[0m \u001b[0merrcode\u001b[0m\u001b[0;34m,\u001b[0m \u001b[0merrmsg\u001b[0m\u001b[0;34m,\u001b[0m \u001b[0mheaders\u001b[0m\u001b[0;34m,\u001b[0m \u001b[0mdata\u001b[0m\u001b[0;34m)\u001b[0m\u001b[0;34m\u001b[0m\u001b[0m\n",
        "\u001b[0;32m/System/Library/Frameworks/Python.framework/Versions/2.7/lib/python2.7/urllib.pyc\u001b[0m in \u001b[0;36mhttp_error_301\u001b[0;34m(self, url, fp, errcode, errmsg, headers, data)\u001b[0m\n\u001b[1;32m    663\u001b[0m     \u001b[0;32mdef\u001b[0m \u001b[0mhttp_error_301\u001b[0m\u001b[0;34m(\u001b[0m\u001b[0mself\u001b[0m\u001b[0;34m,\u001b[0m \u001b[0murl\u001b[0m\u001b[0;34m,\u001b[0m \u001b[0mfp\u001b[0m\u001b[0;34m,\u001b[0m \u001b[0merrcode\u001b[0m\u001b[0;34m,\u001b[0m \u001b[0merrmsg\u001b[0m\u001b[0;34m,\u001b[0m \u001b[0mheaders\u001b[0m\u001b[0;34m,\u001b[0m \u001b[0mdata\u001b[0m\u001b[0;34m=\u001b[0m\u001b[0mNone\u001b[0m\u001b[0;34m)\u001b[0m\u001b[0;34m:\u001b[0m\u001b[0;34m\u001b[0m\u001b[0m\n\u001b[1;32m    664\u001b[0m         \u001b[0;34m\"\"\"Error 301 -- also relocated (permanently).\"\"\"\u001b[0m\u001b[0;34m\u001b[0m\u001b[0m\n\u001b[0;32m--> 665\u001b[0;31m         \u001b[0;32mreturn\u001b[0m \u001b[0mself\u001b[0m\u001b[0;34m.\u001b[0m\u001b[0mhttp_error_302\u001b[0m\u001b[0;34m(\u001b[0m\u001b[0murl\u001b[0m\u001b[0;34m,\u001b[0m \u001b[0mfp\u001b[0m\u001b[0;34m,\u001b[0m \u001b[0merrcode\u001b[0m\u001b[0;34m,\u001b[0m \u001b[0merrmsg\u001b[0m\u001b[0;34m,\u001b[0m \u001b[0mheaders\u001b[0m\u001b[0;34m,\u001b[0m \u001b[0mdata\u001b[0m\u001b[0;34m)\u001b[0m\u001b[0;34m\u001b[0m\u001b[0m\n\u001b[0m\u001b[1;32m    666\u001b[0m \u001b[0;34m\u001b[0m\u001b[0m\n\u001b[1;32m    667\u001b[0m     \u001b[0;32mdef\u001b[0m \u001b[0mhttp_error_303\u001b[0m\u001b[0;34m(\u001b[0m\u001b[0mself\u001b[0m\u001b[0;34m,\u001b[0m \u001b[0murl\u001b[0m\u001b[0;34m,\u001b[0m \u001b[0mfp\u001b[0m\u001b[0;34m,\u001b[0m \u001b[0merrcode\u001b[0m\u001b[0;34m,\u001b[0m \u001b[0merrmsg\u001b[0m\u001b[0;34m,\u001b[0m \u001b[0mheaders\u001b[0m\u001b[0;34m,\u001b[0m \u001b[0mdata\u001b[0m\u001b[0;34m=\u001b[0m\u001b[0mNone\u001b[0m\u001b[0;34m)\u001b[0m\u001b[0;34m:\u001b[0m\u001b[0;34m\u001b[0m\u001b[0m\n",
        "\u001b[0;32m/System/Library/Frameworks/Python.framework/Versions/2.7/lib/python2.7/urllib.pyc\u001b[0m in \u001b[0;36mhttp_error_302\u001b[0;34m(self, url, fp, errcode, errmsg, headers, data)\u001b[0m\n\u001b[1;32m    633\u001b[0m                         \"Internal Server Error: Redirect Recursion\", headers)\n\u001b[1;32m    634\u001b[0m         result = self.redirect_internal(url, fp, errcode, errmsg, headers,\n\u001b[0;32m--> 635\u001b[0;31m                                         data)\n\u001b[0m\u001b[1;32m    636\u001b[0m         \u001b[0mself\u001b[0m\u001b[0;34m.\u001b[0m\u001b[0mtries\u001b[0m \u001b[0;34m=\u001b[0m \u001b[0;36m0\u001b[0m\u001b[0;34m\u001b[0m\u001b[0m\n\u001b[1;32m    637\u001b[0m         \u001b[0;32mreturn\u001b[0m \u001b[0mresult\u001b[0m\u001b[0;34m\u001b[0m\u001b[0m\n",
        "\u001b[0;32m/System/Library/Frameworks/Python.framework/Versions/2.7/lib/python2.7/urllib.pyc\u001b[0m in \u001b[0;36mredirect_internal\u001b[0;34m(self, url, fp, errcode, errmsg, headers, data)\u001b[0m\n\u001b[1;32m    659\u001b[0m                           headers)\n\u001b[1;32m    660\u001b[0m \u001b[0;34m\u001b[0m\u001b[0m\n\u001b[0;32m--> 661\u001b[0;31m         \u001b[0;32mreturn\u001b[0m \u001b[0mself\u001b[0m\u001b[0;34m.\u001b[0m\u001b[0mopen\u001b[0m\u001b[0;34m(\u001b[0m\u001b[0mnewurl\u001b[0m\u001b[0;34m)\u001b[0m\u001b[0;34m\u001b[0m\u001b[0m\n\u001b[0m\u001b[1;32m    662\u001b[0m \u001b[0;34m\u001b[0m\u001b[0m\n\u001b[1;32m    663\u001b[0m     \u001b[0;32mdef\u001b[0m \u001b[0mhttp_error_301\u001b[0m\u001b[0;34m(\u001b[0m\u001b[0mself\u001b[0m\u001b[0;34m,\u001b[0m \u001b[0murl\u001b[0m\u001b[0;34m,\u001b[0m \u001b[0mfp\u001b[0m\u001b[0;34m,\u001b[0m \u001b[0merrcode\u001b[0m\u001b[0;34m,\u001b[0m \u001b[0merrmsg\u001b[0m\u001b[0;34m,\u001b[0m \u001b[0mheaders\u001b[0m\u001b[0;34m,\u001b[0m \u001b[0mdata\u001b[0m\u001b[0;34m=\u001b[0m\u001b[0mNone\u001b[0m\u001b[0;34m)\u001b[0m\u001b[0;34m:\u001b[0m\u001b[0;34m\u001b[0m\u001b[0m\n",
        "\u001b[0;32m/System/Library/Frameworks/Python.framework/Versions/2.7/lib/python2.7/urllib.pyc\u001b[0m in \u001b[0;36mopen\u001b[0;34m(self, fullurl, data)\u001b[0m\n\u001b[1;32m    206\u001b[0m         \u001b[0;32mtry\u001b[0m\u001b[0;34m:\u001b[0m\u001b[0;34m\u001b[0m\u001b[0m\n\u001b[1;32m    207\u001b[0m             \u001b[0;32mif\u001b[0m \u001b[0mdata\u001b[0m \u001b[0;32mis\u001b[0m \u001b[0mNone\u001b[0m\u001b[0;34m:\u001b[0m\u001b[0;34m\u001b[0m\u001b[0m\n\u001b[0;32m--> 208\u001b[0;31m                 \u001b[0;32mreturn\u001b[0m \u001b[0mgetattr\u001b[0m\u001b[0;34m(\u001b[0m\u001b[0mself\u001b[0m\u001b[0;34m,\u001b[0m \u001b[0mname\u001b[0m\u001b[0;34m)\u001b[0m\u001b[0;34m(\u001b[0m\u001b[0murl\u001b[0m\u001b[0;34m)\u001b[0m\u001b[0;34m\u001b[0m\u001b[0m\n\u001b[0m\u001b[1;32m    209\u001b[0m             \u001b[0;32melse\u001b[0m\u001b[0;34m:\u001b[0m\u001b[0;34m\u001b[0m\u001b[0m\n\u001b[1;32m    210\u001b[0m                 \u001b[0;32mreturn\u001b[0m \u001b[0mgetattr\u001b[0m\u001b[0;34m(\u001b[0m\u001b[0mself\u001b[0m\u001b[0;34m,\u001b[0m \u001b[0mname\u001b[0m\u001b[0;34m)\u001b[0m\u001b[0;34m(\u001b[0m\u001b[0murl\u001b[0m\u001b[0;34m,\u001b[0m \u001b[0mdata\u001b[0m\u001b[0;34m)\u001b[0m\u001b[0;34m\u001b[0m\u001b[0m\n",
        "\u001b[0;32m/System/Library/Frameworks/Python.framework/Versions/2.7/lib/python2.7/urllib.pyc\u001b[0m in \u001b[0;36mopen_http\u001b[0;34m(self, url, data)\u001b[0m\n\u001b[1;32m    357\u001b[0m         \u001b[0;32melse\u001b[0m\u001b[0;34m:\u001b[0m\u001b[0;34m\u001b[0m\u001b[0m\n\u001b[1;32m    358\u001b[0m             \u001b[0;32mif\u001b[0m \u001b[0mdata\u001b[0m \u001b[0;32mis\u001b[0m \u001b[0mNone\u001b[0m\u001b[0;34m:\u001b[0m\u001b[0;34m\u001b[0m\u001b[0m\n\u001b[0;32m--> 359\u001b[0;31m                 \u001b[0;32mreturn\u001b[0m \u001b[0mself\u001b[0m\u001b[0;34m.\u001b[0m\u001b[0mhttp_error\u001b[0m\u001b[0;34m(\u001b[0m\u001b[0murl\u001b[0m\u001b[0;34m,\u001b[0m \u001b[0mfp\u001b[0m\u001b[0;34m,\u001b[0m \u001b[0merrcode\u001b[0m\u001b[0;34m,\u001b[0m \u001b[0merrmsg\u001b[0m\u001b[0;34m,\u001b[0m \u001b[0mheaders\u001b[0m\u001b[0;34m)\u001b[0m\u001b[0;34m\u001b[0m\u001b[0m\n\u001b[0m\u001b[1;32m    360\u001b[0m             \u001b[0;32melse\u001b[0m\u001b[0;34m:\u001b[0m\u001b[0;34m\u001b[0m\u001b[0m\n\u001b[1;32m    361\u001b[0m                 \u001b[0;32mreturn\u001b[0m \u001b[0mself\u001b[0m\u001b[0;34m.\u001b[0m\u001b[0mhttp_error\u001b[0m\u001b[0;34m(\u001b[0m\u001b[0murl\u001b[0m\u001b[0;34m,\u001b[0m \u001b[0mfp\u001b[0m\u001b[0;34m,\u001b[0m \u001b[0merrcode\u001b[0m\u001b[0;34m,\u001b[0m \u001b[0merrmsg\u001b[0m\u001b[0;34m,\u001b[0m \u001b[0mheaders\u001b[0m\u001b[0;34m,\u001b[0m \u001b[0mdata\u001b[0m\u001b[0;34m)\u001b[0m\u001b[0;34m\u001b[0m\u001b[0m\n",
        "\u001b[0;32m/System/Library/Frameworks/Python.framework/Versions/2.7/lib/python2.7/urllib.pyc\u001b[0m in \u001b[0;36mhttp_error\u001b[0;34m(self, url, fp, errcode, errmsg, headers, data)\u001b[0m\n\u001b[1;32m    374\u001b[0m                 \u001b[0mresult\u001b[0m \u001b[0;34m=\u001b[0m \u001b[0mmethod\u001b[0m\u001b[0;34m(\u001b[0m\u001b[0murl\u001b[0m\u001b[0;34m,\u001b[0m \u001b[0mfp\u001b[0m\u001b[0;34m,\u001b[0m \u001b[0merrcode\u001b[0m\u001b[0;34m,\u001b[0m \u001b[0merrmsg\u001b[0m\u001b[0;34m,\u001b[0m \u001b[0mheaders\u001b[0m\u001b[0;34m,\u001b[0m \u001b[0mdata\u001b[0m\u001b[0;34m)\u001b[0m\u001b[0;34m\u001b[0m\u001b[0m\n\u001b[1;32m    375\u001b[0m             \u001b[0;32mif\u001b[0m \u001b[0mresult\u001b[0m\u001b[0;34m:\u001b[0m \u001b[0;32mreturn\u001b[0m \u001b[0mresult\u001b[0m\u001b[0;34m\u001b[0m\u001b[0m\n\u001b[0;32m--> 376\u001b[0;31m         \u001b[0;32mreturn\u001b[0m \u001b[0mself\u001b[0m\u001b[0;34m.\u001b[0m\u001b[0mhttp_error_default\u001b[0m\u001b[0;34m(\u001b[0m\u001b[0murl\u001b[0m\u001b[0;34m,\u001b[0m \u001b[0mfp\u001b[0m\u001b[0;34m,\u001b[0m \u001b[0merrcode\u001b[0m\u001b[0;34m,\u001b[0m \u001b[0merrmsg\u001b[0m\u001b[0;34m,\u001b[0m \u001b[0mheaders\u001b[0m\u001b[0;34m)\u001b[0m\u001b[0;34m\u001b[0m\u001b[0m\n\u001b[0m\u001b[1;32m    377\u001b[0m \u001b[0;34m\u001b[0m\u001b[0m\n\u001b[1;32m    378\u001b[0m     \u001b[0;32mdef\u001b[0m \u001b[0mhttp_error_default\u001b[0m\u001b[0;34m(\u001b[0m\u001b[0mself\u001b[0m\u001b[0;34m,\u001b[0m \u001b[0murl\u001b[0m\u001b[0;34m,\u001b[0m \u001b[0mfp\u001b[0m\u001b[0;34m,\u001b[0m \u001b[0merrcode\u001b[0m\u001b[0;34m,\u001b[0m \u001b[0merrmsg\u001b[0m\u001b[0;34m,\u001b[0m \u001b[0mheaders\u001b[0m\u001b[0;34m)\u001b[0m\u001b[0;34m:\u001b[0m\u001b[0;34m\u001b[0m\u001b[0m\n",
        "\u001b[0;32m/usr/local/scisoft/packages/python/lib/python2.7/site-packages/pyfits-3.1.2-py2.7-macosx-10.8-intel.egg/pyfits/core.pyc\u001b[0m in \u001b[0;36mhttp_error_default\u001b[0;34m(self, url, fp, errcode, errmsg, headers)\u001b[0m\n\u001b[1;32m    133\u001b[0m \u001b[0;34m\u001b[0m\u001b[0m\n\u001b[1;32m    134\u001b[0m     \u001b[0;32mdef\u001b[0m \u001b[0mhttp_error_default\u001b[0m\u001b[0;34m(\u001b[0m\u001b[0mself\u001b[0m\u001b[0;34m,\u001b[0m \u001b[0murl\u001b[0m\u001b[0;34m,\u001b[0m \u001b[0mfp\u001b[0m\u001b[0;34m,\u001b[0m \u001b[0merrcode\u001b[0m\u001b[0;34m,\u001b[0m \u001b[0merrmsg\u001b[0m\u001b[0;34m,\u001b[0m \u001b[0mheaders\u001b[0m\u001b[0;34m)\u001b[0m\u001b[0;34m:\u001b[0m\u001b[0;34m\u001b[0m\u001b[0m\n\u001b[0;32m--> 135\u001b[0;31m         \u001b[0;32mraise\u001b[0m \u001b[0mIOError\u001b[0m\u001b[0;34m(\u001b[0m\u001b[0;34m(\u001b[0m\u001b[0merrcode\u001b[0m\u001b[0;34m,\u001b[0m \u001b[0merrmsg\u001b[0m\u001b[0;34m,\u001b[0m \u001b[0murl\u001b[0m\u001b[0;34m)\u001b[0m\u001b[0;34m)\u001b[0m\u001b[0;34m\u001b[0m\u001b[0m\n\u001b[0m\u001b[1;32m    136\u001b[0m \u001b[0;34m\u001b[0m\u001b[0m\n\u001b[1;32m    137\u001b[0m \u001b[0murllib\u001b[0m\u001b[0;34m.\u001b[0m\u001b[0m_urlopener\u001b[0m \u001b[0;34m=\u001b[0m \u001b[0mErrorURLopener\u001b[0m\u001b[0;34m(\u001b[0m\u001b[0;34m)\u001b[0m \u001b[0;31m# Assign the locally subclassed opener\u001b[0m\u001b[0;34m\u001b[0m\u001b[0m\n",
        "\u001b[0;31mIOError\u001b[0m: (404, 'Not Found', '//skyserver.sdss.org/dr12/en/tools/search/x_sql.asp?cmd=SELECT+TOP+5++%0A++++plate%2C+mjd%2C+fiberid++%0AFROM+specObj++%0AWHERE+%28%28PrimTarget+%26+64%29+%3E+0%29++%0A+++++++AND+%28z+%3E+0.000000%29+AND+%28z+%3C%3D+0.700000%29+&format=csv')"
       ]
      }
     ],
     "prompt_number": 8
    },
    {
     "cell_type": "markdown",
     "metadata": {},
     "source": [
      "1.5.5 Galaxies with SDSS Spectroscopic Data\n",
      "\n",
      "Download a value-added catalog of galaxies"
     ]
    },
    {
     "cell_type": "code",
     "collapsed": false,
     "input": [
      "from astroML.datasets import fetch_sdss_specgals\n",
      "\n",
      "data = fetch_sdss_specgals()  #120 MB\n",
      "\n",
      "print data.shape\n",
      "print data.dtype.names[:5]"
     ],
     "language": "python",
     "metadata": {},
     "outputs": [
      {
       "output_type": "stream",
       "stream": "stdout",
       "text": [
        "(661598,)\n",
        "('ra', 'dec', 'mjd', 'plate', 'fiberID')\n"
       ]
      }
     ],
     "prompt_number": 6
    },
    {
     "cell_type": "code",
     "collapsed": false,
     "input": [
      "data = data[:10000]\n",
      "\n",
      "u = data['modelMag_u']\n",
      "r = data['modelMag_r']\n",
      "rPetro = data['petroMag_r']\n",
      "\n",
      "ax = plt.axes()\n",
      "ax.scatter(u-r, rPetro, s=4, lw=0.5, c='k')\n",
      "ax.set_xlim(1, 4.5)\n",
      "ax.set_ylim(18.1, 13.5)\n",
      "ax.set_xlabel('$u - r$')\n",
      "ax.set_ylabel('$r_{petrosian}$')"
     ],
     "language": "python",
     "metadata": {},
     "outputs": [
      {
       "output_type": "pyout",
       "prompt_number": 7,
       "text": [
        "<matplotlib.text.Text at 0x1093d7310>"
       ]
      },
      {
       "output_type": "display_data",
       "png": "[encoded data removed]"
      }
     ],
     "prompt_number": 7
    },
    {
     "cell_type": "markdown",
     "metadata": {},
     "source": [
      "There may be multiple populations hidden in the data above. We will be able to find them later."
     ]
    },
    {
     "cell_type": "markdown",
     "metadata": {},
     "source": [
      "1.5.6 SDSS DR7 Quasar Catalog\n",
      "\n",
      "105,783 spectroscopically confirmed quasars\n",
      "We can investigate quasar colors as a function of redshift - later we will be able to derive quasar redshits from colors (chapters 8-9)"
     ]
    },
    {
     "cell_type": "code",
     "collapsed": false,
     "input": [
      "from astroML.datasets import fetch_dr7_quasar\n",
      "\n",
      "data = fetch_dr7_quasar()\n",
      "\n",
      "print data.shape\n",
      "print data.dtype.names[:5]"
     ],
     "language": "python",
     "metadata": {},
     "outputs": [
      {
       "output_type": "stream",
       "stream": "stdout",
       "text": [
        "(105783,)\n",
        "('sdssID', 'RA', 'dec', 'redshift', 'mag_u')\n"
       ]
      }
     ],
     "prompt_number": 8
    },
    {
     "cell_type": "code",
     "collapsed": false,
     "input": [
      "data = data[:10000]\n",
      "r = data['mag_r']\n",
      "i = data['mag_i']\n",
      "z = data['redshift']\n",
      "\n",
      "ax = plt.axes()\n",
      "ax.scatter(z, r - i, s=4, c='black', linewidth=0.5)\n",
      "ax.set_xlim(0,5)\n",
      "ax.set_ylim(-0.5, 1.0)\n",
      "ax.set_xlabel('redshift')\n",
      "ax.set_ylabel('r - i')"
     ],
     "language": "python",
     "metadata": {},
     "outputs": [
      {
       "output_type": "pyout",
       "prompt_number": 9,
       "text": [
        "<matplotlib.text.Text at 0x10aa29190>"
       ]
      },
      {
       "output_type": "display_data",
       "png": "[encoded data removed]"
      }
     ],
     "prompt_number": 9
    },
    {
     "cell_type": "markdown",
     "metadata": {},
     "source": [
      "1.5.7 SEGUE Stellar Parameters Pipeline Parameters\n",
      "\n",
      "stellar parameters - effective temp, surface gravity, and metallicity\n",
      "\n",
      "plot surface gravity vs temperature (related to Hertzsprung-Russell Lum-Temp diagram)\n",
      "\n",
      "surface gravity log g ~ 4.44 for Sun."
     ]
    },
    {
     "cell_type": "code",
     "collapsed": false,
     "input": [
      "from astroML.datasets import fetch_sdss_sspp\n",
      "\n",
      "data = fetch_sdss_sspp()\n",
      "\n",
      "print data.shape\n",
      "print data.dtype.names[:5]"
     ],
     "language": "python",
     "metadata": {},
     "outputs": [
      {
       "output_type": "stream",
       "stream": "stdout",
       "text": [
        "Downloading http://www.astro.washington.edu/users/ivezic/DMbook/data/SDSSssppDR9_rerun122.fit\n",
        "[=                                      ]  959.0kb / 37.46Mb   \r"
       ]
      },
      {
       "output_type": "stream",
       "stream": "stdout",
       "text": [
        "[==                                     ]  1.87Mb / 37.46Mb   \r"
       ]
      },
      {
       "output_type": "stream",
       "stream": "stdout",
       "text": [
        "[===                                    ]  2.81Mb / 37.46Mb   \r"
       ]
      },
      {
       "output_type": "stream",
       "stream": "stdout",
       "text": [
        "[====                                   ]  3.75Mb / 37.46Mb   \r"
       ]
      },
      {
       "output_type": "stream",
       "stream": "stdout",
       "text": [
        "[=====                                  ]  4.68Mb / 37.46Mb   \r"
       ]
      },
      {
       "output_type": "stream",
       "stream": "stdout",
       "text": [
        "[======                                 ]  5.62Mb / 37.46Mb   \r"
       ]
      },
      {
       "output_type": "stream",
       "stream": "stdout",
       "text": [
        "[=======                                ]  6.56Mb / 37.46Mb   \r"
       ]
      },
      {
       "output_type": "stream",
       "stream": "stdout",
       "text": [
        "[========                               ]  7.49Mb / 37.46Mb   \r"
       ]
      },
      {
       "output_type": "stream",
       "stream": "stdout",
       "text": [
        "[=========                              ]  8.43Mb / 37.46Mb   \r"
       ]
      },
      {
       "output_type": "stream",
       "stream": "stdout",
       "text": [
        "[==========                             ]  9.37Mb / 37.46Mb   \r"
       ]
      },
      {
       "output_type": "stream",
       "stream": "stdout",
       "text": [
        "[===========                            ]  10.30Mb / 37.46Mb   \r"
       ]
      },
      {
       "output_type": "stream",
       "stream": "stdout",
       "text": [
        "[============                           ]  11.24Mb / 37.46Mb   \r"
       ]
      },
      {
       "output_type": "stream",
       "stream": "stdout",
       "text": [
        "[=============                          ]  12.17Mb / 37.46Mb   \r"
       ]
      },
      {
       "output_type": "stream",
       "stream": "stdout",
       "text": [
        "[==============                         ]  13.11Mb / 37.46Mb   \r"
       ]
      },
      {
       "output_type": "stream",
       "stream": "stdout",
       "text": [
        "[===============                        ]  14.05Mb / 37.46Mb   \r"
       ]
      },
      {
       "output_type": "stream",
       "stream": "stdout",
       "text": [
        "[================                       ]  14.98Mb / 37.46Mb   \r"
       ]
      },
      {
       "output_type": "stream",
       "stream": "stdout",
       "text": [
        "[=================                      ]  15.92Mb / 37.46Mb   \r"
       ]
      },
      {
       "output_type": "stream",
       "stream": "stdout",
       "text": [
        "[==================                     ]  16.86Mb / 37.46Mb   \r"
       ]
      },
      {
       "output_type": "stream",
       "stream": "stdout",
       "text": [
        "[===================                    ]  17.79Mb / 37.46Mb   \r"
       ]
      },
      {
       "output_type": "stream",
       "stream": "stdout",
       "text": [
        "[====================                   ]  18.73Mb / 37.46Mb   \r"
       ]
      },
      {
       "output_type": "stream",
       "stream": "stdout",
       "text": [
        "[=====================                  ]  19.67Mb / 37.46Mb   \r"
       ]
      },
      {
       "output_type": "stream",
       "stream": "stdout",
       "text": [
        "[======================                 ]  20.60Mb / 37.46Mb   \r"
       ]
      },
      {
       "output_type": "stream",
       "stream": "stdout",
       "text": [
        "[=======================                ]  21.54Mb / 37.46Mb   \r"
       ]
      },
      {
       "output_type": "stream",
       "stream": "stdout",
       "text": [
        "[========================               ]  22.48Mb / 37.46Mb   \r"
       ]
      },
      {
       "output_type": "stream",
       "stream": "stdout",
       "text": [
        "[=========================              ]  23.41Mb / 37.46Mb   \r"
       ]
      },
      {
       "output_type": "stream",
       "stream": "stdout",
       "text": [
        "[==========================             ]  24.35Mb / 37.46Mb   \r"
       ]
      },
      {
       "output_type": "stream",
       "stream": "stdout",
       "text": [
        "[===========================            ]  25.29Mb / 37.46Mb   \r"
       ]
      },
      {
       "output_type": "stream",
       "stream": "stdout",
       "text": [
        "[============================           ]  26.22Mb / 37.46Mb   \r"
       ]
      },
      {
       "output_type": "stream",
       "stream": "stdout",
       "text": [
        "[=============================          ]  27.16Mb / 37.46Mb   \r"
       ]
      },
      {
       "output_type": "stream",
       "stream": "stdout",
       "text": [
        "[==============================         ]  28.10Mb / 37.46Mb   \r"
       ]
      },
      {
       "output_type": "stream",
       "stream": "stdout",
       "text": [
        "[===============================        ]  29.03Mb / 37.46Mb   \r"
       ]
      },
      {
       "output_type": "stream",
       "stream": "stdout",
       "text": [
        "[================================       ]  29.97Mb / 37.46Mb   \r"
       ]
      },
      {
       "output_type": "stream",
       "stream": "stdout",
       "text": [
        "[=================================      ]  30.91Mb / 37.46Mb   \r"
       ]
      },
      {
       "output_type": "stream",
       "stream": "stdout",
       "text": [
        "[==================================     ]  31.84Mb / 37.46Mb   \r"
       ]
      },
      {
       "output_type": "stream",
       "stream": "stdout",
       "text": [
        "[===================================    ]  32.78Mb / 37.46Mb   \r"
       ]
      },
      {
       "output_type": "stream",
       "stream": "stdout",
       "text": [
        "[====================================   ]  33.71Mb / 37.46Mb   \r"
       ]
      },
      {
       "output_type": "stream",
       "stream": "stdout",
       "text": [
        "[=====================================  ]  34.65Mb / 37.46Mb   \r"
       ]
      },
      {
       "output_type": "stream",
       "stream": "stdout",
       "text": [
        "[====================================== ]  35.59Mb / 37.46Mb   \r"
       ]
      },
      {
       "output_type": "stream",
       "stream": "stdout",
       "text": [
        "[=======================================]  36.52Mb / 37.46Mb   \r"
       ]
      },
      {
       "output_type": "stream",
       "stream": "stdout",
       "text": [
        "[========================================]  37.46Mb / 37.46Mb   \r"
       ]
      },
      {
       "output_type": "stream",
       "stream": "stdout",
       "text": [
        "\n",
        "(327260,)"
       ]
      },
      {
       "output_type": "stream",
       "stream": "stdout",
       "text": [
        "\n",
        "('ra', 'dec', 'Ar', 'upsf', 'uErr')\n"
       ]
      }
     ],
     "prompt_number": 10
    },
    {
     "cell_type": "code",
     "collapsed": false,
     "input": [
      "data = data[:10000]\n",
      "rpsf = data['rpsf']   \n",
      "\n",
      "# Make some reasonable cuts\n",
      "data = data[(rpsf > 15) & (rpsf < 19)]\n",
      "logg = data['logg']\n",
      "Teff = data['Teff']\n",
      "\n",
      "ax = plt.axes()\n",
      "ax.scatter(Teff, logg, s=4, lw=0.5, c='k')\n",
      "ax.set_xlim(8000, 4500)\n",
      "ax.set_ylim(5.1, 1)\n",
      "ax.set_xlabel(r'$\\mathrm{T_{eff}\\ (K)}$')\n",
      "ax.set_ylabel(r'$\\mathrm{log_{10}[g / (cm/s^2)]}$')"
     ],
     "language": "python",
     "metadata": {},
     "outputs": [
      {
       "output_type": "pyout",
       "prompt_number": 12,
       "text": [
        "<matplotlib.text.Text at 0x10aa6ea10>"
       ]
      },
      {
       "output_type": "display_data",
       "png": "[encoded data removed]"
      }
     ],
     "prompt_number": 12
    },
    {
     "cell_type": "markdown",
     "metadata": {},
     "source": [
      "1.5.8 SDSS Standard Star Catalog from Stripe 82\n",
      "\n",
      "~300 deg^2, ~1 million stars\n",
      "\n",
      "Two versions of catalog are available from astroML.datasets. First is just SDSS. Second is SDSS-2MASS match. \n",
      "\n",
      "fetch_sdss_S82standards(crossmatch_2mass=True)\n"
     ]
    },
    {
     "cell_type": "code",
     "collapsed": false,
     "input": [
      "from astroML.datasets import fetch_sdss_S82standards\n",
      "data = fetch_sdss_S82standards()\n",
      "\n",
      "print data.shape\n",
      "print data.dtype.names[:5]"
     ],
     "language": "python",
     "metadata": {},
     "outputs": [
      {
       "output_type": "stream",
       "stream": "stdout",
       "text": [
        "downloading cross-matched SDSS/2MASS dataset from http://www.astro.washington.edu/users/ivezic/sdss/catalogs/stripe82calibStars_v2.6.dat.gz to /Users/Kyle/astroML_data\n",
        "Downloading http://www.astro.washington.edu/users/ivezic/sdss/catalogs/stripe82calibStars_v2.6.dat.gz"
       ]
      },
      {
       "output_type": "stream",
       "stream": "stdout",
       "text": [
        "\n",
        "[=                                      ]  1.59Mb / 63.58Mb   \r"
       ]
      },
      {
       "output_type": "stream",
       "stream": "stdout",
       "text": [
        "[==                                     ]  3.18Mb / 63.58Mb   \r"
       ]
      },
      {
       "output_type": "stream",
       "stream": "stdout",
       "text": [
        "[===                                    ]  4.77Mb / 63.58Mb   \r"
       ]
      },
      {
       "output_type": "stream",
       "stream": "stdout",
       "text": [
        "[====                                   ]  6.36Mb / 63.58Mb   \r"
       ]
      },
      {
       "output_type": "stream",
       "stream": "stdout",
       "text": [
        "[=====                                  ]  7.95Mb / 63.58Mb   \r"
       ]
      },
      {
       "output_type": "stream",
       "stream": "stdout",
       "text": [
        "[======                                 ]  9.54Mb / 63.58Mb   \r"
       ]
      },
      {
       "output_type": "stream",
       "stream": "stdout",
       "text": [
        "[=======                                ]  11.13Mb / 63.58Mb   \r"
       ]
      },
      {
       "output_type": "stream",
       "stream": "stdout",
       "text": [
        "[========                               ]  12.72Mb / 63.58Mb   \r"
       ]
      },
      {
       "output_type": "stream",
       "stream": "stdout",
       "text": [
        "[=========                              ]  14.31Mb / 63.58Mb   \r"
       ]
      },
      {
       "output_type": "stream",
       "stream": "stdout",
       "text": [
        "[==========                             ]  15.89Mb / 63.58Mb   \r"
       ]
      },
      {
       "output_type": "stream",
       "stream": "stdout",
       "text": [
        "[===========                            ]  17.48Mb / 63.58Mb   \r"
       ]
      },
      {
       "output_type": "stream",
       "stream": "stdout",
       "text": [
        "[============                           ]  19.07Mb / 63.58Mb   \r"
       ]
      },
      {
       "output_type": "stream",
       "stream": "stdout",
       "text": [
        "[=============                          ]  20.66Mb / 63.58Mb   \r"
       ]
      },
      {
       "output_type": "stream",
       "stream": "stdout",
       "text": [
        "[==============                         ]  22.25Mb / 63.58Mb   \r"
       ]
      },
      {
       "output_type": "stream",
       "stream": "stdout",
       "text": [
        "[===============                        ]  23.84Mb / 63.58Mb   \r"
       ]
      },
      {
       "output_type": "stream",
       "stream": "stdout",
       "text": [
        "[================                       ]  25.43Mb / 63.58Mb   \r"
       ]
      },
      {
       "output_type": "stream",
       "stream": "stdout",
       "text": [
        "[=================                      ]  27.02Mb / 63.58Mb   \r"
       ]
      },
      {
       "output_type": "stream",
       "stream": "stdout",
       "text": [
        "[==================                     ]  28.61Mb / 63.58Mb   \r"
       ]
      },
      {
       "output_type": "stream",
       "stream": "stdout",
       "text": [
        "[===================                    ]  30.20Mb / 63.58Mb   \r"
       ]
      },
      {
       "output_type": "stream",
       "stream": "stdout",
       "text": [
        "[====================                   ]  31.79Mb / 63.58Mb   \r"
       ]
      },
      {
       "output_type": "stream",
       "stream": "stdout",
       "text": [
        "[=====================                  ]  33.38Mb / 63.58Mb   \r"
       ]
      },
      {
       "output_type": "stream",
       "stream": "stdout",
       "text": [
        "[======================                 ]  34.97Mb / 63.58Mb   \r"
       ]
      },
      {
       "output_type": "stream",
       "stream": "stdout",
       "text": [
        "[=======================                ]  36.56Mb / 63.58Mb   \r"
       ]
      },
      {
       "output_type": "stream",
       "stream": "stdout",
       "text": [
        "[========================               ]  38.15Mb / 63.58Mb   \r"
       ]
      },
      {
       "output_type": "stream",
       "stream": "stdout",
       "text": [
        "[=========================              ]  39.74Mb / 63.58Mb   \r"
       ]
      },
      {
       "output_type": "stream",
       "stream": "stdout",
       "text": [
        "[==========================             ]  41.33Mb / 63.58Mb   \r"
       ]
      },
      {
       "output_type": "stream",
       "stream": "stdout",
       "text": [
        "[===========================            ]  42.92Mb / 63.58Mb   \r"
       ]
      },
      {
       "output_type": "stream",
       "stream": "stdout",
       "text": [
        "[============================           ]  44.51Mb / 63.58Mb   \r"
       ]
      },
      {
       "output_type": "stream",
       "stream": "stdout",
       "text": [
        "[=============================          ]  46.10Mb / 63.58Mb   \r"
       ]
      },
      {
       "output_type": "stream",
       "stream": "stdout",
       "text": [
        "[==============================         ]  47.68Mb / 63.58Mb   \r"
       ]
      },
      {
       "output_type": "stream",
       "stream": "stdout",
       "text": [
        "[===============================        ]  49.27Mb / 63.58Mb   \r"
       ]
      },
      {
       "output_type": "stream",
       "stream": "stdout",
       "text": [
        "[================================       ]  50.86Mb / 63.58Mb   \r"
       ]
      },
      {
       "output_type": "stream",
       "stream": "stdout",
       "text": [
        "[=================================      ]  52.45Mb / 63.58Mb   \r"
       ]
      },
      {
       "output_type": "stream",
       "stream": "stdout",
       "text": [
        "[==================================     ]  54.04Mb / 63.58Mb   \r"
       ]
      },
      {
       "output_type": "stream",
       "stream": "stdout",
       "text": [
        "[===================================    ]  55.63Mb / 63.58Mb   \r"
       ]
      },
      {
       "output_type": "stream",
       "stream": "stdout",
       "text": [
        "[====================================   ]  57.22Mb / 63.58Mb   \r"
       ]
      },
      {
       "output_type": "stream",
       "stream": "stdout",
       "text": [
        "[=====================================  ]  58.81Mb / 63.58Mb   \r"
       ]
      },
      {
       "output_type": "stream",
       "stream": "stdout",
       "text": [
        "[====================================== ]  60.40Mb / 63.58Mb   \r"
       ]
      },
      {
       "output_type": "stream",
       "stream": "stdout",
       "text": [
        "[=======================================]  61.99Mb / 63.58Mb   \r"
       ]
      },
      {
       "output_type": "stream",
       "stream": "stdout",
       "text": [
        "[========================================]  63.58Mb / 63.58Mb   \r"
       ]
      },
      {
       "output_type": "stream",
       "stream": "stdout",
       "text": [
        "[=========================================]  63.58Mb / 63.58Mb   \r"
       ]
      },
      {
       "output_type": "stream",
       "stream": "stdout",
       "text": [
        "\n",
        "uncompressing file...\n",
        "(1006849,)"
       ]
      },
      {
       "output_type": "stream",
       "stream": "stdout",
       "text": [
        "\n",
        "('RA', 'DEC', 'RArms', 'DECrms', 'Ntot')\n"
       ]
      }
     ],
     "prompt_number": 13
    },
    {
     "cell_type": "code",
     "collapsed": false,
     "input": [
      "data = data[:10000]\n",
      "g = data['mmu_g']    # g-band mean magnitude\n",
      "r = data['mmu_r']\n",
      "i = data['mmu_i']\n",
      "\n",
      "ax = plt.axes()\n",
      "ax.scatter(g - r, r - i, s=4, c='black', linewidth=0.5)\n",
      "ax.set_xlabel('g - r')\n",
      "ax.set_ylabel('r - i')"
     ],
     "language": "python",
     "metadata": {},
     "outputs": [
      {
       "output_type": "pyout",
       "prompt_number": 14,
       "text": [
        "<matplotlib.text.Text at 0x10aa9d9d0>"
       ]
      },
      {
       "output_type": "display_data",
       "png": "[encoded data removed]"
      }
     ],
     "prompt_number": 14
    },
    {
     "cell_type": "markdown",
     "metadata": {},
     "source": [
      "1.5.9 LINEAR Stellar Light Curves\n",
      "\n",
      "From MIT Lincoln Laboratory looking for near-Earth asteroids. The data in the dataset are re-calibrated aided by SDSS. 7000 likely periodic variable stars. "
     ]
    },
    {
     "cell_type": "code",
     "collapsed": false,
     "input": [
      "from astroML.datasets import fetch_LINEAR_sample \n",
      "\n",
      "data = fetch_LINEAR_sample()\n",
      "\n",
      "gr = data.targets['gr']    # g - r color\n",
      "ri = data.targets['ri']    # r - i color\n",
      "logP = data.targets['LP1']    # log_10(period) in days\n",
      "\n",
      "print gr.shape\n",
      "\n",
      "id = data.ids[2756]  # choose one id from sample\n",
      "\n",
      "print id\n",
      "\n",
      "t, mag, dmag = data[id].T    # access light curve data\n",
      "\n",
      "logP = data.get_target_parameter(id, 'LP1')"
     ],
     "language": "python",
     "metadata": {},
     "outputs": [
      {
       "output_type": "stream",
       "stream": "stdout",
       "text": [
        "Downloading http://www.astro.washington.edu/users/ivezic/linear/allDataFinal/allLINEARfinal_targets.dat\n",
        "[=                                      ]  25.0kb / 1001.2kb   \r"
       ]
      },
      {
       "output_type": "stream",
       "stream": "stdout",
       "text": [
        "[==                                     ]  50.1kb / 1001.2kb   \r"
       ]
      },
      {
       "output_type": "stream",
       "stream": "stdout",
       "text": [
        "[===                                    ]  75.1kb / 1001.2kb   \r"
       ]
      },
      {
       "output_type": "stream",
       "stream": "stdout",
       "text": [
        "[====                                   ]  100.1kb / 1001.2kb   \r"
       ]
      },
      {
       "output_type": "stream",
       "stream": "stdout",
       "text": [
        "[=====                                  ]  125.2kb / 1001.2kb   \r"
       ]
      },
      {
       "output_type": "stream",
       "stream": "stdout",
       "text": [
        "[======                                 ]  150.2kb / 1001.2kb   \r"
       ]
      },
      {
       "output_type": "stream",
       "stream": "stdout",
       "text": [
        "[=======                                ]  175.2kb / 1001.2kb   \r"
       ]
      },
      {
       "output_type": "stream",
       "stream": "stdout",
       "text": [
        "[========                               ]  200.2kb / 1001.2kb   \r"
       ]
      },
      {
       "output_type": "stream",
       "stream": "stdout",
       "text": [
        "[=========                              ]  225.3kb / 1001.2kb   \r"
       ]
      },
      {
       "output_type": "stream",
       "stream": "stdout",
       "text": [
        "[==========                             ]  250.3kb / 1001.2kb   \r"
       ]
      },
      {
       "output_type": "stream",
       "stream": "stdout",
       "text": [
        "[===========                            ]  275.3kb / 1001.2kb   \r"
       ]
      },
      {
       "output_type": "stream",
       "stream": "stdout",
       "text": [
        "[============                           ]  300.4kb / 1001.2kb   \r"
       ]
      },
      {
       "output_type": "stream",
       "stream": "stdout",
       "text": [
        "[=============                          ]  325.4kb / 1001.2kb   \r"
       ]
      },
      {
       "output_type": "stream",
       "stream": "stdout",
       "text": [
        "[==============                         ]  350.4kb / 1001.2kb   \r"
       ]
      },
      {
       "output_type": "stream",
       "stream": "stdout",
       "text": [
        "[===============                        ]  375.5kb / 1001.2kb   \r"
       ]
      },
      {
       "output_type": "stream",
       "stream": "stdout",
       "text": [
        "[================                       ]  400.5kb / 1001.2kb   \r"
       ]
      },
      {
       "output_type": "stream",
       "stream": "stdout",
       "text": [
        "[=================                      ]  425.5kb / 1001.2kb   \r"
       ]
      },
      {
       "output_type": "stream",
       "stream": "stdout",
       "text": [
        "[==================                     ]  450.5kb / 1001.2kb   \r"
       ]
      },
      {
       "output_type": "stream",
       "stream": "stdout",
       "text": [
        "[===================                    ]  475.6kb / 1001.2kb   \r"
       ]
      },
      {
       "output_type": "stream",
       "stream": "stdout",
       "text": [
        "[====================                   ]  500.6kb / 1001.2kb   \r"
       ]
      },
      {
       "output_type": "stream",
       "stream": "stdout",
       "text": [
        "[=====================                  ]  525.6kb / 1001.2kb   \r"
       ]
      },
      {
       "output_type": "stream",
       "stream": "stdout",
       "text": [
        "[======================                 ]  550.7kb / 1001.2kb   \r"
       ]
      },
      {
       "output_type": "stream",
       "stream": "stdout",
       "text": [
        "[=======================                ]  575.7kb / 1001.2kb   \r"
       ]
      },
      {
       "output_type": "stream",
       "stream": "stdout",
       "text": [
        "[========================               ]  600.7kb / 1001.2kb   \r"
       ]
      },
      {
       "output_type": "stream",
       "stream": "stdout",
       "text": [
        "[=========================              ]  625.8kb / 1001.2kb   \r"
       ]
      },
      {
       "output_type": "stream",
       "stream": "stdout",
       "text": [
        "[==========================             ]  650.8kb / 1001.2kb   \r"
       ]
      },
      {
       "output_type": "stream",
       "stream": "stdout",
       "text": [
        "[===========================            ]  675.8kb / 1001.2kb   \r"
       ]
      },
      {
       "output_type": "stream",
       "stream": "stdout",
       "text": [
        "[============================           ]  700.8kb / 1001.2kb   \r"
       ]
      },
      {
       "output_type": "stream",
       "stream": "stdout",
       "text": [
        "[=============================          ]  725.9kb / 1001.2kb   \r"
       ]
      },
      {
       "output_type": "stream",
       "stream": "stdout",
       "text": [
        "[==============================         ]  750.9kb / 1001.2kb   \r"
       ]
      },
      {
       "output_type": "stream",
       "stream": "stdout",
       "text": [
        "[===============================        ]  775.9kb / 1001.2kb   \r"
       ]
      },
      {
       "output_type": "stream",
       "stream": "stdout",
       "text": [
        "[================================       ]  801.0kb / 1001.2kb   \r"
       ]
      },
      {
       "output_type": "stream",
       "stream": "stdout",
       "text": [
        "[=================================      ]  826.0kb / 1001.2kb   \r"
       ]
      },
      {
       "output_type": "stream",
       "stream": "stdout",
       "text": [
        "[==================================     ]  851.0kb / 1001.2kb   \r"
       ]
      },
      {
       "output_type": "stream",
       "stream": "stdout",
       "text": [
        "[===================================    ]  876.1kb / 1001.2kb   \r"
       ]
      },
      {
       "output_type": "stream",
       "stream": "stdout",
       "text": [
        "[====================================   ]  901.1kb / 1001.2kb   \r"
       ]
      },
      {
       "output_type": "stream",
       "stream": "stdout",
       "text": [
        "[=====================================  ]  926.1kb / 1001.2kb   \r"
       ]
      },
      {
       "output_type": "stream",
       "stream": "stdout",
       "text": [
        "[====================================== ]  951.2kb / 1001.2kb   \r"
       ]
      },
      {
       "output_type": "stream",
       "stream": "stdout",
       "text": [
        "[=======================================]  976.2kb / 1001.2kb   \r"
       ]
      },
      {
       "output_type": "stream",
       "stream": "stdout",
       "text": [
        "[========================================]  1001.2kb / 1001.2kb   \r"
       ]
      },
      {
       "output_type": "stream",
       "stream": "stdout",
       "text": [
        "[=========================================]  1001.2kb / 1001.2kb   \r"
       ]
      },
      {
       "output_type": "stream",
       "stream": "stdout",
       "text": [
        "\n",
        "Downloading http://www.astro.washington.edu/users/ivezic/linear/allDataFinal/allLINEARfinal_dat.tar.gz"
       ]
      },
      {
       "output_type": "stream",
       "stream": "stdout",
       "text": [
        "\n",
        "[=                                      ]  410.9kb / 16.05Mb   \r"
       ]
      },
      {
       "output_type": "stream",
       "stream": "stdout",
       "text": [
        "[==                                     ]  821.9kb / 16.05Mb   \r"
       ]
      },
      {
       "output_type": "stream",
       "stream": "stdout",
       "text": [
        "[===                                    ]  1.20Mb / 16.05Mb   \r"
       ]
      },
      {
       "output_type": "stream",
       "stream": "stdout",
       "text": [
        "[====                                   ]  1.61Mb / 16.05Mb   \r"
       ]
      },
      {
       "output_type": "stream",
       "stream": "stdout",
       "text": [
        "[=====                                  ]  2.01Mb / 16.05Mb   \r"
       ]
      },
      {
       "output_type": "stream",
       "stream": "stdout",
       "text": [
        "[======                                 ]  2.41Mb / 16.05Mb   \r"
       ]
      },
      {
       "output_type": "stream",
       "stream": "stdout",
       "text": [
        "[=======                                ]  2.81Mb / 16.05Mb   \r"
       ]
      },
      {
       "output_type": "stream",
       "stream": "stdout",
       "text": [
        "[========                               ]  3.21Mb / 16.05Mb   \r"
       ]
      },
      {
       "output_type": "stream",
       "stream": "stdout",
       "text": [
        "[=========                              ]  3.61Mb / 16.05Mb   \r"
       ]
      },
      {
       "output_type": "stream",
       "stream": "stdout",
       "text": [
        "[==========                             ]  4.01Mb / 16.05Mb   \r"
       ]
      },
      {
       "output_type": "stream",
       "stream": "stdout",
       "text": [
        "[===========                            ]  4.41Mb / 16.05Mb   \r"
       ]
      },
      {
       "output_type": "stream",
       "stream": "stdout",
       "text": [
        "[============                           ]  4.82Mb / 16.05Mb   \r"
       ]
      },
      {
       "output_type": "stream",
       "stream": "stdout",
       "text": [
        "[=============                          ]  5.22Mb / 16.05Mb   \r"
       ]
      },
      {
       "output_type": "stream",
       "stream": "stdout",
       "text": [
        "[==============                         ]  5.62Mb / 16.05Mb   \r"
       ]
      },
      {
       "output_type": "stream",
       "stream": "stdout",
       "text": [
        "[===============                        ]  6.02Mb / 16.05Mb   \r"
       ]
      },
      {
       "output_type": "stream",
       "stream": "stdout",
       "text": [
        "[================                       ]  6.42Mb / 16.05Mb   \r"
       ]
      },
      {
       "output_type": "stream",
       "stream": "stdout",
       "text": [
        "[=================                      ]  6.82Mb / 16.05Mb   \r"
       ]
      },
      {
       "output_type": "stream",
       "stream": "stdout",
       "text": [
        "[==================                     ]  7.22Mb / 16.05Mb   \r"
       ]
      },
      {
       "output_type": "stream",
       "stream": "stdout",
       "text": [
        "[===================                    ]  7.62Mb / 16.05Mb   \r"
       ]
      },
      {
       "output_type": "stream",
       "stream": "stdout",
       "text": [
        "[====================                   ]  8.03Mb / 16.05Mb   \r"
       ]
      },
      {
       "output_type": "stream",
       "stream": "stdout",
       "text": [
        "[=====================                  ]  8.43Mb / 16.05Mb   \r"
       ]
      },
      {
       "output_type": "stream",
       "stream": "stdout",
       "text": [
        "[======================                 ]  8.83Mb / 16.05Mb   \r"
       ]
      },
      {
       "output_type": "stream",
       "stream": "stdout",
       "text": [
        "[=======================                ]  9.23Mb / 16.05Mb   \r"
       ]
      },
      {
       "output_type": "stream",
       "stream": "stdout",
       "text": [
        "[========================               ]  9.63Mb / 16.05Mb   \r"
       ]
      },
      {
       "output_type": "stream",
       "stream": "stdout",
       "text": [
        "[=========================              ]  10.03Mb / 16.05Mb   \r"
       ]
      },
      {
       "output_type": "stream",
       "stream": "stdout",
       "text": [
        "[==========================             ]  10.43Mb / 16.05Mb   \r"
       ]
      },
      {
       "output_type": "stream",
       "stream": "stdout",
       "text": [
        "[===========================            ]  10.84Mb / 16.05Mb   \r"
       ]
      },
      {
       "output_type": "stream",
       "stream": "stdout",
       "text": [
        "[============================           ]  11.24Mb / 16.05Mb   \r"
       ]
      },
      {
       "output_type": "stream",
       "stream": "stdout",
       "text": [
        "[=============================          ]  11.64Mb / 16.05Mb   \r"
       ]
      },
      {
       "output_type": "stream",
       "stream": "stdout",
       "text": [
        "[==============================         ]  12.04Mb / 16.05Mb   \r"
       ]
      },
      {
       "output_type": "stream",
       "stream": "stdout",
       "text": [
        "[===============================        ]  12.44Mb / 16.05Mb   \r"
       ]
      },
      {
       "output_type": "stream",
       "stream": "stdout",
       "text": [
        "[================================       ]  12.84Mb / 16.05Mb   \r"
       ]
      },
      {
       "output_type": "stream",
       "stream": "stdout",
       "text": [
        "[=================================      ]  13.24Mb / 16.05Mb   \r"
       ]
      },
      {
       "output_type": "stream",
       "stream": "stdout",
       "text": [
        "[==================================     ]  13.64Mb / 16.05Mb   \r"
       ]
      },
      {
       "output_type": "stream",
       "stream": "stdout",
       "text": [
        "[===================================    ]  14.05Mb / 16.05Mb   \r"
       ]
      },
      {
       "output_type": "stream",
       "stream": "stdout",
       "text": [
        "[====================================   ]  14.45Mb / 16.05Mb   \r"
       ]
      },
      {
       "output_type": "stream",
       "stream": "stdout",
       "text": [
        "[=====================================  ]  14.85Mb / 16.05Mb   \r"
       ]
      },
      {
       "output_type": "stream",
       "stream": "stdout",
       "text": [
        "[====================================== ]  15.25Mb / 16.05Mb   \r"
       ]
      },
      {
       "output_type": "stream",
       "stream": "stdout",
       "text": [
        "[=======================================]  15.65Mb / 16.05Mb   \r"
       ]
      },
      {
       "output_type": "stream",
       "stream": "stdout",
       "text": [
        "[========================================]  16.05Mb / 16.05Mb   \r"
       ]
      },
      {
       "output_type": "stream",
       "stream": "stdout",
       "text": [
        "[=========================================]  16.05Mb / 16.05Mb   \r"
       ]
      },
      {
       "output_type": "stream",
       "stream": "stdout",
       "text": [
        "\n",
        "(7010,)"
       ]
      },
      {
       "output_type": "stream",
       "stream": "stdout",
       "text": [
        "\n",
        "18527462\n"
       ]
      }
     ],
     "prompt_number": 15
    },
    {
     "cell_type": "markdown",
     "metadata": {},
     "source": [
      "1.5.10 SDSS Moving Object Catalog\n",
      "\n",
      "4th Moving Object Catalog lists data for ~472,000 Solar system objects\n",
      "\n",
      "Make scatter plot of orbital semimajor axis versus orbital inclination angle.  NB: set a flat to make data quality cuts to increase the measurement quality.\n",
      "\n",
      "Gaps at 2.5, 2.8, and 3.3 AU are called Kirkwood gaps and are due to orbital resonances with Jupiter. Clumps are often called asteroid families, remnants of collisions of larger asteroids. "
     ]
    },
    {
     "cell_type": "code",
     "collapsed": false,
     "input": [
      "from astroML.datasets import fetch_moving_objects\n",
      "\n",
      "data = fetch_moving_objects(Parker2008_cuts = True)\n",
      "\n",
      "print data.shape\n",
      "\n",
      "print data.dtype.names[:5]"
     ],
     "language": "python",
     "metadata": {},
     "outputs": [
      {
       "output_type": "stream",
       "stream": "stdout",
       "text": [
        "downloading moving object catalog from http://www.astro.washington.edu/users/ivezic/sdssmoc/ADR3.dat.gz to /Users/Kyle/astroML_data\n",
        "Downloading http://www.astro.washington.edu/users/ivezic/sdssmoc/ADR3.dat.gz"
       ]
      },
      {
       "output_type": "stream",
       "stream": "stdout",
       "text": [
        "\n",
        "[=                                      ]  648.5kb / 25.33Mb   \r"
       ]
      },
      {
       "output_type": "stream",
       "stream": "stdout",
       "text": [
        "[==                                     ]  1.27Mb / 25.33Mb   \r"
       ]
      },
      {
       "output_type": "stream",
       "stream": "stdout",
       "text": [
        "[===                                    ]  1.90Mb / 25.33Mb   \r"
       ]
      },
      {
       "output_type": "stream",
       "stream": "stdout",
       "text": [
        "[====                                   ]  2.53Mb / 25.33Mb   \r"
       ]
      },
      {
       "output_type": "stream",
       "stream": "stdout",
       "text": [
        "[=====                                  ]  3.17Mb / 25.33Mb   \r"
       ]
      },
      {
       "output_type": "stream",
       "stream": "stdout",
       "text": [
        "[======                                 ]  3.80Mb / 25.33Mb   \r"
       ]
      },
      {
       "output_type": "stream",
       "stream": "stdout",
       "text": [
        "[=======                                ]  4.43Mb / 25.33Mb   \r"
       ]
      },
      {
       "output_type": "stream",
       "stream": "stdout",
       "text": [
        "[========                               ]  5.07Mb / 25.33Mb   \r"
       ]
      },
      {
       "output_type": "stream",
       "stream": "stdout",
       "text": [
        "[=========                              ]  5.70Mb / 25.33Mb   \r"
       ]
      },
      {
       "output_type": "stream",
       "stream": "stdout",
       "text": [
        "[==========                             ]  6.33Mb / 25.33Mb   \r"
       ]
      },
      {
       "output_type": "stream",
       "stream": "stdout",
       "text": [
        "[===========                            ]  6.97Mb / 25.33Mb   \r"
       ]
      },
      {
       "output_type": "stream",
       "stream": "stdout",
       "text": [
        "[============                           ]  7.60Mb / 25.33Mb   \r"
       ]
      },
      {
       "output_type": "stream",
       "stream": "stdout",
       "text": [
        "[=============                          ]  8.23Mb / 25.33Mb   \r"
       ]
      },
      {
       "output_type": "stream",
       "stream": "stdout",
       "text": [
        "[==============                         ]  8.87Mb / 25.33Mb   \r"
       ]
      },
      {
       "output_type": "stream",
       "stream": "stdout",
       "text": [
        "[===============                        ]  9.50Mb / 25.33Mb   \r"
       ]
      },
      {
       "output_type": "stream",
       "stream": "stdout",
       "text": [
        "[================                       ]  10.13Mb / 25.33Mb   \r"
       ]
      },
      {
       "output_type": "stream",
       "stream": "stdout",
       "text": [
        "[=================                      ]  10.77Mb / 25.33Mb   \r"
       ]
      },
      {
       "output_type": "stream",
       "stream": "stdout",
       "text": [
        "[==================                     ]  11.40Mb / 25.33Mb   \r"
       ]
      },
      {
       "output_type": "stream",
       "stream": "stdout",
       "text": [
        "[===================                    ]  12.03Mb / 25.33Mb   \r"
       ]
      },
      {
       "output_type": "stream",
       "stream": "stdout",
       "text": [
        "[====================                   ]  12.67Mb / 25.33Mb   \r"
       ]
      },
      {
       "output_type": "stream",
       "stream": "stdout",
       "text": [
        "[=====================                  ]  13.30Mb / 25.33Mb   \r"
       ]
      },
      {
       "output_type": "stream",
       "stream": "stdout",
       "text": [
        "[======================                 ]  13.93Mb / 25.33Mb   \r"
       ]
      },
      {
       "output_type": "stream",
       "stream": "stdout",
       "text": [
        "[=======================                ]  14.57Mb / 25.33Mb   \r"
       ]
      },
      {
       "output_type": "stream",
       "stream": "stdout",
       "text": [
        "[========================               ]  15.20Mb / 25.33Mb   \r"
       ]
      },
      {
       "output_type": "stream",
       "stream": "stdout",
       "text": [
        "[=========================              ]  15.83Mb / 25.33Mb   \r"
       ]
      },
      {
       "output_type": "stream",
       "stream": "stdout",
       "text": [
        "[==========================             ]  16.47Mb / 25.33Mb   \r"
       ]
      },
      {
       "output_type": "stream",
       "stream": "stdout",
       "text": [
        "[===========================            ]  17.10Mb / 25.33Mb   \r"
       ]
      },
      {
       "output_type": "stream",
       "stream": "stdout",
       "text": [
        "[============================           ]  17.73Mb / 25.33Mb   \r"
       ]
      },
      {
       "output_type": "stream",
       "stream": "stdout",
       "text": [
        "[=============================          ]  18.37Mb / 25.33Mb   \r"
       ]
      },
      {
       "output_type": "stream",
       "stream": "stdout",
       "text": [
        "[==============================         ]  19.00Mb / 25.33Mb   \r"
       ]
      },
      {
       "output_type": "stream",
       "stream": "stdout",
       "text": [
        "[===============================        ]  19.63Mb / 25.33Mb   \r"
       ]
      },
      {
       "output_type": "stream",
       "stream": "stdout",
       "text": [
        "[================================       ]  20.27Mb / 25.33Mb   \r"
       ]
      },
      {
       "output_type": "stream",
       "stream": "stdout",
       "text": [
        "[=================================      ]  20.90Mb / 25.33Mb   \r"
       ]
      },
      {
       "output_type": "stream",
       "stream": "stdout",
       "text": [
        "[==================================     ]  21.53Mb / 25.33Mb   \r"
       ]
      },
      {
       "output_type": "stream",
       "stream": "stdout",
       "text": [
        "[===================================    ]  22.17Mb / 25.33Mb   \r"
       ]
      },
      {
       "output_type": "stream",
       "stream": "stdout",
       "text": [
        "[====================================   ]  22.80Mb / 25.33Mb   \r"
       ]
      },
      {
       "output_type": "stream",
       "stream": "stdout",
       "text": [
        "[=====================================  ]  23.43Mb / 25.33Mb   \r"
       ]
      },
      {
       "output_type": "stream",
       "stream": "stdout",
       "text": [
        "[====================================== ]  24.07Mb / 25.33Mb   \r"
       ]
      },
      {
       "output_type": "stream",
       "stream": "stdout",
       "text": [
        "[=======================================]  24.70Mb / 25.33Mb   \r"
       ]
      },
      {
       "output_type": "stream",
       "stream": "stdout",
       "text": [
        "[========================================]  25.33Mb / 25.33Mb   \r"
       ]
      },
      {
       "output_type": "stream",
       "stream": "stdout",
       "text": [
        "[=========================================]  25.33Mb / 25.33Mb   \r"
       ]
      },
      {
       "output_type": "stream",
       "stream": "stdout",
       "text": [
        "\n",
        "uncompressing file...\n",
        "(33160,)"
       ]
      },
      {
       "output_type": "stream",
       "stream": "stdout",
       "text": [
        "\n",
        "('moID', 'sdss_run', 'sdss_col', 'sdss_field', 'sdss_obj')\n"
       ]
      }
     ],
     "prompt_number": 16
    },
    {
     "cell_type": "code",
     "collapsed": false,
     "input": [
      "data = data[:10000]\n",
      "a = data['aprime']\n",
      "sini = data['sin_iprime']\n",
      "\n",
      "ax = plt.axes()\n",
      "ax.scatter(a, sini, s=4, c='black', linewidth=0.5)\n",
      "ax.set_xlabel('Semi-major Axis (AU)')\n",
      "ax.set_ylabel('Sine of Inclination Angle')"
     ],
     "language": "python",
     "metadata": {},
     "outputs": [
      {
       "output_type": "pyout",
       "prompt_number": 21,
       "text": [
        "<matplotlib.text.Text at 0x10ad4f910>"
       ]
      },
      {
       "output_type": "display_data",
       "png": "[encoded data removed]"
      }
     ],
     "prompt_number": 21
    },
    {
     "cell_type": "markdown",
     "metadata": {},
     "source": [
      "# 1.6 Plotting and visualizing the data in this book"
     ]
    },
    {
     "cell_type": "markdown",
     "metadata": {},
     "source": [
      "Visualization is important for investigation, exploratory analysis, and presentation.\n",
      "\n",
      "The Visual Display of Quantitative Information by Tufte\n",
      "\n",
      "Four principles of visualization:\n",
      "\n",
      "1 - present many numbers in a small space\n",
      "\n",
      "2 - make large data sets coherent\n",
      "\n",
      "3 - reveal the data at several levels of detail \n",
      "\n",
      "4 - encourage the eye to compare different pieces of data"
     ]
    },
    {
     "cell_type": "markdown",
     "metadata": {},
     "source": [
      "1.6.1 Plotting Two-Dimensional Representations of Large Data Sets\n",
      "\n",
      "Scatter plots and histograms. Note histograms are statistical problems themselves. \n",
      "\n",
      "Contour plot - successfully show the distribution of dense regions, but lose info in low density regions \n",
      "\n",
      "Combine contour plot with scatter plot (e.g., Michael Strauss from Princeton University). See Fig. 1.9\n",
      "\n",
      "Two-dimensional histogram aka Hess diagram. See Fig. 1.10\n",
      "\n",
      "When points are sparsely sampled, or the density variation is large, there are better methods that the Hess diagram. "
     ]
    },
    {
     "cell_type": "markdown",
     "metadata": {},
     "source": [
      "1.6.2 Plotting in Higher Dimensions\n",
      "\n",
      "Sometimes we have many dimensions of data. For example, we can as whether two-dimensional color information for asteroids is correlated with their orbital semimajor axis and inclination, or whether the color and luminosity of galaxies are correlated with their position in a spectral emission-line diagram. \n",
      "\n",
      "Four vectors (x, y, z, w). Define a continuous color palette assigning a color to each data pair. See Fig. 1.12.\n",
      "\n",
      "For higher dimensional problems, seek various low-dimensional projections. Use \"dimensionality reduction\" techniques. ---- I know PCA is a dimensionality reduction technique. \n",
      "\n"
     ]
    }
   ],
   "metadata": {}
  }
 ]
}