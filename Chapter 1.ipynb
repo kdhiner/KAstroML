{
 "metadata": {
  "name": "Chapter 1"
 },
 "nbformat": 3,
 "nbformat_minor": 0,
 "worksheets": [
  {
   "cells": [
    {
     "cell_type": "markdown",
     "metadata": {},
     "source": [
      "# AstroML\n",
      "\n",
      "# Chapter 1: About the Book and Supporting Meterial \n",
      "\n",
      "This notebook covers chapter 1 of the AstroML book"
     ]
    },
    {
     "cell_type": "markdown",
     "metadata": {},
     "source": [
      "# 1.1 What do Data Mining, Machine Learning, and Knowledge Discovery mean?"
     ]
    },
    {
     "cell_type": "markdown",
     "metadata": {},
     "source": [
      "Data Mining - analysizing and describing structured data, e.g., finding patterns in large data sets. \"Knowledge discovery\" is often used interchangeably with \"data mining\".\n",
      "\n",
      "Machine Learning - umbrella term for a set of techniques for interpreting data by comparing them to models for data behavior. \n"
     ]
    },
    {
     "cell_type": "markdown",
     "metadata": {},
     "source": [
      "#1.2 What is this book about?"
     ]
    },
    {
     "cell_type": "markdown",
     "metadata": {},
     "source": [
      "Extracting knowledge from data.\n",
      "\n",
      "Random variables, x, can be real numbers (e.g., stellar brightness), discrete values (e.g., stellar spectral type), or NaNs.\n",
      "\n",
      "How to estimate the distribution h(x) from which values x are drawn. h(x) -- the probability that a value lies between x and x+dx, and is called the probabilty density function (pdf). \n",
      "\n",
      "parametric models e.g., Gaussian. Non-parametric models e.g., superposition of many small Gaussians, histogram\n",
      "\n",
      "Integral H(x) = int[h(x')dx'] is called the cumulative distribution function. (inverse = quantile function)\n",
      "\n",
      "h(x) -- true/intrinsic (\"population pdf\")\n",
      "\n",
      "f(x) -- data-derived estimate (\"emperical pdf\")\n",
      "\n",
      "e(x) -- uncertainty on measurement/error distribution\n",
      "\n",
      "mu -- true value of x\n",
      "\n",
      "heteroscedastic - error distribution is different for each measurement, x\n",
      "\n",
      "homoscedastic - error distribution is the same for each measurement, x\n",
      "\n",
      "f(x) may be borad or have defined dispersion because of measurement errors on x while sampling a true value of mu. However, f(x) may also be broad even if e(x) is small, because intrinsic h(x) is broad.\n",
      "\n",
      "This book is about how to estimate the empirical pdf f(x) from data, how to statistically describe the estimate and its uncertainty, how to compare it to models specified via h(x), and how to use this knowledge to interpret additional measurements.\n"
     ]
    },
    {
     "cell_type": "markdown",
     "metadata": {},
     "source": [
      "#1.3 An incomplete survey of the relevant literature"
     ]
    },
    {
     "cell_type": "markdown",
     "metadata": {},
     "source": [
      "Numerical Recipes by Press, Teukolsky, Veterling, and Flannery\n",
      "\n",
      "The Elements of Statistical Learning: Data Mining, Inference, and Prediction by Hastie, Tibshirani, and Friedman\n",
      "\n",
      "All of Nonparametric Statistics and All of Statistics: A Concise Course in Statistical Inference by Wasserman\n",
      "\n",
      "Statistics in Theory and Practice by Lupton\n",
      "\n",
      "Practical Statistics for Astronomers by Wall and Jenkins \n",
      "\n",
      "Statistics: A Guide to the Use of Statistical Methods in the Physical Sciences by Barlow (good for beginners)\n",
      "\n",
      "Data Analysis: A Bayesian Tutorial by Sivia (highly recommended)\n",
      "\n",
      "Bayesian Logical Data Analysis for the Physical Sciences by Gregory\n",
      "\n",
      "Probability Theory: The Logic of Science by Jaynes\n",
      "\n",
      "Bayesian Methods in Cosmology ed by Hobson, Jaffe, Mukherjee, and Parkinson\n",
      "\n",
      "etc. "
     ]
    },
    {
     "cell_type": "markdown",
     "metadata": {},
     "source": [
      "#1.4 Introduction to the python language and the git code management tool"
     ]
    },
    {
     "cell_type": "markdown",
     "metadata": {},
     "source": [
      "Material in this book is supported by code available from http://www.astroML.org\n",
      "\n",
      "1.4.1 Python\n",
      "\n",
      "Open-source, object-oriented interpreted language. Dependencies - Numpy, SciPy, Matplotlib, AstroML, Scikit-learn, PyMC, HealPy.\n",
      "\n",
      "See AstroPython site for community knowledge base. AstroPy is similar and focuses on developing a core Python package for astronomers. \n",
      "\n",
      "1.4.2 Code Management with Git\n",
      "\n",
      "Freely avalable management tools: CVS, SVN, Bazaar, Mercurial, and Git."
     ]
    },
    {
     "cell_type": "markdown",
     "metadata": {},
     "source": [
      "#1.5 Description of surveys and data sets used in examples"
     ]
    },
    {
     "cell_type": "markdown",
     "metadata": {},
     "source": [
      "AstroML contains data loaders - may need space on computer to download data.\n",
      "\n",
      "1.5.1 AstroML Data Set Tools\n",
      "\n",
      "astroML.datasets - access data via http\n",
      "\n",
      "fetch_imaging_sample will return local sample if already downloaded, or download it."
     ]
    },
    {
     "cell_type": "code",
     "collapsed": false,
     "input": [
      "import astroML.datasets\n",
      "#astroML.datasets.<TAB>"
     ],
     "language": "python",
     "metadata": {},
     "outputs": [],
     "prompt_number": 12
    },
    {
     "cell_type": "markdown",
     "metadata": {},
     "source": [
      "1.5.2 Overview of Available Data Sets\n",
      "\n",
      "SDSS DR7 - 357 million unique sources detected in 12,000 sq. deg of sky. Faint limit is r ~ 22.5 mag. \n",
      "\n",
      "Spectra - R ~ 2000, 3800-9200 A, 1.6 million spectra, 900,000 galaxies, 120,000 quasars, 460,000 stars. \n",
      "\n",
      "Stripe 82 - provides time domain for one patch of sky\n",
      "\n",
      "CAS - SQL search engine\n",
      "\n",
      "2MASS 1.2 - 2.2 micron\n",
      "\n",
      "LINEAR - time-domain for variable stars\n",
      "\n",
      "LIGO - simulated data of gravitational waves\n",
      "\n",
      "1.5.3 SDSS Imaging Data\n",
      "\n",
      "Submit CASJob to download photometry of a sample of objects within 20 deg^2, or 0.05% of the sky\n",
      "\n",
      "SDSS processing flags are used in the query to filter objects\n",
      "\n"
     ]
    },
    {
     "cell_type": "code",
     "collapsed": false,
     "input": [
      "# Fetch the SDSS imaging sample data\n",
      "# From my CAS Job, this should be about 67 MB\n",
      "\n",
      "from astroML.datasets import\\\n",
      "fetch_imaging_sample\n",
      "\n",
      "data = fetch_imaging_sample()   # 1st run - download data, after load from disk\n",
      "\n",
      "# Where is the file stored that I just downloaded? \n",
      "# ~/astroML_data/sgSDSSimagingSample.fit"
     ],
     "language": "python",
     "metadata": {},
     "outputs": [],
     "prompt_number": 13
    },
    {
     "cell_type": "code",
     "collapsed": false,
     "input": [
      "data.shape"
     ],
     "language": "python",
     "metadata": {},
     "outputs": [
      {
       "output_type": "pyout",
       "prompt_number": 14,
       "text": [
        "(330753,)"
       ]
      }
     ],
     "prompt_number": 14
    },
    {
     "cell_type": "code",
     "collapsed": false,
     "input": [
      "data.dtype.names[:5]"
     ],
     "language": "python",
     "metadata": {},
     "outputs": [
      {
       "output_type": "pyout",
       "prompt_number": 15,
       "text": [
        "('ra', 'dec', 'run', 'rExtSFD', 'uRaw')"
       ]
      }
     ],
     "prompt_number": 15
    },
    {
     "cell_type": "code",
     "collapsed": false,
     "input": [
      "data['ra'][:5]"
     ],
     "language": "python",
     "metadata": {},
     "outputs": [
      {
       "output_type": "pyout",
       "prompt_number": 16,
       "text": [
        "array([ 0.358174,  0.358382,  0.357898,  0.35791 ,  0.358881])"
       ]
      }
     ],
     "prompt_number": 16
    },
    {
     "cell_type": "code",
     "collapsed": false,
     "input": [
      "data['dec'][:5]"
     ],
     "language": "python",
     "metadata": {},
     "outputs": [
      {
       "output_type": "pyout",
       "prompt_number": 17,
       "text": [
        "array([-0.508718, -0.551157, -0.570892, -0.426526, -0.505625])"
       ]
      }
     ],
     "prompt_number": 17
    },
    {
     "cell_type": "markdown",
     "metadata": {},
     "source": [
      "Code for Figure 1.1 is available at http://www.astroML.org"
     ]
    },
    {
     "cell_type": "markdown",
     "metadata": {},
     "source": [
      "Section 1.5.4 Fetchin and Displaying SDSS Spectra\n",
      "\n",
      "The function astroML.datasets.fetch_sdss_spectrum provides an interface to the FITS files located on the SDSS spectral server - done in background using Python module urllib2.\n",
      "\n",
      "Must specify the unique identity of spectrum: plate number, fiber numer, mjd date of observation. "
     ]
    },
    {
     "cell_type": "code",
     "collapsed": false,
     "input": [
      "from astroML.datasets import\\\n",
      "fetch_sdss_spectrum\n",
      "\n",
      "plate = 1615    # plate number\n",
      "mjd = 53166     # modified Julian date\n",
      "fiber = 513     # fiber ID number on a given plate\n",
      "\n",
      "data = fetch_sdss_spectrum(plate, mjd, fiber)\n",
      "\n",
      "ax = plt.axes()\n",
      "ax.plot(data.wavelength(), data.spectrum, '-k')\n",
      "ax.set_xlabel(r'$\\lambda (\\AA)$')\n",
      "ax.set_ylabel('Flux')"
     ],
     "language": "python",
     "metadata": {},
     "outputs": [
      {
       "output_type": "pyout",
       "prompt_number": 18,
       "text": [
        "<matplotlib.text.Text at 0x1126c8290>"
       ]
      },
      {
       "output_type": "display_data",
       "png": "[encoded data removed]"
      }
     ],
     "prompt_number": 18
    },
    {
     "cell_type": "markdown",
     "metadata": {},
     "source": [
      "One can also search for the plate number, mjd, and fiber number for a given target using the tool query_plate_mjd_fiber. This tool works by using a simple SQL query and urllib. Output is a NumPy array. \n",
      "\n",
      "This is supposed to return data for 5 objects, but doesn't appear to connect to the correct SDSS search function."
     ]
    },
    {
     "cell_type": "code",
     "collapsed": true,
     "input": [
      "from astroML.datasets import tools\n",
      "\n",
      "target = tools.TARGET_GALAXY\n",
      "\n",
      "plt, mjd, fib = tools.query_plate_mjd_fiber(5, primtarget=target)"
     ],
     "language": "python",
     "metadata": {},
     "outputs": [
      {
       "ename": "ValueError",
       "evalue": "\r\n\n\r\n\n<!DOCTYPE html PUBLIC \"-//W3C//DTD XHTML 1.0 Transitional//EN\" \"http://www.w3.org/TR/xhtml1/DTD/xhtml1-transitional.dtd\">\r\n\n\r\n\n<html xmlns=\"http://www.w3.org/1999/xhtml\">\r\n\n\r\n\n<head><link href=\"../../../skyserver.css\" rel=\"stylesheet\" type=\"text/css\" /><link href=\"../../../FavIcon.ICO\" rel=\"SHORTCUT ICON\" /><title>\r\n\n\tSDSS SkyServer DR12\r\n\n</title>\r\n\n\r\n\n  <style type=\"text/css\">\r\n\n    .hrule {color:#666666}\r\n\n    .stamptext {color:#aaaaaa;font-size:8pt;}\r\n\n  </style>\r\n\n\r\n\n  \r\n\n</head>\r\n\n\r\n\n<body background=\"../../images/new_home_bktile.jpg\" style=\"margin-left:25px;margin-top:0px;margin-right:25px;margin-bottom:0px;\">\r\n\n\r\n\n  <div id=\"div_title\">\r\n\n    <table cellpadding=\"0\" cellspacing=\"0\" border=\"0\" width=\"200px\" style=\"height:73px\">\r\n\n      <tr>\r\n\n        <td align=\"left\" width=\"50px\" style=\"height:73px;\">\r\n\n          <a href=\"http://www.sdss.org/\"><img alt=\"\" class=\"imgnoborder\" src=\"../../images/sdss3_logo.gif\" width=\"50px\" /></a>\r\n\n        </td>\r\n\n        <td>\r\n\n          <table width=\"400px\">\r\n\n            <tr>\r\n\n              <td width=\"400px\" colspan=\"2\" class=\"sdss3\">Sloan Digital Sky Survey III</td>\r\n\n            </tr>\r\n\n            <tr>\r\n\n              <td width=\"200px\" class=\"bigsitetitle\">SkyServer</td>\r\n\n              <td width=\"200px\" class=\"sitename\">DR12 &nbsp;<img src=\"../../../images/../images/flag_us.gif\"/></td>\r\n\n            </tr>\r\n\n          </table>\r\n\n        </td>       \r\n\n        <td >\r\n\n            <img alt=\"\" src=\"../../images/imageright2.png\" />\r\n\n        </td>\r\n\n          \r\n\n      </tr>\r\n\n    </table>\r\n\n  </div>\r\n\n\r\n\n  <div id=\"div_nav\">\r\n\n    <table border=\"1\" cellpadding=\"0\" cellspacing=\"0\" width=\"100%\" style=\"height:25px;border-collapse:collapse;\">\r\n\n      <tr bgcolor=\"#313131\" style=\"height:23px\">\r\n\n        <td style=\"border:1px solid black\" nowrap=\"nowrap\" class=\"navlink\" align=\"center\" width=\"70px\"><a class=\"navlink\" href=\"../../\" target=\"_top\" onmouseover=\"return escape('SkyServer front page')\">&nbsp;&nbsp;Home&nbsp;&nbsp;</a></td>\r\n\n        <td style=\"border:1px solid black\" nowrap=\"nowrap\" class=\"navlink\" align=\"center\" width=\"70px\"><a class=\"navlink\" href=\"../../tools/\" target=\"_top\" onmouseover=\"return escape('Data mining and visual tools')\">&nbsp;&nbsp;Data&nbsp;&nbsp;</a></td>\r\n\n        <td style=\"border:1px solid black\" nowrap=\"nowrap\" class=\"navlink\" align=\"center\" width=\"70px\"><a class=\"navlink\" href=\"../../help/browser/browser.aspx\" target=\"_top\" onmouseover=\"return escape('Schema Browser to view SDSS data model')\">&nbsp;Schema&nbsp;</a></td>    \r\n\n        <td style=\"border:1px solid black\" nowrap=\"nowrap\" class=\"navlink\" align=\"center\" width=\"70px\"><a class=\"navlink\" href=\"../../proj/\" target=\"_top\" onmouseover=\"return escape('Activities for K-12 and college students and teachers')\">&nbsp;&nbsp;Education&nbsp;&nbsp;</a></td>\r\n\n        <td style=\"border:1px solid black\" nowrap=\"nowrap\" class=\"navlink\" align=\"center\" width=\"85px\"><a class=\"navlink\" href=\"../../astro/\" target=\"_top\" onmouseover=\"return escape('Information about astronomy and its history')\">&nbsp;&nbsp;Astronomy&nbsp;</a></td>\r\n\n        <td style=\"border:1px solid black\" nowrap=\"nowrap\" class=\"navlink\" align=\"center\" width=\"60px\"><a class=\"navlink\" href=\"../../sdss/\" target=\"_top\" onmouseover=\"return escape('Sloan Digital Sky Survey background and credits')\">&nbsp;&nbsp;SDSS&nbsp;&nbsp;</a></td>\r\n\n        <td style=\"border:1px solid black\" nowrap=\"nowrap\" class=\"navlink\" align=\"center\" width=\"85px\"><a class=\"navlink\" href=\"http://skyserver.sdss3.org/contact/?release=DR12&helpdesk=helpdesk@sdss3.org&smtp=mail.pha.jhu.edu&epoHelp=raddick@pha.jhu.edu&subject=SkyServer+DR12+issue:+&url=http%3a%2f%2fskyserver.sdss.org%2fdr12%2fen%2ftools%2fsearch%2fsql.aspxcmd%3dSELECT%2bTOP%2b5%2b%2b%250A%2b%2b%2b%2bplate%252C%2bmjd%252C%2bfiberid%2b%2b%250AFROM%2bspecObj%2b%2b%250AWHERE%2b%2528%2528PrimTarget%2b%2526%2b64%2529%2b%253E%2b0%2529%2b%2b%250A%2b%2b%2b%2b%2b%2b%2bAND%2b%2528z%2b%253E%2b0.000000%2529%2bAND%2b%2528z%2b%253C%253D%2b0.700000%2529%2b%26format%3dcsv\" target=\"_top\" onmouseover=\"return escape('SDSS Help Desk contact page')\">&nbsp;&nbsp;Contact Us&nbsp;&nbsp;</a></td>\r\n\n        <td style=\"border:1px solid black\" nowrap=\"nowrap\" class=\"navlink\" align=\"center\" width=\"75px\"><a class=\"navlink\" href=\"../../help/download/\" target=\"_top\" onmouseover=\"return escape('Download SkyServer tools and papers')\">&nbsp;&nbsp;Download&nbsp;&nbsp;</a></td>\r\n\n        <td style=\"border:1px solid black\" nowrap=\"nowrap\" class=\"navlink\" align=\"center\" width=\"85px\"><a class=\"navlink\" href=\"../../gsearch.aspx\" onmouseover=\"return escape('Use Google to search this site')\">&nbsp;Site Search&nbsp;</a></td>\r\n\n        <td style=\"border:1px solid black\" nowrap=\"nowrap\" class=\"navlink\" align=\"center\" width=\"60px\"><a class=\"navlink\" href=\"../../help/\" target=\"_top\" onmouseover=\"return escape('Help pages')\">&nbsp;&nbsp;Help&nbsp;&nbsp;</a></td>\r\n\n        <td style=\"border:1px solid black\" width=\"*\">&nbsp;</td>\r\n\n      </tr>            \r\n\n    </table>\r\n\n  </div>  \r\n\n  \r\n\n  \r\n\n\r\n\n    <p/>\r\n\n    <table border=0 cellspacing=0 cellpadding=0 width='140' style='white-space:nowrap'>\n\n<tr><td class=lo><a href='http://skyserver.sdss.org/dr12/en/tools/' class=tlo>DR12 Tools</a></td></tr>\n\n<tr><td width='10' height='5'></td><td colspan='2'></td></tr>\n\n<tr><td colspan='3'><img class='imgborder' src='../../images//new_tools_1.jpg'></td></td></tr>\n\n<tr><td width='10' height='5'></td><td colspan='2'></td></tr>\n\n<tr><td class=lo>&nbsp;<a href='http://skyserver.sdss.org/dr12/en/tools/started/' class=lo>Getting Started</a></td></tr>\n\n<tr><td class=lo>&nbsp;<a href='http://skyserver.sdss.org/dr12/en/tools/places/' class=lo>Famous places</a></td></tr>\n\n<tr><td class=lo>&nbsp;<a href='http://skyserver.sdss.org/dr12/en/tools/getimg/' class=lo>Get images</a></td></tr>\n\n<tr><td class=lo>&nbsp;<a href='http://skyserver.sdss.org/dr12/en/tools/scroll/' class=lo>Scrolling sky</a></td></tr>\n\n<tr><td class=lo>&nbsp;<a href='http://skyserver.sdss.org/dr12/en/tools/chart/' class=lo>Visual Tools</a></td></tr>\n\n<tr><td class=lo>&nbsp;<a href='http://skyserver.sdss.org/dr12/en/tools/search/' class=lo>Search</a></td></tr>\n\n<tr><td class=lo>&nbsp;&nbsp;&nbsp;&nbsp;&nbsp;-&nbsp;<a href='http://skyserver.sdss.org/dr12/en/tools/search/radial.aspx' class=lo>Radial</a></td></tr>\n\n<tr><td class=lo>&nbsp;&nbsp;&nbsp;&nbsp;&nbsp;-&nbsp;<a href='http://skyserver.sdss.org/dr12/en/tools/search/rect.aspx' class=lo>Rectangular</a></td></tr>\n\n<tr><td class=lo>&nbsp;&nbsp;&nbsp;&nbsp;&nbsp;-&nbsp;<a href='http://skyserver.sdss.org/dr12/en/tools/search/form/default.aspx' class=lo>Search Form</a></td></tr>\n\n<tr><td class=hi>&nbsp;&nbsp;&nbsp;&nbsp;&nbsp;-&nbsp;<a href='http://skyserver.sdss.org/dr12/en/tools/search/sql.aspx' class=hi>SQL</a></td></tr>\n\n<tr><td class=lo>&nbsp;&nbsp;&nbsp;&nbsp;&nbsp;-&nbsp;<a href='http://skyserver.sdss.org/dr12/en/tools/search/IQS.aspx' class=lo>Imaging Query</a></td></tr>\n\n<tr><td class=lo>&nbsp;&nbsp;&nbsp;&nbsp;&nbsp;-&nbsp;<a href='http://skyserver.sdss.org/dr12/en/tools/search/SQS.aspx' class=lo>Spectro Query</a></td></tr>\n\n<tr><td class=lo>&nbsp;<a href='http://skyserver.sdss.org/dr12/en/tools/crossid/crossid.aspx' class=lo>Object Crossid</a></td></tr>\n\n<tr><td class=lo>&nbsp;<a href='http://skyserver.sdss.org/CasJobs/' TARGET='CASJOBS' class=lo>CasJobs</a></td></tr>\n\n</table>\n\n\r\n\n<style>\r\n\n\t#waiting {position:absolute;top:500;left:180;}\r\n\n\ttd,p\t{font-size:9pt; color:#000000}\r\n\n\t.tiny\t{font-size:8pt; color:#000000}\r\n\n\t.med\t{font-size:9pt; color:#000000}\r\n\n\t.qtitle {font-size:10pt;color:#ffffff;font-weight:bold;}\r\n\n\t.q\t{font-size:9pt; background-color:#dddddd}\r\n\n\t.frame\t{background-color:#bbbbbb;}\r\n\n\ta\t\t{color:#000088;font-weight:normal;}\r\n\n\t.pos\t{width:66px}\r\n\n\t.mag\t{width:56px}\r\n\n\t.name\t{width:200px}\r\n\n\t.txt\t{width:260px}\r\n\n</style>\r\n\n<script src=\"naviclass.js\"></script>\r\n\n\r\n\n<div id=\"title\">SQL Search</div>\r\n\n\r\n\n<div id=\"transp\">\r\n\n\r\n\n    <form method =\"post\" target=\"search\" name=\"sql\" action=\"x_sql.aspx\">\r\n\n\r\n\n\r\n\n<script>\r\n\n    function goToWindow() {\r\n\n        var w = window.open(\"\", 'search');\r\n\n        w.focus();\r\n\n\r\n\n    }\r\n\n\r\n\n    function clearQuery() {\r\n\n        document.getElementById(\"cmd\").value = \"\";\r\n\n    }\r\n\n\r\n\n</script>\r\n\n\r\n\n<table BORDER=0 WIDTH=\"600\"  cellpadding=1 cellspacing=1 bgcolor=\"#aaaaaa\">\r\n\n\t\r\n\n\t<tr><td class='frame'>\r\n\n\tThis page allows you to directly submit a <a href=\"../../../en/help/docs/sql_help.aspx\">SQL (Structured Query Language)</a> \r\n\n\tquery to the SDSS database server.  You can modify the default query as you wish, or cut and paste a query from the <a \r\n\n\thref=\"../../../en/help/docs/realquery.aspx\">SDSS Sample Queries page</a>.\r\n\n\t<p><b>Please note: </b>\r\n\n\tTo be fair to other users, queries run from SkyServer search\r\n\n\ttools are restricted in how long they can run and how much output they\r\n\n\treturn, by <b>timeouts</b> and <b>row limits</b>.  Please see the <a\r\n\n\thref=\"../../../en/help/docs/limits.aspx\">Query Limits help page.</a>\r\n\nTo run a query that is not restricted by a timeout or number of rows returned, please use the <a href=\"http://skyserver.sdss.org/CasJobs/\">CasJobs batch query service.</a>\r\n\n\t<span style=\"float:right;margin-top:2px;\">\r\n\n\t\t<input TYPE=\"button\" VALUE=\"Clear Query\" id=\"clear\" name=\"clear\" color=\"#00FFFF\" onClick=\"clearQuery();\"\r\n\n\t\t\tonmouseover=\"return escape('Press this button to clear the query window and enter your own query.  To undo clear, click mouse in query window and press Ctrl-Z (repearedly).  To reset to default query, press Reset button.');\"/>\r\n\n\t</span>\r\n\n\t</td></tr>\r\n\n\t<tr VALIGN=top><td align=\"center\">\r\n\n\t\t<textarea cols=80 name=cmd id=cmd rows=13 wrap=virtual class='med'>\r\n\nSELECT TOP 5  \n\n    plate, mjd, fiberid  \n\nFROM specObj  \n\nWHERE ((PrimTarget & 64) > 0)  \n\n       AND (z > 0.000000) AND (z <= 0.700000) \r\n\n\r\n\n</textarea> \r\n\n\t</td></tr>\r\n\n<!--\r\n\n\t<tr><td>\r\n\n\t\t<table BORDER=0 WIDTH=\"100%\" >\r\n\n\t\t  <tr>\r\n\n\t\t\t<td ALIGN=left width=\"10%\" class=\"qtitle\">Format</td>\r\n\n\t\t\t<td width=\"30%\" class=\"q\"><input name=format value=\"html\" type=radio class=\"box\" CHECKED>HTML</td>\r\n\n\t\t\t<td width=\"30%\" class=\"q\"><input name=format value=\"xml\"  type=radio class=\"box\">XML</td>\r\n\n\t\t\t<td width=\"30%\" class=\"q\"><input name=format value=\"csv\"  type=radio class=\"box\">CSV</td>\r\n\n\t\t\t</tr>\r\n\n\r\n\n\t\t</table>\r\n\n\t</td></tr>\r\n\n-->\r\n\n\t<tr><td>\r\n\n\t\t<table width=\"100%\"><tr>\r\n\n\t\t<td width=\"10%\">\r\n\n\r\n\n\t<input id=submit type=submit value=Submit onmouseover=\"return escape('Press this to submit the query to the server.');\" onclick=\"goToWindow()\">\r\n\n\r\n\n\t\t</td>\r\n\n\t\t<td nowrap class=\"q\" onmouseover=\"return escape('Checking this box will do only a syntax check when you press Submit.  Uncheck and press Submit again when done.');\">&nbsp;\r\n\n\t\t<input TYPE=\"checkbox\" VALUE=\"Syntax\" id=\"syntax\" name=\"syntax\">Check Syntax Only?\r\n\n\t\t</td>\t\r\n\n\t\t<td class='frame'>\r\n\n\t\t\t<table BORDER=0 WIDTH=\"100%\" >\r\n\n\t\t\t  <tr>\r\n\n\t\t\t\t<td ALIGN=left class=\"qtitle\">Output Format</td>\r\n\n\t\t\t\t<td nowrap class=\"q\"><input name=format value=\"html\" type=radio class=\"box\" CHECKED>HTML</td>\r\n\n\t\t\t\t<td nowrap class=\"q\"><input name=format value=\"xml\"  type=radio class=\"box\">XML</td>\r\n\n\t\t\t\t<td nowrap class=\"q\"><input name=format value=\"csv\"  type=radio class=\"box\">CSV</td>\r\n\n        <td nowrap class=\"q\"><input name=format value=\"json\"  type=radio class=\"box\">JSON</td>\r\n\n        <td nowrap class=\"q\"><input name=format value=\"votable\"  type=radio class=\"box\">VOTable</td>\r\n\n        <td nowrap class=\"q\"><input name=format value=\"fits\"  type=radio class=\"box\">FITS</td>\r\n\n\t\t\t\t</tr>\r\n\n\t\t\t</table>\r\n\n\t\t</td>\r\n\n\t\t<td width=\"10%\">\r\n\n\t\t<input TYPE=\"reset\" VALUE=\"Reset \" id=\"reset\" name=\"reset\" color=\"#00FFFF\" onmouseover=\"return escape('Press this to revert the page to initial settings.');\">\r\n\n\t\t</td>\r\n\n\t\t</tr>\r\n\n\t\t</table>\r\n\n\t</td></tr>\r\n\n\t<tr VALIGN=top><td><p>\r\n\n    \r\n\n    <span>\r\n\n    To find out more about the database schema use the \r\n\n    <a target=\"POPUP\" href=\"../../../en/help/browser/browser.aspx\">\r\n\n    Schema Browser</a>.</span>\r\n\n\r\n\n\t<p>\r\n\n\tFor an introduction to the Structured Query Language (SQL), please see \r\n\n\tthe \r\n\n\r\n\n\t\t<a href=\"../../help/howto/search\">Searching for Data</a> How-To tutorial. \r\n\n\t\r\n\n\tIn particular, \r\n\n\tplease read the <a href=\"../../../en/help/docs/sql_help.aspx#optquery\">Optimizing Queries</a> \r\n\n\tsection.\r\n\n  \t<p>\r\n\n\r\n\n\tThe inclusion of the imaging and spectro columns for <a href=\"http://dr12.sdss3.org/\">SAS</a> upload in your query (as in the\r\n\n\tdefault query on this page) will ensure that when you press <b>Submit</b>, the appropriate \r\n\n\tbutton(s) are displayed on the query results page to allow you to upload the necessary \r\n\n\tinformation to the <a href=\"http://dr12.sdss3.org/\">SAS</a> to retrieve the FITS file data corresponding to your CAS query. The \r\n\n\timaging columns needed for upload to the <a href=\"http://dr12.sdss3.org/\">SAS</a> are <i>run</i>, <i>rerun</i>, <i>camcol</i>, and \r\n\n\t<i>field</i>. The spectroscopic columns needed are <i>plate</i>, <i>mjd</i>, <i>fiberid</i>, \r\n\n\tand optionally <i>sprerun</i> (the latter requires a join with the PlateX table). \r\n\n\r\n\n\t</td></tr>\r\n\n\r\n\n  \r\n\n</table>\r\n\n</form>\r\n\n</div>\r\n\n\r\n\n\r\n\n\r\n\n\r\n\n\r\n\n  <script language=\"JavaScript\" type=\"text/javascript\" src=\"../../wz_tooltip.js\"></script>\r\n\n\r\n\n</body>\r\n\n\r\n\n</html>\r\n",
       "output_type": "pyerr",
       "traceback": [
        "\u001b[0;31m---------------------------------------------------------------------------\u001b[0m\n\u001b[0;31mValueError\u001b[0m                                Traceback (most recent call last)",
        "\u001b[0;32m<ipython-input-19-d1cfab1c4116>\u001b[0m in \u001b[0;36m<module>\u001b[0;34m()\u001b[0m\n\u001b[1;32m      3\u001b[0m \u001b[0mtarget\u001b[0m \u001b[0;34m=\u001b[0m \u001b[0mtools\u001b[0m\u001b[0;34m.\u001b[0m\u001b[0mTARGET_GALAXY\u001b[0m\u001b[0;34m\u001b[0m\u001b[0m\n\u001b[1;32m      4\u001b[0m \u001b[0;34m\u001b[0m\u001b[0m\n\u001b[0;32m----> 5\u001b[0;31m \u001b[0mplt\u001b[0m\u001b[0;34m,\u001b[0m \u001b[0mmjd\u001b[0m\u001b[0;34m,\u001b[0m \u001b[0mfib\u001b[0m \u001b[0;34m=\u001b[0m \u001b[0mtools\u001b[0m\u001b[0;34m.\u001b[0m\u001b[0mquery_plate_mjd_fiber\u001b[0m\u001b[0;34m(\u001b[0m\u001b[0;36m5\u001b[0m\u001b[0;34m,\u001b[0m \u001b[0mprimtarget\u001b[0m\u001b[0;34m=\u001b[0m\u001b[0mtarget\u001b[0m\u001b[0;34m)\u001b[0m\u001b[0;34m\u001b[0m\u001b[0m\n\u001b[0m",
        "\u001b[0;32m/usr/local/scisoft/packages/python/lib/python2.7/site-packages/astroML/datasets/tools/cas_query.pyc\u001b[0m in \u001b[0;36mquery_plate_mjd_fiber\u001b[0;34m(n_spectra, primtarget, zmin, zmax)\u001b[0m\n\u001b[1;32m     78\u001b[0m             \u001b[0mres\u001b[0m\u001b[0;34m[\u001b[0m\u001b[0mi\u001b[0m\u001b[0;34m]\u001b[0m \u001b[0;34m=\u001b[0m \u001b[0mmap\u001b[0m\u001b[0;34m(\u001b[0m\u001b[0mint\u001b[0m\u001b[0;34m,\u001b[0m \u001b[0mline\u001b[0m\u001b[0;34m.\u001b[0m\u001b[0mstrip\u001b[0m\u001b[0;34m(\u001b[0m\u001b[0;34m)\u001b[0m\u001b[0;34m.\u001b[0m\u001b[0msplit\u001b[0m\u001b[0;34m(\u001b[0m\u001b[0;34m','\u001b[0m\u001b[0;34m)\u001b[0m\u001b[0;34m)\u001b[0m\u001b[0;34m\u001b[0m\u001b[0m\n\u001b[1;32m     79\u001b[0m         \u001b[0;32mexcept\u001b[0m\u001b[0;34m:\u001b[0m\u001b[0;34m\u001b[0m\u001b[0m\n\u001b[0;32m---> 80\u001b[0;31m             \u001b[0;32mraise\u001b[0m \u001b[0mValueError\u001b[0m\u001b[0;34m(\u001b[0m\u001b[0;34m'\\n'\u001b[0m\u001b[0;34m.\u001b[0m\u001b[0mjoin\u001b[0m\u001b[0;34m(\u001b[0m\u001b[0moutput\u001b[0m\u001b[0;34m)\u001b[0m\u001b[0;34m)\u001b[0m\u001b[0;34m\u001b[0m\u001b[0m\n\u001b[0m\u001b[1;32m     81\u001b[0m \u001b[0;34m\u001b[0m\u001b[0m\n\u001b[1;32m     82\u001b[0m     \u001b[0mntot\u001b[0m \u001b[0;34m=\u001b[0m \u001b[0mi\u001b[0m \u001b[0;34m+\u001b[0m \u001b[0;36m1\u001b[0m\u001b[0;34m\u001b[0m\u001b[0m\n",
        "\u001b[0;31mValueError\u001b[0m: \r\n\n\r\n\n<!DOCTYPE html PUBLIC \"-//W3C//DTD XHTML 1.0 Transitional//EN\" \"http://www.w3.org/TR/xhtml1/DTD/xhtml1-transitional.dtd\">\r\n\n\r\n\n<html xmlns=\"http://www.w3.org/1999/xhtml\">\r\n\n\r\n\n<head><link href=\"../../../skyserver.css\" rel=\"stylesheet\" type=\"text/css\" /><link href=\"../../../FavIcon.ICO\" rel=\"SHORTCUT ICON\" /><title>\r\n\n\tSDSS SkyServer DR12\r\n\n</title>\r\n\n\r\n\n  <style type=\"text/css\">\r\n\n    .hrule {color:#666666}\r\n\n    .stamptext {color:#aaaaaa;font-size:8pt;}\r\n\n  </style>\r\n\n\r\n\n  \r\n\n</head>\r\n\n\r\n\n<body background=\"../../images/new_home_bktile.jpg\" style=\"margin-left:25px;margin-top:0px;margin-right:25px;margin-bottom:0px;\">\r\n\n\r\n\n  <div id=\"div_title\">\r\n\n    <table cellpadding=\"0\" cellspacing=\"0\" border=\"0\" width=\"200px\" style=\"height:73px\">\r\n\n      <tr>\r\n\n        <td align=\"left\" width=\"50px\" style=\"height:73px;\">\r\n\n          <a href=\"http://www.sdss.org/\"><img alt=\"\" class=\"imgnoborder\" src=\"../../images/sdss3_logo.gif\" width=\"50px\" /></a>\r\n\n        </td>\r\n\n        <td>\r\n\n          <table width=\"400px\">\r\n\n            <tr>\r\n\n              <td width=\"400px\" colspan=\"2\" class=\"sdss3\">Sloan Digital Sky Survey III</td>\r\n\n            </tr>\r\n\n            <tr>\r\n\n              <td width=\"200px\" class=\"bigsitetitle\">SkyServer</td>\r\n\n              <td width=\"200px\" class=\"sitename\">DR12 &nbsp;<img src=\"../../../images/../images/flag_us.gif\"/></td>\r\n\n            </tr>\r\n\n          </table>\r\n\n        </td>       \r\n\n        <td >\r\n\n            <img alt=\"\" src=\"../../images/imageright2.png\" />\r\n\n        </td>\r\n\n          \r\n\n      </tr>\r\n\n    </table>\r\n\n  </div>\r\n\n\r\n\n  <div id=\"div_nav\">\r\n\n    <table border=\"1\" cellpadding=\"0\" cellspacing=\"0\" width=\"100%\" style=\"height:25px;border-collapse:collapse;\">\r\n\n      <tr bgcolor=\"#313131\" style=\"height:23px\">\r\n\n        <td style=\"border:1px solid black\" nowrap=\"nowrap\" class=\"navlink\" align=\"center\" width=\"70px\"><a class=\"navlink\" href=\"../../\" target=\"_top\" onmouseover=\"return escape('SkyServer front page')\">&nbsp;&nbsp;Home&nbsp;&nbsp;</a></td>\r\n\n        <td style=\"border:1px solid black\" nowrap=\"nowrap\" class=\"navlink\" align=\"center\" width=\"70px\"><a class=\"navlink\" href=\"../../tools/\" target=\"_top\" onmouseover=\"return escape('Data mining and visual tools')\">&nbsp;&nbsp;Data&nbsp;&nbsp;</a></td>\r\n\n        <td style=\"border:1px solid black\" nowrap=\"nowrap\" class=\"navlink\" align=\"center\" width=\"70px\"><a class=\"navlink\" href=\"../../help/browser/browser.aspx\" target=\"_top\" onmouseover=\"return escape('Schema Browser to view SDSS data model')\">&nbsp;Schema&nbsp;</a></td>    \r\n\n        <td style=\"border:1px solid black\" nowrap=\"nowrap\" class=\"navlink\" align=\"center\" width=\"70px\"><a class=\"navlink\" href=\"../../proj/\" target=\"_top\" onmouseover=\"return escape('Activities for K-12 and college students and teachers')\">&nbsp;&nbsp;Education&nbsp;&nbsp;</a></td>\r\n\n        <td style=\"border:1px solid black\" nowrap=\"nowrap\" class=\"navlink\" align=\"center\" width=\"85px\"><a class=\"navlink\" href=\"../../astro/\" target=\"_top\" onmouseover=\"return escape('Information about astronomy and its history')\">&nbsp;&nbsp;Astronomy&nbsp;</a></td>\r\n\n        <td style=\"border:1px solid black\" nowrap=\"nowrap\" class=\"navlink\" align=\"center\" width=\"60px\"><a class=\"navlink\" href=\"../../sdss/\" target=\"_top\" onmouseover=\"return escape('Sloan Digital Sky Survey background and credits')\">&nbsp;&nbsp;SDSS&nbsp;&nbsp;</a></td>\r\n\n        <td style=\"border:1px solid black\" nowrap=\"nowrap\" class=\"navlink\" align=\"center\" width=\"85px\"><a class=\"navlink\" href=\"http://skyserver.sdss3.org/contact/?release=DR12&helpdesk=helpdesk@sdss3.org&smtp=mail.pha.jhu.edu&epoHelp=raddick@pha.jhu.edu&subject=SkyServer+DR12+issue:+&url=http%3a%2f%2fskyserver.sdss.org%2fdr12%2fen%2ftools%2fsearch%2fsql.aspxcmd%3dSELECT%2bTOP%2b5%2b%2b%250A%2b%2b%2b%2bplate%252C%2bmjd%252C%2bfiberid%2b%2b%250AFROM%2bspecObj%2b%2b%250AWHERE%2b%2528%2528PrimTarget%2b%2526%2b64%2529%2b%253E%2b0%2529%2b%2b%250A%2b%2b%2b%2b%2b%2b%2bAND%2b%2528z%2b%253E%2b0.000000%2529%2bAND%2b%2528z%2b%253C%253D%2b0.700000%2529%2b%26format%3dcsv\" target=\"_top\" onmouseover=\"return escape('SDSS Help Desk contact page')\">&nbsp;&nbsp;Contact Us&nbsp;&nbsp;</a></td>\r\n\n        <td style=\"border:1px solid black\" nowrap=\"nowrap\" class=\"navlink\" align=\"center\" width=\"75px\"><a class=\"navlink\" href=\"../../help/download/\" target=\"_top\" onmouseover=\"return escape('Download SkyServer tools and papers')\">&nbsp;&nbsp;Download&nbsp;&nbsp;</a></td>\r\n\n        <td style=\"border:1px solid black\" nowrap=\"nowrap\" class=\"navlink\" align=\"center\" width=\"85px\"><a class=\"navlink\" href=\"../../gsearch.aspx\" onmouseover=\"return escape('Use Google to search this site')\">&nbsp;Site Search&nbsp;</a></td>\r\n\n        <td style=\"border:1px solid black\" nowrap=\"nowrap\" class=\"navlink\" align=\"center\" width=\"60px\"><a class=\"navlink\" href=\"../../help/\" target=\"_top\" onmouseover=\"return escape('Help pages')\">&nbsp;&nbsp;Help&nbsp;&nbsp;</a></td>\r\n\n        <td style=\"border:1px solid black\" width=\"*\">&nbsp;</td>\r\n\n      </tr>            \r\n\n    </table>\r\n\n  </div>  \r\n\n  \r\n\n  \r\n\n\r\n\n    <p/>\r\n\n    <table border=0 cellspacing=0 cellpadding=0 width='140' style='white-space:nowrap'>\n\n<tr><td class=lo><a href='http://skyserver.sdss.org/dr12/en/tools/' class=tlo>DR12 Tools</a></td></tr>\n\n<tr><td width='10' height='5'></td><td colspan='2'></td></tr>\n\n<tr><td colspan='3'><img class='imgborder' src='../../images//new_tools_1.jpg'></td></td></tr>\n\n<tr><td width='10' height='5'></td><td colspan='2'></td></tr>\n\n<tr><td class=lo>&nbsp;<a href='http://skyserver.sdss.org/dr12/en/tools/started/' class=lo>Getting Started</a></td></tr>\n\n<tr><td class=lo>&nbsp;<a href='http://skyserver.sdss.org/dr12/en/tools/places/' class=lo>Famous places</a></td></tr>\n\n<tr><td class=lo>&nbsp;<a href='http://skyserver.sdss.org/dr12/en/tools/getimg/' class=lo>Get images</a></td></tr>\n\n<tr><td class=lo>&nbsp;<a href='http://skyserver.sdss.org/dr12/en/tools/scroll/' class=lo>Scrolling sky</a></td></tr>\n\n<tr><td class=lo>&nbsp;<a href='http://skyserver.sdss.org/dr12/en/tools/chart/' class=lo>Visual Tools</a></td></tr>\n\n<tr><td class=lo>&nbsp;<a href='http://skyserver.sdss.org/dr12/en/tools/search/' class=lo>Search</a></td></tr>\n\n<tr><td class=lo>&nbsp;&nbsp;&nbsp;&nbsp;&nbsp;-&nbsp;<a href='http://skyserver.sdss.org/dr12/en/tools/search/radial.aspx' class=lo>Radial</a></td></tr>\n\n<tr><td class=lo>&nbsp;&nbsp;&nbsp;&nbsp;&nbsp;-&nbsp;<a href='http://skyserver.sdss.org/dr12/en/tools/search/rect.aspx' class=lo>Rectangular</a></td></tr>\n\n<tr><td class=lo>&nbsp;&nbsp;&nbsp;&nbsp;&nbsp;-&nbsp;<a href='http://skyserver.sdss.org/dr12/en/tools/search/form/default.aspx' class=lo>Search Form</a></td></tr>\n\n<tr><td class=hi>&nbsp;&nbsp;&nbsp;&nbsp;&nbsp;-&nbsp;<a href='http://skyserver.sdss.org/dr12/en/tools/search/sql.aspx' class=hi>SQL</a></td></tr>\n\n<tr><td class=lo>&nbsp;&nbsp;&nbsp;&nbsp;&nbsp;-&nbsp;<a href='http://skyserver.sdss.org/dr12/en/tools/search/IQS.aspx' class=lo>Imaging Query</a></td></tr>\n\n<tr><td class=lo>&nbsp;&nbsp;&nbsp;&nbsp;&nbsp;-&nbsp;<a href='http://skyserver.sdss.org/dr12/en/tools/search/SQS.aspx' class=lo>Spectro Query</a></td></tr>\n\n<tr><td class=lo>&nbsp;<a href='http://skyserver.sdss.org/dr12/en/tools/crossid/crossid.aspx' class=lo>Object Crossid</a></td></tr>\n\n<tr><td class=lo>&nbsp;<a href='http://skyserver.sdss.org/CasJobs/' TARGET='CASJOBS' class=lo>CasJobs</a></td></tr>\n\n</table>\n\n\r\n\n<style>\r\n\n\t#waiting {position:absolute;top:500;left:180;}\r\n\n\ttd,p\t{font-size:9pt; color:#000000}\r\n\n\t.tiny\t{font-size:8pt; color:#000000}\r\n\n\t.med\t{font-size:9pt; color:#000000}\r\n\n\t.qtitle {font-size:10pt;color:#ffffff;font-weight:bold;}\r\n\n\t.q\t{font-size:9pt; background-color:#dddddd}\r\n\n\t.frame\t{background-color:#bbbbbb;}\r\n\n\ta\t\t{color:#000088;font-weight:normal;}\r\n\n\t.pos\t{width:66px}\r\n\n\t.mag\t{width:56px}\r\n\n\t.name\t{width:200px}\r\n\n\t.txt\t{width:260px}\r\n\n</style>\r\n\n<script src=\"naviclass.js\"></script>\r\n\n\r\n\n<div id=\"title\">SQL Search</div>\r\n\n\r\n\n<div id=\"transp\">\r\n\n\r\n\n    <form method =\"post\" target=\"search\" name=\"sql\" action=\"x_sql.aspx\">\r\n\n\r\n\n\r\n\n<script>\r\n\n    function goToWindow() {\r\n\n        var w = window.open(\"\", 'search');\r\n\n        w.focus();\r\n\n\r\n\n    }\r\n\n\r\n\n    function clearQuery() {\r\n\n        document.getElementById(\"cmd\").value = \"\";\r\n\n    }\r\n\n\r\n\n</script>\r\n\n\r\n\n<table BORDER=0 WIDTH=\"600\"  cellpadding=1 cellspacing=1 bgcolor=\"#aaaaaa\">\r\n\n\t\r\n\n\t<tr><td class='frame'>\r\n\n\tThis page allows you to directly submit a <a href=\"../../../en/help/docs/sql_help.aspx\">SQL (Structured Query Language)</a> \r\n\n\tquery to the SDSS database server.  You can modify the default query as you wish, or cut and paste a query from the <a \r\n\n\thref=\"../../../en/help/docs/realquery.aspx\">SDSS Sample Queries page</a>.\r\n\n\t<p><b>Please note: </b>\r\n\n\tTo be fair to other users, queries run from SkyServer search\r\n\n\ttools are restricted in how long they can run and how much output they\r\n\n\treturn, by <b>timeouts</b> and <b>row limits</b>.  Please see the <a\r\n\n\thref=\"../../../en/help/docs/limits.aspx\">Query Limits help page.</a>\r\n\nTo run a query that is not restricted by a timeout or number of rows returned, please use the <a href=\"http://skyserver.sdss.org/CasJobs/\">CasJobs batch query service.</a>\r\n\n\t<span style=\"float:right;margin-top:2px;\">\r\n\n\t\t<input TYPE=\"button\" VALUE=\"Clear Query\" id=\"clear\" name=\"clear\" color=\"#00FFFF\" onClick=\"clearQuery();\"\r\n\n\t\t\tonmouseover=\"return escape('Press this button to clear the query window and enter your own query.  To undo clear, click mouse in query window and press Ctrl-Z (repearedly).  To reset to default query, press Reset button.');\"/>\r\n\n\t</span>\r\n\n\t</td></tr>\r\n\n\t<tr VALIGN=top><td align=\"center\">\r\n\n\t\t<textarea cols=80 name=cmd id=cmd rows=13 wrap=virtual class='med'>\r\n\nSELECT TOP 5  \n\n    plate, mjd, fiberid  \n\nFROM specObj  \n\nWHERE ((PrimTarget & 64) > 0)  \n\n       AND (z > 0.000000) AND (z <= 0.700000) \r\n\n\r\n\n</textarea> \r\n\n\t</td></tr>\r\n\n<!--\r\n\n\t<tr><td>\r\n\n\t\t<table BORDER=0 WIDTH=\"100%\" >\r\n\n\t\t  <tr>\r\n\n\t\t\t<td ALIGN=left width=\"10%\" class=\"qtitle\">Format</td>\r\n\n\t\t\t<td width=\"30%\" class=\"q\"><input name=format value=\"html\" type=radio class=\"box\" CHECKED>HTML</td>\r\n\n\t\t\t<td width=\"30%\" class=\"q\"><input name=format value=\"xml\"  type=radio class=\"box\">XML</td>\r\n\n\t\t\t<td width=\"30%\" class=\"q\"><input name=format value=\"csv\"  type=radio class=\"box\">CSV</td>\r\n\n\t\t\t</tr>\r\n\n\r\n\n\t\t</table>\r\n\n\t</td></tr>\r\n\n-->\r\n\n\t<tr><td>\r\n\n\t\t<table width=\"100%\"><tr>\r\n\n\t\t<td width=\"10%\">\r\n\n\r\n\n\t<input id=submit type=submit value=Submit onmouseover=\"return escape('Press this to submit the query to the server.');\" onclick=\"goToWindow()\">\r\n\n\r\n\n\t\t</td>\r\n\n\t\t<td nowrap class=\"q\" onmouseover=\"return escape('Checking this box will do only a syntax check when you press Submit.  Uncheck and press Submit again when done.');\">&nbsp;\r\n\n\t\t<input TYPE=\"checkbox\" VALUE=\"Syntax\" id=\"syntax\" name=\"syntax\">Check Syntax Only?\r\n\n\t\t</td>\t\r\n\n\t\t<td class='frame'>\r\n\n\t\t\t<table BORDER=0 WIDTH=\"100%\" >\r\n\n\t\t\t  <tr>\r\n\n\t\t\t\t<td ALIGN=left class=\"qtitle\">Output Format</td>\r\n\n\t\t\t\t<td nowrap class=\"q\"><input name=format value=\"html\" type=radio class=\"box\" CHECKED>HTML</td>\r\n\n\t\t\t\t<td nowrap class=\"q\"><input name=format value=\"xml\"  type=radio class=\"box\">XML</td>\r\n\n\t\t\t\t<td nowrap class=\"q\"><input name=format value=\"csv\"  type=radio class=\"box\">CSV</td>\r\n\n        <td nowrap class=\"q\"><input name=format value=\"json\"  type=radio class=\"box\">JSON</td>\r\n\n        <td nowrap class=\"q\"><input name=format value=\"votable\"  type=radio class=\"box\">VOTable</td>\r\n\n        <td nowrap class=\"q\"><input name=format value=\"fits\"  type=radio class=\"box\">FITS</td>\r\n\n\t\t\t\t</tr>\r\n\n\t\t\t</table>\r\n\n\t\t</td>\r\n\n\t\t<td width=\"10%\">\r\n\n\t\t<input TYPE=\"reset\" VALUE=\"Reset \" id=\"reset\" name=\"reset\" color=\"#00FFFF\" onmouseover=\"return escape('Press this to revert the page to initial settings.');\">\r\n\n\t\t</td>\r\n\n\t\t</tr>\r\n\n\t\t</table>\r\n\n\t</td></tr>\r\n\n\t<tr VALIGN=top><td><p>\r\n\n    \r\n\n    <span>\r\n\n    To find out more about the database schema use the \r\n\n    <a target=\"POPUP\" href=\"../../../en/help/browser/browser.aspx\">\r\n\n    Schema Browser</a>.</span>\r\n\n\r\n\n\t<p>\r\n\n\tFor an introduction to the Structured Query Language (SQL), please see \r\n\n\tthe \r\n\n\r\n\n\t\t<a href=\"../../help/howto/search\">Searching for Data</a> How-To tutorial. \r\n\n\t\r\n\n\tIn particular, \r\n\n\tplease read the <a href=\"../../../en/help/docs/sql_help.aspx#optquery\">Optimizing Queries</a> \r\n\n\tsection.\r\n\n  \t<p>\r\n\n\r\n\n\tThe inclusion of the imaging and spectro columns for <a href=\"http://dr12.sdss3.org/\">SAS</a> upload in your query (as in the\r\n\n\tdefault query on this page) will ensure that when you press <b>Submit</b>, the appropriate \r\n\n\tbutton(s) are displayed on the query results page to allow you to upload the necessary \r\n\n\tinformation to the <a href=\"http://dr12.sdss3.org/\">SAS</a> to retrieve the FITS file data corresponding to your CAS query. The \r\n\n\timaging columns needed for upload to the <a href=\"http://dr12.sdss3.org/\">SAS</a> are <i>run</i>, <i>rerun</i>, <i>camcol</i>, and \r\n\n\t<i>field</i>. The spectroscopic columns needed are <i>plate</i>, <i>mjd</i>, <i>fiberid</i>, \r\n\n\tand optionally <i>sprerun</i> (the latter requires a join with the PlateX table). \r\n\n\r\n\n\t</td></tr>\r\n\n\r\n\n  \r\n\n</table>\r\n\n</form>\r\n\n</div>\r\n\n\r\n\n\r\n\n\r\n\n\r\n\n\r\n\n  <script language=\"JavaScript\" type=\"text/javascript\" src=\"../../wz_tooltip.js\"></script>\r\n\n\r\n\n</body>\r\n\n\r\n\n</html>\r\n"
       ]
      }
     ],
     "prompt_number": 19
    },
    {
     "cell_type": "markdown",
     "metadata": {},
     "source": [
      "1.5.5 Galaxies with SDSS Spectroscopic Data\n",
      "\n",
      "Download a value-added catalog of galaxies"
     ]
    },
    {
     "cell_type": "code",
     "collapsed": false,
     "input": [
      "from astroML.datasets import fetch_sdss_specgals\n",
      "\n",
      "data = fetch_sdss_specgals()  #120 MB\n",
      "\n",
      "print data.shape\n",
      "print data.dtype.names[:5]"
     ],
     "language": "python",
     "metadata": {},
     "outputs": []
    },
    {
     "cell_type": "code",
     "collapsed": false,
     "input": [
      "data = data[:10000]\n",
      "\n",
      "u = data['modelMag_u']\n",
      "r = data['modelMag_r']\n",
      "rPetro = data['petroMag_r']\n",
      "\n",
      "ax = plt.axes()\n",
      "ax.scatter(u-r, rPetro, s=4, lw=0.5, c='k')\n",
      "ax.set_xlim(1, 4.5)\n",
      "ax.set_ylim(18.1, 13.5)\n",
      "ax.set_xlabel('$u - r$')\n",
      "ax.set_ylabel('$r_{petrosian}$')"
     ],
     "language": "python",
     "metadata": {},
     "outputs": []
    },
    {
     "cell_type": "markdown",
     "metadata": {},
     "source": [
      "There may be multiple populations hidden in the data above. We will be able to find them later."
     ]
    },
    {
     "cell_type": "markdown",
     "metadata": {},
     "source": [
      "1.5.6 SDSS DR7 Quasar Catalog\n",
      "\n",
      "105,783 spectroscopically confirmed quasars\n",
      "We can investigate quasar colors as a function of redshift - later we will be able to derive quasar redshits from colors (chapters 8-9)"
     ]
    },
    {
     "cell_type": "code",
     "collapsed": false,
     "input": [
      "from astroML.datasets import fetch_dr7_quasar\n",
      "\n",
      "data = fetch_dr7_quasar()\n",
      "\n",
      "print data.shape\n",
      "print data.dtype.names[:5]"
     ],
     "language": "python",
     "metadata": {},
     "outputs": []
    },
    {
     "cell_type": "code",
     "collapsed": false,
     "input": [
      "data = data[:10000]\n",
      "r = data['mag_r']\n",
      "i = data['mag_i']\n",
      "z = data['redshift']\n",
      "\n",
      "ax = plt.axes()\n",
      "ax.scatter(z, r - i, s=4, c='black', linewidth=0.5)\n",
      "ax.set_xlim(0,5)\n",
      "ax.set_ylim(-0.5, 1.0)\n",
      "ax.set_xlabel('redshift')\n",
      "ax.set_ylabel('r - i')"
     ],
     "language": "python",
     "metadata": {},
     "outputs": []
    },
    {
     "cell_type": "markdown",
     "metadata": {},
     "source": [
      "1.5.7 SEGUE Stellar Parameters Pipeline Parameters\n",
      "\n",
      "stellar parameters - effective temp, surface gravity, and metallicity\n",
      "\n",
      "plot surface gravity vs temperature (related to Hertzsprung-Russell Lum-Temp diagram)\n",
      "\n",
      "surface gravity log g ~ 4.44 for Sun."
     ]
    },
    {
     "cell_type": "code",
     "collapsed": false,
     "input": [
      "from astroML.datasets import fetch_sdss_sspp\n",
      "\n",
      "data = fetch_sdss_sspp()\n",
      "\n",
      "print data.shape\n",
      "print data.dtype.names[:5]"
     ],
     "language": "python",
     "metadata": {},
     "outputs": []
    },
    {
     "cell_type": "code",
     "collapsed": false,
     "input": [
      "data = data[:10000]\n",
      "rpsf = data['rpsf']   \n",
      "\n",
      "# Make some reasonable cuts\n",
      "data = data[(rpsf > 15) & (rpsf < 19)]\n",
      "logg = data['logg']\n",
      "Teff = data['Teff']\n",
      "\n",
      "ax = plt.axes()\n",
      "ax.scatter(Teff, logg, s=4, lw=0.5, c='k')\n",
      "ax.set_xlim(8000, 4500)\n",
      "ax.set_ylim(5.1, 1)\n",
      "ax.set_xlabel(r'$\\mathrm{T_{eff}\\ (K)}$')\n",
      "ax.set_ylabel(r'$\\mathrm{log_{10}[g / (cm/s^2)]}$')"
     ],
     "language": "python",
     "metadata": {},
     "outputs": []
    },
    {
     "cell_type": "markdown",
     "metadata": {},
     "source": [
      "1.5.8 SDSS Standard Star Catalog from Stripe 82\n",
      "\n",
      "~300 deg^2, ~1 million stars\n",
      "\n",
      "Two versions of catalog are available from astroML.datasets. First is just SDSS. Second is SDSS-2MASS match. \n",
      "\n",
      "fetch_sdss_S82standards(crossmatch_2mass=True)\n"
     ]
    },
    {
     "cell_type": "code",
     "collapsed": false,
     "input": [
      "from astroML.datasets import fetch_sdss_S82standards\n",
      "data = fetch_sdss_S82standards()\n",
      "\n",
      "print data.shape\n",
      "print data.dtype.names[:5]"
     ],
     "language": "python",
     "metadata": {},
     "outputs": []
    },
    {
     "cell_type": "code",
     "collapsed": false,
     "input": [
      "data = data[:10000]\n",
      "g = data['mmu_g']    # g-band mean magnitude\n",
      "r = data['mmu_r']\n",
      "i = data['mmu_i']\n",
      "\n",
      "ax = plt.axes()\n",
      "ax.scatter(g - r, r - i, s=4, c='black', linewidth=0.5)\n",
      "ax.set_xlabel('g - r')\n",
      "ax.set_ylabel('r - i')"
     ],
     "language": "python",
     "metadata": {},
     "outputs": []
    },
    {
     "cell_type": "markdown",
     "metadata": {},
     "source": [
      "1.5.9 LINEAR Stellar Light Curves\n",
      "\n",
      "From MIT Lincoln Laboratory looking for near-Earth asteroids. The data in the dataset are re-calibrated aided by SDSS. 7000 likely periodic variable stars. "
     ]
    },
    {
     "cell_type": "code",
     "collapsed": false,
     "input": [
      "from astroML.datasets import fetch_LINEAR_sample \n",
      "\n",
      "data = fetch_LINEAR_sample()\n",
      "\n",
      "gr = data.targets['gr']    # g - r color\n",
      "ri = data.targets['ri']    # r - i color\n",
      "logP = data.targets['LP1']    # log_10(period) in days\n",
      "\n",
      "print gr.shape\n",
      "\n",
      "id = data.ids[2756]  # choose one id from sample\n",
      "\n",
      "print id\n",
      "\n",
      "t, mag, dmag = data[id].T    # access light curve data\n",
      "\n",
      "logP = data.get_target_parameter(id, 'LP1')"
     ],
     "language": "python",
     "metadata": {},
     "outputs": []
    },
    {
     "cell_type": "markdown",
     "metadata": {},
     "source": [
      "1.5.10 SDSS Moving Object Catalog\n",
      "\n",
      "4th Moving Object Catalog lists data for ~472,000 Solar system objects\n",
      "\n",
      "Make scatter plot of orbital semimajor axis versus orbital inclination angle.  NB: set a flat to make data quality cuts to increase the measurement quality.\n",
      "\n",
      "Gaps at 2.5, 2.8, and 3.3 AU are called Kirkwood gaps and are due to orbital resonances with Jupiter. Clumps are often called asteroid families, remnants of collisions of larger asteroids. "
     ]
    },
    {
     "cell_type": "code",
     "collapsed": false,
     "input": [
      "from astroML.datasets import fetch_moving_objects\n",
      "\n",
      "data = fetch_moving_objects(Parker2008_cuts = True)\n",
      "\n",
      "print data.shape\n",
      "\n",
      "print data.dtype.names[:5]"
     ],
     "language": "python",
     "metadata": {},
     "outputs": []
    },
    {
     "cell_type": "code",
     "collapsed": false,
     "input": [
      "data = data[:10000]\n",
      "a = data['aprime']\n",
      "sini = data['sin_iprime']\n",
      "\n",
      "ax = plt.axes()\n",
      "ax.scatter(a, sini, s=4, c='black', linewidth=0.5)\n",
      "ax.set_xlabel('Semi-major Axis (AU)')\n",
      "ax.set_ylabel('Sine of Inclination Angle')"
     ],
     "language": "python",
     "metadata": {},
     "outputs": []
    },
    {
     "cell_type": "markdown",
     "metadata": {},
     "source": [
      "# 1.6 Plotting and visualizing the data in this book"
     ]
    },
    {
     "cell_type": "markdown",
     "metadata": {},
     "source": [
      "Visualization is important for investigation, exploratory analysis, and presentation.\n",
      "\n",
      "The Visual Display of Quantitative Information by Tufte\n",
      "\n",
      "Four principles of visualization:\n",
      "\n",
      "1 - present many numbers in a small space\n",
      "\n",
      "2 - make large data sets coherent\n",
      "\n",
      "3 - reveal the data at several levels of detail \n",
      "\n",
      "4 - encourage the eye to compare different pieces of data"
     ]
    },
    {
     "cell_type": "markdown",
     "metadata": {},
     "source": [
      "1.6.1 Plotting Two-Dimensional Representations of Large Data Sets\n",
      "\n",
      "Scatter plots and histograms. Note histograms are statistical problems themselves. \n",
      "\n",
      "Contour plot - successfully show the distribution of dense regions, but lose info in low density regions \n",
      "\n",
      "Combine contour plot with scatter plot (e.g., Michael Strauss from Princeton University). See Fig. 1.9\n",
      "\n",
      "Two-dimensional histogram aka Hess diagram. See Fig. 1.10\n",
      "\n",
      "When points are sparsely sampled, or the density variation is large, there are better methods that the Hess diagram. "
     ]
    },
    {
     "cell_type": "markdown",
     "metadata": {},
     "source": [
      "1.6.2 Plotting in Higher Dimensions\n",
      "\n",
      "Sometimes we have many dimensions of data. For example, we can as whether two-dimensional color information for asteroids is correlated with their orbital semimajor axis and inclination, or whether the color and luminosity of galaxies are correlated with their position in a spectral emission-line diagram. \n",
      "\n",
      "Four vectors (x, y, z, w). Define a continuous color palette assigning a color to each data pair. See Fig. 1.12.\n",
      "\n",
      "For higher dimensional problems, seek various low-dimensional projections. Use \"dimensionality reduction\" techniques. ---- I know PCA is a dimensionality reduction technique. \n",
      "\n"
     ]
    },
    {
     "cell_type": "markdown",
     "metadata": {},
     "source": [
      "1.6.3 Plotting Representations of Data on the Sky\n",
      "\n",
      "Mercator projection - \n",
      "Lines of constant true compass bearing (loxodromes or rhumb lines) are straight line segments, but distorts the size of map features. \n",
      "\n",
      "Tissot's indicatrix - size of circles projected onto map. \n",
      "\n",
      "Some projections preserve feature size - \"equal-area\" projections\n",
      "\n",
      "Hammer projection - equal-area\n",
      "\n",
      "Aitoff projection - equal-distance \n",
      "\n",
      "Scaled so twice as much equitorial distance as polar distance. \n",
      "\n",
      "Mollweide projection - equal-area, like Hammer, but with straight parallels of latitude. \n",
      "\n",
      "Lambert projection - azimuthal equal-area projection\n",
      "\n",
      "Can be plotted using the \"projection\" keyword in Matplotlib\n",
      "\n",
      "HEALPix (Hierarchical Equal Area isoLatitude Pixelization) subdivides a sphere into equal-area pixels. see HealPy for python version of code.\n"
     ]
    },
    {
     "cell_type": "markdown",
     "metadata": {},
     "source": [
      "#1.7 How to efficiently use this book"
     ]
    },
    {
     "cell_type": "markdown",
     "metadata": {},
     "source": [
      "Chapters 2-5 statistical background\n",
      "\n",
      "Chapters 6-10 data mining and machine learning\n",
      "\n",
      "Download, modify, and experiment with source code for the figures in this text. "
     ]
    },
    {
     "cell_type": "markdown",
     "metadata": {},
     "source": [
      "#Figure 1.13"
     ]
    },
    {
     "cell_type": "code",
     "collapsed": false,
     "input": [
      "# Author: Jake VanderPlas\n",
      "# License: BSD\n",
      "#   The figure produced by this code is published in the textbook\n",
      "#   \"Statistics, Data Mining, and Machine Learning in Astronomy\" (2013)\n",
      "#   For more information, see http://astroML.github.com\n",
      "#   To report a bug or issue, use the following forum:\n",
      "#    https://groups.google.com/forum/#!forum/astroml-general\n",
      "import numpy as np\n",
      "from matplotlib import pyplot as plt\n",
      "from astroML.plotting import plot_tissot_ellipse\n",
      "\n",
      "#----------------------------------------------------------------------\n",
      "# This function adjusts matplotlib settings for a uniform feel in the textbook.\n",
      "# Note that with usetex=True, fonts are rendered with LaTeX.  This may\n",
      "# result in an error if LaTeX is not installed on your system.  In that case,\n",
      "# you can set usetex to False.\n",
      "from astroML.plotting import setup_text_plots\n",
      "setup_text_plots(fontsize=12, usetex=True)\n",
      "\n",
      "\n",
      "#------------------------------------------------------------\n",
      "# generate a latitude/longitude grid\n",
      "circ_long = np.linspace(-np.pi, np.pi, 13)[1:-1]\n",
      "circ_lat = np.linspace(-np.pi / 2, np.pi / 2, 7)[1:-1]\n",
      "radius = 10 * np.pi / 180.\n",
      "\n",
      "\n",
      "\n",
      "#------------------------------------------------------------\n",
      "# plot Mercator projection: we need to set this up manually\n",
      "def mercator_axes():\n",
      "    ax = plt.axes(aspect=1.0)\n",
      "    ax.set_xticks(np.pi / 6 * np.linspace(-5, 5, 11))\n",
      "    ax.set_yticks(np.pi / 12 * np.linspace(-5, 5, 11))\n",
      "    for axy in (ax.xaxis, ax.yaxis):\n",
      "        axy.set_major_formatter(plt.FuncFormatter(lambda s, a: r'$%i^\\circ$'\n",
      "                                                  % np.round(s * 180 / np.pi)))\n",
      "    ax.set_xlim(-np.pi, np.pi)\n",
      "    ax.set_ylim(-np.pi / 2, np.pi / 2)\n",
      "\n",
      "    return ax\n",
      "\n",
      "plt.figure(figsize=(5, 3.75))\n",
      "ax = mercator_axes()\n",
      "ax.grid(True)\n",
      "plot_tissot_ellipse(circ_long[:, None], circ_lat, radius,\n",
      "                    ax=ax, fc='k', alpha=0.3, lw=0)\n",
      "ax.set_title('Mercator projection')\n",
      "\n",
      "plt.show()"
     ],
     "language": "python",
     "metadata": {},
     "outputs": [
      {
       "output_type": "display_data",
       "png": "[encoded data removed]"
      }
     ],
     "prompt_number": 5
    },
    {
     "cell_type": "markdown",
     "metadata": {},
     "source": [
      "#Figure 1.14"
     ]
    },
    {
     "cell_type": "code",
     "collapsed": false,
     "input": [
      "# Author: Jake VanderPlas\n",
      "# License: BSD\n",
      "#   The figure produced by this code is published in the textbook\n",
      "#   \"Statistics, Data Mining, and Machine Learning in Astronomy\" (2013)\n",
      "#   For more information, see http://astroML.github.com\n",
      "#   To report a bug or issue, use the following forum:\n",
      "#    https://groups.google.com/forum/#!forum/astroml-general\n",
      "import numpy as np\n",
      "from matplotlib import pyplot as plt\n",
      "from astroML.plotting import plot_tissot_ellipse\n",
      "\n",
      "#----------------------------------------------------------------------\n",
      "# This function adjusts matplotlib settings for a uniform feel in the textbook.\n",
      "# Note that with usetex=True, fonts are rendered with LaTeX.  This may\n",
      "# result in an error if LaTeX is not installed on your system.  In that case,\n",
      "# you can set usetex to False.\n",
      "from astroML.plotting import setup_text_plots\n",
      "setup_text_plots(fontsize=12, usetex=True)\n",
      "\n",
      "#------------------------------------------------------------\n",
      "# generate a latitude/longitude grid\n",
      "circ_long = np.linspace(-np.pi, np.pi, 13)[1:-1]\n",
      "circ_lat = np.linspace(-np.pi / 2, np.pi / 2, 7)[1:-1]\n",
      "radius = 10 * np.pi / 180.\n",
      "\n",
      "#------------------------------------------------------------\n",
      "# Plot the built-in projections\n",
      "plt.figure(figsize=(5, 4))\n",
      "plt.subplots_adjust(hspace=0, wspace=0.12,\n",
      "                    left=0.08, right=0.95,\n",
      "                    bottom=0.05, top=1.0)\n",
      "\n",
      "for (i, projection) in enumerate(['Hammer', 'Aitoff', 'Mollweide', 'Lambert']):\n",
      "    ax = plt.subplot(221 + i, projection=projection.lower())\n",
      "\n",
      "    ax.xaxis.set_major_locator(plt.FixedLocator(np.pi / 3\n",
      "                                                * np.linspace(-2, 2, 5)))\n",
      "    ax.xaxis.set_minor_locator(plt.FixedLocator(np.pi / 6\n",
      "                                                * np.linspace(-5, 5, 11)))\n",
      "    ax.yaxis.set_major_locator(plt.FixedLocator(np.pi / 6\n",
      "                                                * np.linspace(-2, 2, 5)))\n",
      "    ax.yaxis.set_minor_locator(plt.FixedLocator(np.pi / 12\n",
      "                                                * np.linspace(-5, 5, 11)))\n",
      "\n",
      "    ax.grid(True, which='minor')\n",
      "\n",
      "    plot_tissot_ellipse(circ_long[:, None], circ_lat, radius,\n",
      "                        ax=ax, fc='k', alpha=0.3, linewidth=0)\n",
      "    ax.set_title('%s projection' % projection)\n",
      "\n",
      "plt.show()"
     ],
     "language": "python",
     "metadata": {},
     "outputs": [
      {
       "output_type": "display_data",
       "png": "[encoded data removed]"
      }
     ],
     "prompt_number": 6
    },
    {
     "cell_type": "markdown",
     "metadata": {},
     "source": [
      "#Figure 1.15"
     ]
    },
    {
     "cell_type": "code",
     "collapsed": false,
     "input": [
      "# Author: Jake VanderPlas\n",
      "# License: BSD\n",
      "#   The figure produced by this code is published in the textbook\n",
      "#   \"Statistics, Data Mining, and Machine Learning in Astronomy\" (2013)\n",
      "#   For more information, see http://astroML.github.com\n",
      "#   To report a bug or issue, use the following forum:\n",
      "#    https://groups.google.com/forum/#!forum/astroml-general\n",
      "import numpy as np\n",
      "from matplotlib import pyplot as plt\n",
      "# warning: due to a bug in healpy, importing it before pylab can cause\n",
      "#  a segmentation fault in some circumstances.\n",
      "import healpy as hp\n",
      "\n",
      "from astroML.datasets import fetch_wmap_temperatures\n",
      "\n",
      "#----------------------------------------------------------------------\n",
      "# This function adjusts matplotlib settings for a uniform feel in the textbook.\n",
      "# Note that with usetex=True, fonts are rendered with LaTeX.  This may\n",
      "# result in an error if LaTeX is not installed on your system.  In that case,\n",
      "# you can set usetex to False.\n",
      "from astroML.plotting import setup_text_plots\n",
      "setup_text_plots(fontsize=12, usetex=True)\n",
      "\n",
      "#------------------------------------------------------------\n",
      "# First plot an example pixellization\n",
      "\n",
      "# Prepare the healpix pixels\n",
      "NSIDE = 4\n",
      "m = np.arange(hp.nside2npix(NSIDE))\n",
      "print \"number of pixels:\", len(m)\n",
      "\n",
      "# Plot the pixelization\n",
      "fig = plt.figure(1, figsize=(5, 3.75))\n",
      "hp.mollview(m, nest=True, title=\"HEALPix Pixels (Mollweide)\", fig=1)\n",
      "\n",
      "# remove colorbar: we don't need it for this plot\n",
      "fig.delaxes(fig.axes[1])\n",
      "\n",
      "#------------------------------------------------------------\n",
      "# Next plot the wmap pixellization\n",
      "wmap_unmasked = fetch_wmap_temperatures(masked=False)\n",
      "\n",
      "# plot the unmasked map\n",
      "fig = plt.figure(2, figsize=(5, 3.75))\n",
      "hp.mollview(wmap_unmasked, min=-1, max=1, title='Raw WMAP data',\n",
      "            unit=r'$\\Delta$T (mK)', fig=2)\n",
      "fig.axes[1].texts[0].set_fontsize(8)\n",
      "\n",
      "plt.show()\n"
     ],
     "language": "python",
     "metadata": {},
     "outputs": []
    },
    {
     "cell_type": "code",
     "collapsed": false,
     "input": [],
     "language": "python",
     "metadata": {},
     "outputs": []
    }
   ],
   "metadata": {}
  }
 ]
}