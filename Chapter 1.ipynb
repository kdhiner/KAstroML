{
 "metadata": {
  "name": "Chapter 1"
 },
 "nbformat": 3,
 "nbformat_minor": 0,
 "worksheets": [
  {
   "cells": [
    {
     "cell_type": "markdown",
     "metadata": {},
     "source": [
      "# Chapter 1: About the Book and Supporting Meterial \n",
      "\n",
      "This notebook covers chapter 1 of the AstroML book"
     ]
    },
    {
     "cell_type": "markdown",
     "metadata": {},
     "source": [
      "# 1.1 What do Data Mining, Machine Learning, and Knowledge Discovery mean?"
     ]
    },
    {
     "cell_type": "markdown",
     "metadata": {},
     "source": [
      "Data Mining - analysizing and describing structured data, e.g., finding patterns in large data sets. \"Knowledge discovery\" is often used interchangeably with \"data mining\".\n",
      "\n",
      "Machine Learning - umbrella term for a set of techniques for interpreting data by comparing them to models for data behavior. \n"
     ]
    },
    {
     "cell_type": "markdown",
     "metadata": {},
     "source": [
      "#1.2 What is this book about?"
     ]
    },
    {
     "cell_type": "markdown",
     "metadata": {},
     "source": [
      "Extracting knowledge from data.\n",
      "\n",
      "Random variables, x, can be real numbers (e.g., stellar brightness), discrete values (e.g., stellar spectral type), or NaNs.\n",
      "\n",
      "How to estimate the distribution h(x) from which values x are drawn. h(x) -- the probability that a value lies between x and x+dx, and is called the probabilty density function (pdf). \n",
      "\n",
      "parametric models e.g., Gaussian. Non-parametric models e.g., superposition of many small Gaussians, histogram\n",
      "\n",
      "Integral H(x) = int[h(x')dx'] is called the cumulative distribution function. (inverse = quantile function)\n",
      "\n",
      "h(x) -- true/intrinsic (\"population pdf\")\n",
      "\n",
      "f(x) -- data-derived estimate (\"emperical pdf\")\n",
      "\n",
      "e(x) -- uncertainty on measurement/error distribution\n",
      "\n",
      "mu -- true value of x\n",
      "\n",
      "heteroscedastic - error distribution is different for each measurement, x\n",
      "\n",
      "homoscedastic - error distribution is the same for each measurement, x\n",
      "\n",
      "f(x) may be borad or have defined dispersion because of measurement errors on x while sampling a true value of mu. However, f(x) may also be broad even if e(x) is small, because intrinsic h(x) is broad.\n",
      "\n",
      "This book is about how to estimate the empirical pdf f(x) from data, how to statistically describe the estimate and its uncertainty, how to compare it to models specified via h(x), and how to use this knowledge to interpret additional measurements.\n"
     ]
    },
    {
     "cell_type": "markdown",
     "metadata": {},
     "source": [
      "#1.3 An incomplete survey of the relevant literature"
     ]
    },
    {
     "cell_type": "markdown",
     "metadata": {},
     "source": [
      "Numerical Recipes by Press, Teukolsky, Veterling, and Flannery\n",
      "\n",
      "The Elements of Statistical Learning: Data Mining, Inference, and Prediction by Hastie, Tibshirani, and Friedman\n",
      "\n",
      "All of Nonparametric Statistics and All of Statistics: A Concise Course in Statistical Inference by Wasserman\n",
      "\n",
      "Statistics in Theory and Practice by Lupton\n",
      "\n",
      "Practical Statistics for Astronomers by Wall and Jenkins \n",
      "\n",
      "Statistics: A Guide to the Use of Statistical Methods in the Physical Sciences by Barlow (good for beginners)\n",
      "\n",
      "Data Analysis: A Bayesian Tutorial by Sivia (highly recommended)\n",
      "\n",
      "Bayesian Logical Data Analysis for the Physical Sciences by Gregory\n",
      "\n",
      "Probability Theory: The Logic of Science by Jaynes\n",
      "\n",
      "Bayesian Methods in Cosmology ed by Hobson, Jaffe, Mukherjee, and Parkinson\n",
      "\n",
      "etc. "
     ]
    },
    {
     "cell_type": "markdown",
     "metadata": {},
     "source": [
      "#1.4 Introduction to the python language and the git code management tool"
     ]
    },
    {
     "cell_type": "markdown",
     "metadata": {},
     "source": [
      "Material in this book is supported by code available from http://www.astroML.org\n",
      "\n",
      "1.4.1 Python\n",
      "\n",
      "Open-source, object-oriented interpreted language. Dependencies - Numpy, SciPy, Matplotlib, AstroML, Scikit-learn, PyMC, HealPy.\n",
      "\n",
      "See AstroPython site for community knowledge base. AstroPy is similar and focuses on developing a core Python package for astronomers. \n",
      "\n",
      "1.4.2 Code Management with Git\n",
      "\n",
      "Freely avalable management tools: CVS, SVN, Bazaar, Mercurial, and Git."
     ]
    },
    {
     "cell_type": "markdown",
     "metadata": {},
     "source": [
      "#1.5 Description of surveys and data sets used in examples"
     ]
    },
    {
     "cell_type": "markdown",
     "metadata": {},
     "source": [
      "AstroML contains data loaders - may need space on computer to download data.\n",
      "\n",
      "1.5.1 AstroML Data Set Tools\n",
      "\n",
      "astroML.datasets - access data via http\n",
      "\n",
      "fetch_imaging_sample will return local sample if already downloaded, or download it."
     ]
    },
    {
     "cell_type": "code",
     "collapsed": false,
     "input": [
      "import astroML.datasets\n",
      "astroML.datasets.<TAB>"
     ],
     "language": "python",
     "metadata": {},
     "outputs": [],
     "prompt_number": 2
    },
    {
     "cell_type": "markdown",
     "metadata": {},
     "source": [
      "1.5.2 Overview of Available Data Sets\n",
      "\n",
      "SDSS DR7 - 357 million unique sources detected in 12,000 sq. deg of sky. Faint limit is r ~ 22.5 mag. \n",
      "\n",
      "Spectra - R ~ 2000, 3800-9200 A, 1.6 million spectra, 900,000 galaxies, 120,000 quasars, 460,000 stars. \n",
      "\n",
      "Stripe 82 - provides time domain for one patch of sky\n",
      "\n",
      "CAS - SQL search engine\n",
      "\n",
      "2MASS 1.2 - 2.2 micron\n",
      "\n",
      "LINEAR - time-domain for variable stars\n",
      "\n",
      "LIGO - simulated data of gravitational waves"
     ]
    }
   ],
   "metadata": {}
  }
 ]
}